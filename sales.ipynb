{
 "cells": [
  {
   "cell_type": "code",
   "execution_count": 2,
   "id": "78accd11",
   "metadata": {},
   "outputs": [],
   "source": [
    "import numpy as np\n",
    "import pandas as pd\n",
    "import seaborn as sns\n",
    "import plotly.express as px\n",
    "import matplotlib.pyplot as plt"
   ]
  },
  {
   "cell_type": "code",
   "execution_count": 3,
   "id": "620d5ac9",
   "metadata": {},
   "outputs": [
    {
     "data": {
      "text/html": [
       "<div>\n",
       "<style scoped>\n",
       "    .dataframe tbody tr th:only-of-type {\n",
       "        vertical-align: middle;\n",
       "    }\n",
       "\n",
       "    .dataframe tbody tr th {\n",
       "        vertical-align: top;\n",
       "    }\n",
       "\n",
       "    .dataframe thead th {\n",
       "        text-align: right;\n",
       "    }\n",
       "</style>\n",
       "<table border=\"1\" class=\"dataframe\">\n",
       "  <thead>\n",
       "    <tr style=\"text-align: right;\">\n",
       "      <th></th>\n",
       "      <th>Order ID</th>\n",
       "      <th>Amount</th>\n",
       "      <th>Profit</th>\n",
       "      <th>Quantity</th>\n",
       "      <th>Category</th>\n",
       "      <th>Sub-Category</th>\n",
       "      <th>PaymentMode</th>\n",
       "      <th>Order Date</th>\n",
       "      <th>CustomerName</th>\n",
       "      <th>State</th>\n",
       "      <th>City</th>\n",
       "      <th>Year-Month</th>\n",
       "    </tr>\n",
       "  </thead>\n",
       "  <tbody>\n",
       "    <tr>\n",
       "      <th>629</th>\n",
       "      <td>B-26684</td>\n",
       "      <td>7434</td>\n",
       "      <td>2851</td>\n",
       "      <td>5</td>\n",
       "      <td>Office Supplies</td>\n",
       "      <td>Markers</td>\n",
       "      <td>UPI</td>\n",
       "      <td>2022-12-12</td>\n",
       "      <td>Jesse Bond</td>\n",
       "      <td>Illinois</td>\n",
       "      <td>Springfield</td>\n",
       "      <td>2022-12</td>\n",
       "    </tr>\n",
       "    <tr>\n",
       "      <th>778</th>\n",
       "      <td>B-25330</td>\n",
       "      <td>2957</td>\n",
       "      <td>917</td>\n",
       "      <td>16</td>\n",
       "      <td>Office Supplies</td>\n",
       "      <td>Pens</td>\n",
       "      <td>Debit Card</td>\n",
       "      <td>2024-11-17</td>\n",
       "      <td>Katrina Wood</td>\n",
       "      <td>Illinois</td>\n",
       "      <td>Chicago</td>\n",
       "      <td>2024-11</td>\n",
       "    </tr>\n",
       "    <tr>\n",
       "      <th>717</th>\n",
       "      <td>B-25830</td>\n",
       "      <td>3839</td>\n",
       "      <td>1415</td>\n",
       "      <td>10</td>\n",
       "      <td>Office Supplies</td>\n",
       "      <td>Binders</td>\n",
       "      <td>UPI</td>\n",
       "      <td>2023-10-17</td>\n",
       "      <td>Vincent Roth</td>\n",
       "      <td>California</td>\n",
       "      <td>Los Angeles</td>\n",
       "      <td>2023-10</td>\n",
       "    </tr>\n",
       "    <tr>\n",
       "      <th>598</th>\n",
       "      <td>B-26191</td>\n",
       "      <td>8994</td>\n",
       "      <td>1481</td>\n",
       "      <td>15</td>\n",
       "      <td>Electronics</td>\n",
       "      <td>Phones</td>\n",
       "      <td>Credit Card</td>\n",
       "      <td>2020-06-21</td>\n",
       "      <td>James Bonilla</td>\n",
       "      <td>California</td>\n",
       "      <td>San Diego</td>\n",
       "      <td>2020-06</td>\n",
       "    </tr>\n",
       "    <tr>\n",
       "      <th>542</th>\n",
       "      <td>B-25962</td>\n",
       "      <td>4202</td>\n",
       "      <td>1171</td>\n",
       "      <td>3</td>\n",
       "      <td>Office Supplies</td>\n",
       "      <td>Markers</td>\n",
       "      <td>COD</td>\n",
       "      <td>2022-10-31</td>\n",
       "      <td>Donald Moore</td>\n",
       "      <td>New York</td>\n",
       "      <td>Rochester</td>\n",
       "      <td>2022-10</td>\n",
       "    </tr>\n",
       "  </tbody>\n",
       "</table>\n",
       "</div>"
      ],
      "text/plain": [
       "    Order ID  Amount  Profit  Quantity         Category Sub-Category  \\\n",
       "629  B-26684    7434    2851         5  Office Supplies      Markers   \n",
       "778  B-25330    2957     917        16  Office Supplies         Pens   \n",
       "717  B-25830    3839    1415        10  Office Supplies      Binders   \n",
       "598  B-26191    8994    1481        15      Electronics       Phones   \n",
       "542  B-25962    4202    1171         3  Office Supplies      Markers   \n",
       "\n",
       "     PaymentMode  Order Date   CustomerName       State         City  \\\n",
       "629          UPI  2022-12-12     Jesse Bond    Illinois  Springfield   \n",
       "778   Debit Card  2024-11-17   Katrina Wood    Illinois      Chicago   \n",
       "717          UPI  2023-10-17   Vincent Roth  California  Los Angeles   \n",
       "598  Credit Card  2020-06-21  James Bonilla  California    San Diego   \n",
       "542          COD  2022-10-31   Donald Moore    New York    Rochester   \n",
       "\n",
       "    Year-Month  \n",
       "629    2022-12  \n",
       "778    2024-11  \n",
       "717    2023-10  \n",
       "598    2020-06  \n",
       "542    2022-10  "
      ]
     },
     "execution_count": 3,
     "metadata": {},
     "output_type": "execute_result"
    }
   ],
   "source": [
    "# load data \n",
    "df = pd.read_csv('Sales Dataset.csv')\n",
    "df.sample(5)"
   ]
  },
  {
   "cell_type": "markdown",
   "id": "ceb35611",
   "metadata": {},
   "source": [
    "# Cleaning data"
   ]
  },
  {
   "cell_type": "code",
   "execution_count": 4,
   "id": "ecb56305",
   "metadata": {},
   "outputs": [
    {
     "data": {
      "text/plain": [
       "(1194, 12)"
      ]
     },
     "execution_count": 4,
     "metadata": {},
     "output_type": "execute_result"
    }
   ],
   "source": [
    "df.shape"
   ]
  },
  {
   "cell_type": "code",
   "execution_count": 5,
   "id": "ae9a3d36",
   "metadata": {},
   "outputs": [
    {
     "data": {
      "text/plain": [
       "Index(['Order ID', 'Amount', 'Profit', 'Quantity', 'Category', 'Sub-Category',\n",
       "       'PaymentMode', 'Order Date', 'CustomerName', 'State', 'City',\n",
       "       'Year-Month'],\n",
       "      dtype='object')"
      ]
     },
     "execution_count": 5,
     "metadata": {},
     "output_type": "execute_result"
    }
   ],
   "source": [
    "df.columns"
   ]
  },
  {
   "cell_type": "code",
   "execution_count": 6,
   "id": "ddcb57a8",
   "metadata": {},
   "outputs": [
    {
     "name": "stdout",
     "output_type": "stream",
     "text": [
      "<class 'pandas.core.frame.DataFrame'>\n",
      "RangeIndex: 1194 entries, 0 to 1193\n",
      "Data columns (total 12 columns):\n",
      " #   Column        Non-Null Count  Dtype \n",
      "---  ------        --------------  ----- \n",
      " 0   Order ID      1194 non-null   object\n",
      " 1   Amount        1194 non-null   int64 \n",
      " 2   Profit        1194 non-null   int64 \n",
      " 3   Quantity      1194 non-null   int64 \n",
      " 4   Category      1194 non-null   object\n",
      " 5   Sub-Category  1194 non-null   object\n",
      " 6   PaymentMode   1194 non-null   object\n",
      " 7   Order Date    1194 non-null   object\n",
      " 8   CustomerName  1194 non-null   object\n",
      " 9   State         1194 non-null   object\n",
      " 10  City          1194 non-null   object\n",
      " 11  Year-Month    1194 non-null   object\n",
      "dtypes: int64(3), object(9)\n",
      "memory usage: 112.1+ KB\n"
     ]
    }
   ],
   "source": [
    "df.info()"
   ]
  },
  {
   "cell_type": "code",
   "execution_count": 7,
   "id": "010a5bd1",
   "metadata": {},
   "outputs": [
    {
     "data": {
      "text/html": [
       "<div>\n",
       "<style scoped>\n",
       "    .dataframe tbody tr th:only-of-type {\n",
       "        vertical-align: middle;\n",
       "    }\n",
       "\n",
       "    .dataframe tbody tr th {\n",
       "        vertical-align: top;\n",
       "    }\n",
       "\n",
       "    .dataframe thead th {\n",
       "        text-align: right;\n",
       "    }\n",
       "</style>\n",
       "<table border=\"1\" class=\"dataframe\">\n",
       "  <thead>\n",
       "    <tr style=\"text-align: right;\">\n",
       "      <th></th>\n",
       "      <th>Amount</th>\n",
       "      <th>Profit</th>\n",
       "      <th>Quantity</th>\n",
       "    </tr>\n",
       "  </thead>\n",
       "  <tbody>\n",
       "    <tr>\n",
       "      <th>count</th>\n",
       "      <td>1194.000000</td>\n",
       "      <td>1194.000000</td>\n",
       "      <td>1194.000000</td>\n",
       "    </tr>\n",
       "    <tr>\n",
       "      <th>mean</th>\n",
       "      <td>5178.089615</td>\n",
       "      <td>1348.992462</td>\n",
       "      <td>10.674204</td>\n",
       "    </tr>\n",
       "    <tr>\n",
       "      <th>std</th>\n",
       "      <td>2804.921955</td>\n",
       "      <td>1117.992573</td>\n",
       "      <td>5.777102</td>\n",
       "    </tr>\n",
       "    <tr>\n",
       "      <th>min</th>\n",
       "      <td>508.000000</td>\n",
       "      <td>50.000000</td>\n",
       "      <td>1.000000</td>\n",
       "    </tr>\n",
       "    <tr>\n",
       "      <th>25%</th>\n",
       "      <td>2799.000000</td>\n",
       "      <td>410.000000</td>\n",
       "      <td>6.000000</td>\n",
       "    </tr>\n",
       "    <tr>\n",
       "      <th>50%</th>\n",
       "      <td>5152.000000</td>\n",
       "      <td>1014.000000</td>\n",
       "      <td>11.000000</td>\n",
       "    </tr>\n",
       "    <tr>\n",
       "      <th>75%</th>\n",
       "      <td>7626.000000</td>\n",
       "      <td>2035.000000</td>\n",
       "      <td>16.000000</td>\n",
       "    </tr>\n",
       "    <tr>\n",
       "      <th>max</th>\n",
       "      <td>9992.000000</td>\n",
       "      <td>4930.000000</td>\n",
       "      <td>20.000000</td>\n",
       "    </tr>\n",
       "  </tbody>\n",
       "</table>\n",
       "</div>"
      ],
      "text/plain": [
       "            Amount       Profit     Quantity\n",
       "count  1194.000000  1194.000000  1194.000000\n",
       "mean   5178.089615  1348.992462    10.674204\n",
       "std    2804.921955  1117.992573     5.777102\n",
       "min     508.000000    50.000000     1.000000\n",
       "25%    2799.000000   410.000000     6.000000\n",
       "50%    5152.000000  1014.000000    11.000000\n",
       "75%    7626.000000  2035.000000    16.000000\n",
       "max    9992.000000  4930.000000    20.000000"
      ]
     },
     "execution_count": 7,
     "metadata": {},
     "output_type": "execute_result"
    }
   ],
   "source": [
    "df.describe()"
   ]
  },
  {
   "cell_type": "code",
   "execution_count": 8,
   "id": "ed120adc",
   "metadata": {},
   "outputs": [
    {
     "data": {
      "text/plain": [
       "Order ID        0\n",
       "Amount          0\n",
       "Profit          0\n",
       "Quantity        0\n",
       "Category        0\n",
       "Sub-Category    0\n",
       "PaymentMode     0\n",
       "Order Date      0\n",
       "CustomerName    0\n",
       "State           0\n",
       "City            0\n",
       "Year-Month      0\n",
       "dtype: int64"
      ]
     },
     "execution_count": 8,
     "metadata": {},
     "output_type": "execute_result"
    }
   ],
   "source": [
    "df.isna().sum()"
   ]
  },
  {
   "cell_type": "code",
   "execution_count": 9,
   "id": "e2a0a265",
   "metadata": {},
   "outputs": [
    {
     "data": {
      "text/plain": [
       "np.int64(0)"
      ]
     },
     "execution_count": 9,
     "metadata": {},
     "output_type": "execute_result"
    }
   ],
   "source": [
    "df.duplicated().sum()"
   ]
  },
  {
   "cell_type": "markdown",
   "id": "69ced5ff",
   "metadata": {},
   "source": [
    "# Data Pre_processing"
   ]
  },
  {
   "cell_type": "code",
   "execution_count": 10,
   "id": "c7246aa0",
   "metadata": {},
   "outputs": [
    {
     "data": {
      "text/html": [
       "<div>\n",
       "<style scoped>\n",
       "    .dataframe tbody tr th:only-of-type {\n",
       "        vertical-align: middle;\n",
       "    }\n",
       "\n",
       "    .dataframe tbody tr th {\n",
       "        vertical-align: top;\n",
       "    }\n",
       "\n",
       "    .dataframe thead th {\n",
       "        text-align: right;\n",
       "    }\n",
       "</style>\n",
       "<table border=\"1\" class=\"dataframe\">\n",
       "  <thead>\n",
       "    <tr style=\"text-align: right;\">\n",
       "      <th></th>\n",
       "      <th>Order ID</th>\n",
       "      <th>Amount</th>\n",
       "      <th>Profit</th>\n",
       "      <th>Quantity</th>\n",
       "      <th>Category</th>\n",
       "      <th>Sub-Category</th>\n",
       "      <th>PaymentMode</th>\n",
       "      <th>Order Date</th>\n",
       "      <th>CustomerName</th>\n",
       "      <th>State</th>\n",
       "      <th>City</th>\n",
       "      <th>Year-Month</th>\n",
       "    </tr>\n",
       "  </thead>\n",
       "  <tbody>\n",
       "    <tr>\n",
       "      <th>934</th>\n",
       "      <td>B-25043</td>\n",
       "      <td>2727</td>\n",
       "      <td>663</td>\n",
       "      <td>8</td>\n",
       "      <td>Electronics</td>\n",
       "      <td>Phones</td>\n",
       "      <td>Credit Card</td>\n",
       "      <td>2022-11-07</td>\n",
       "      <td>Austin Hammond</td>\n",
       "      <td>Florida</td>\n",
       "      <td>Miami</td>\n",
       "      <td>2022-11</td>\n",
       "    </tr>\n",
       "    <tr>\n",
       "      <th>1170</th>\n",
       "      <td>B-25794</td>\n",
       "      <td>7417</td>\n",
       "      <td>1334</td>\n",
       "      <td>16</td>\n",
       "      <td>Furniture</td>\n",
       "      <td>Bookcases</td>\n",
       "      <td>COD</td>\n",
       "      <td>2021-10-05</td>\n",
       "      <td>Amber Flowers</td>\n",
       "      <td>Florida</td>\n",
       "      <td>Tampa</td>\n",
       "      <td>2021-10</td>\n",
       "    </tr>\n",
       "    <tr>\n",
       "      <th>13</th>\n",
       "      <td>B-25426</td>\n",
       "      <td>7626</td>\n",
       "      <td>1046</td>\n",
       "      <td>15</td>\n",
       "      <td>Furniture</td>\n",
       "      <td>Sofas</td>\n",
       "      <td>Credit Card</td>\n",
       "      <td>2020-05-04</td>\n",
       "      <td>Mary Taylor</td>\n",
       "      <td>Florida</td>\n",
       "      <td>Orlando</td>\n",
       "      <td>2020-05</td>\n",
       "    </tr>\n",
       "    <tr>\n",
       "      <th>988</th>\n",
       "      <td>B-26279</td>\n",
       "      <td>3194</td>\n",
       "      <td>534</td>\n",
       "      <td>4</td>\n",
       "      <td>Office Supplies</td>\n",
       "      <td>Binders</td>\n",
       "      <td>UPI</td>\n",
       "      <td>2020-07-12</td>\n",
       "      <td>Kristin Alvarez</td>\n",
       "      <td>Illinois</td>\n",
       "      <td>Springfield</td>\n",
       "      <td>2020-07</td>\n",
       "    </tr>\n",
       "    <tr>\n",
       "      <th>408</th>\n",
       "      <td>B-26743</td>\n",
       "      <td>7684</td>\n",
       "      <td>1157</td>\n",
       "      <td>12</td>\n",
       "      <td>Furniture</td>\n",
       "      <td>Sofas</td>\n",
       "      <td>COD</td>\n",
       "      <td>2023-08-21</td>\n",
       "      <td>Pamela Callahan DVM</td>\n",
       "      <td>Ohio</td>\n",
       "      <td>Columbus</td>\n",
       "      <td>2023-08</td>\n",
       "    </tr>\n",
       "  </tbody>\n",
       "</table>\n",
       "</div>"
      ],
      "text/plain": [
       "     Order ID  Amount  Profit  Quantity         Category Sub-Category  \\\n",
       "934   B-25043    2727     663         8      Electronics       Phones   \n",
       "1170  B-25794    7417    1334        16        Furniture    Bookcases   \n",
       "13    B-25426    7626    1046        15        Furniture        Sofas   \n",
       "988   B-26279    3194     534         4  Office Supplies      Binders   \n",
       "408   B-26743    7684    1157        12        Furniture        Sofas   \n",
       "\n",
       "      PaymentMode  Order Date         CustomerName     State         City  \\\n",
       "934   Credit Card  2022-11-07       Austin Hammond   Florida        Miami   \n",
       "1170          COD  2021-10-05        Amber Flowers   Florida        Tampa   \n",
       "13    Credit Card  2020-05-04          Mary Taylor   Florida      Orlando   \n",
       "988           UPI  2020-07-12      Kristin Alvarez  Illinois  Springfield   \n",
       "408           COD  2023-08-21  Pamela Callahan DVM      Ohio     Columbus   \n",
       "\n",
       "     Year-Month  \n",
       "934     2022-11  \n",
       "1170    2021-10  \n",
       "13      2020-05  \n",
       "988     2020-07  \n",
       "408     2023-08  "
      ]
     },
     "execution_count": 10,
     "metadata": {},
     "output_type": "execute_result"
    }
   ],
   "source": [
    "df.sample(5)"
   ]
  },
  {
   "cell_type": "code",
   "execution_count": 11,
   "id": "4986c71c",
   "metadata": {},
   "outputs": [
    {
     "data": {
      "text/plain": [
       "Category\n",
       "Furniture          407\n",
       "Office Supplies    399\n",
       "Electronics        388\n",
       "Name: count, dtype: int64"
      ]
     },
     "execution_count": 11,
     "metadata": {},
     "output_type": "execute_result"
    }
   ],
   "source": [
    "df['Category'].value_counts()"
   ]
  },
  {
   "cell_type": "code",
   "execution_count": 12,
   "id": "33b04f21",
   "metadata": {},
   "outputs": [
    {
     "data": {
      "text/plain": [
       "Sub-Category\n",
       "Tables              122\n",
       "Pens                114\n",
       "Sofas               114\n",
       "Markers             110\n",
       "Electronic Games    104\n",
       "Paper               104\n",
       "Phones              101\n",
       "Printers             95\n",
       "Laptops              88\n",
       "Bookcases            88\n",
       "Chairs               83\n",
       "Binders              71\n",
       "Name: count, dtype: int64"
      ]
     },
     "execution_count": 12,
     "metadata": {},
     "output_type": "execute_result"
    }
   ],
   "source": [
    "df['Sub-Category'].value_counts()"
   ]
  },
  {
   "cell_type": "code",
   "execution_count": 13,
   "id": "c53064cc",
   "metadata": {},
   "outputs": [],
   "source": [
    "df['Order Date'] = pd.to_datetime(df['Order Date'])"
   ]
  },
  {
   "cell_type": "code",
   "execution_count": 14,
   "id": "1f7d82cb",
   "metadata": {},
   "outputs": [
    {
     "data": {
      "text/plain": [
       "Order ID                object\n",
       "Amount                   int64\n",
       "Profit                   int64\n",
       "Quantity                 int64\n",
       "Category                object\n",
       "Sub-Category            object\n",
       "PaymentMode             object\n",
       "Order Date      datetime64[ns]\n",
       "CustomerName            object\n",
       "State                   object\n",
       "City                    object\n",
       "Year-Month              object\n",
       "dtype: object"
      ]
     },
     "execution_count": 14,
     "metadata": {},
     "output_type": "execute_result"
    }
   ],
   "source": [
    "df.dtypes"
   ]
  },
  {
   "cell_type": "code",
   "execution_count": 15,
   "id": "f2daa74f",
   "metadata": {},
   "outputs": [],
   "source": [
    "df['year'] = df['Order Date'].dt.year"
   ]
  },
  {
   "cell_type": "code",
   "execution_count": 16,
   "id": "c571c46c",
   "metadata": {},
   "outputs": [],
   "source": [
    "df['month'] = df['Order Date'].dt.month"
   ]
  },
  {
   "cell_type": "code",
   "execution_count": 17,
   "id": "3e5a2edf",
   "metadata": {},
   "outputs": [],
   "source": [
    "df['day'] = df['Order Date'].dt.day"
   ]
  },
  {
   "cell_type": "code",
   "execution_count": 18,
   "id": "f62541ec",
   "metadata": {},
   "outputs": [
    {
     "data": {
      "text/plain": [
       "0       2\n",
       "1       4\n",
       "2       3\n",
       "3       2\n",
       "4       4\n",
       "       ..\n",
       "1189    3\n",
       "1190    2\n",
       "1191    4\n",
       "1192    3\n",
       "1193    4\n",
       "Name: Order Date, Length: 1194, dtype: int32"
      ]
     },
     "execution_count": 18,
     "metadata": {},
     "output_type": "execute_result"
    }
   ],
   "source": [
    "df['Order Date'].dt.quarter"
   ]
  },
  {
   "cell_type": "code",
   "execution_count": 19,
   "id": "033e3219",
   "metadata": {},
   "outputs": [],
   "source": [
    "df.set_index(df['Order Date'], inplace= True)"
   ]
  },
  {
   "cell_type": "code",
   "execution_count": 20,
   "id": "445dfc38",
   "metadata": {},
   "outputs": [
    {
     "data": {
      "text/html": [
       "<div>\n",
       "<style scoped>\n",
       "    .dataframe tbody tr th:only-of-type {\n",
       "        vertical-align: middle;\n",
       "    }\n",
       "\n",
       "    .dataframe tbody tr th {\n",
       "        vertical-align: top;\n",
       "    }\n",
       "\n",
       "    .dataframe thead th {\n",
       "        text-align: right;\n",
       "    }\n",
       "</style>\n",
       "<table border=\"1\" class=\"dataframe\">\n",
       "  <thead>\n",
       "    <tr style=\"text-align: right;\">\n",
       "      <th></th>\n",
       "      <th>Order ID</th>\n",
       "      <th>Amount</th>\n",
       "      <th>Profit</th>\n",
       "      <th>Quantity</th>\n",
       "      <th>Category</th>\n",
       "      <th>Sub-Category</th>\n",
       "      <th>PaymentMode</th>\n",
       "      <th>Order Date</th>\n",
       "      <th>CustomerName</th>\n",
       "      <th>State</th>\n",
       "      <th>City</th>\n",
       "      <th>Year-Month</th>\n",
       "      <th>year</th>\n",
       "      <th>month</th>\n",
       "      <th>day</th>\n",
       "    </tr>\n",
       "    <tr>\n",
       "      <th>Order Date</th>\n",
       "      <th></th>\n",
       "      <th></th>\n",
       "      <th></th>\n",
       "      <th></th>\n",
       "      <th></th>\n",
       "      <th></th>\n",
       "      <th></th>\n",
       "      <th></th>\n",
       "      <th></th>\n",
       "      <th></th>\n",
       "      <th></th>\n",
       "      <th></th>\n",
       "      <th></th>\n",
       "      <th></th>\n",
       "      <th></th>\n",
       "    </tr>\n",
       "  </thead>\n",
       "  <tbody>\n",
       "    <tr>\n",
       "      <th>2022-03-08</th>\n",
       "      <td>B-25809</td>\n",
       "      <td>9916</td>\n",
       "      <td>4602</td>\n",
       "      <td>14</td>\n",
       "      <td>Furniture</td>\n",
       "      <td>Chairs</td>\n",
       "      <td>UPI</td>\n",
       "      <td>2022-03-08</td>\n",
       "      <td>Kelly Smith</td>\n",
       "      <td>Ohio</td>\n",
       "      <td>Cleveland</td>\n",
       "      <td>2022-03</td>\n",
       "      <td>2022</td>\n",
       "      <td>3</td>\n",
       "      <td>8</td>\n",
       "    </tr>\n",
       "    <tr>\n",
       "      <th>2020-09-26</th>\n",
       "      <td>B-26501</td>\n",
       "      <td>8851</td>\n",
       "      <td>3962</td>\n",
       "      <td>7</td>\n",
       "      <td>Furniture</td>\n",
       "      <td>Tables</td>\n",
       "      <td>EMI</td>\n",
       "      <td>2020-09-26</td>\n",
       "      <td>Ricky Smith</td>\n",
       "      <td>Florida</td>\n",
       "      <td>Miami</td>\n",
       "      <td>2020-09</td>\n",
       "      <td>2020</td>\n",
       "      <td>9</td>\n",
       "      <td>26</td>\n",
       "    </tr>\n",
       "    <tr>\n",
       "      <th>2023-05-24</th>\n",
       "      <td>B-26522</td>\n",
       "      <td>5994</td>\n",
       "      <td>2826</td>\n",
       "      <td>9</td>\n",
       "      <td>Furniture</td>\n",
       "      <td>Bookcases</td>\n",
       "      <td>EMI</td>\n",
       "      <td>2023-05-24</td>\n",
       "      <td>John Thomas</td>\n",
       "      <td>California</td>\n",
       "      <td>San Francisco</td>\n",
       "      <td>2023-05</td>\n",
       "      <td>2023</td>\n",
       "      <td>5</td>\n",
       "      <td>24</td>\n",
       "    </tr>\n",
       "    <tr>\n",
       "      <th>2023-10-27</th>\n",
       "      <td>B-26489</td>\n",
       "      <td>6223</td>\n",
       "      <td>1478</td>\n",
       "      <td>3</td>\n",
       "      <td>Furniture</td>\n",
       "      <td>Sofas</td>\n",
       "      <td>Debit Card</td>\n",
       "      <td>2023-10-27</td>\n",
       "      <td>Anna Blackburn</td>\n",
       "      <td>Ohio</td>\n",
       "      <td>Cincinnati</td>\n",
       "      <td>2023-10</td>\n",
       "      <td>2023</td>\n",
       "      <td>10</td>\n",
       "      <td>27</td>\n",
       "    </tr>\n",
       "    <tr>\n",
       "      <th>2024-11-21</th>\n",
       "      <td>B-25881</td>\n",
       "      <td>8709</td>\n",
       "      <td>2322</td>\n",
       "      <td>8</td>\n",
       "      <td>Furniture</td>\n",
       "      <td>Tables</td>\n",
       "      <td>Debit Card</td>\n",
       "      <td>2024-11-21</td>\n",
       "      <td>Kristin Hart</td>\n",
       "      <td>California</td>\n",
       "      <td>San Francisco</td>\n",
       "      <td>2024-11</td>\n",
       "      <td>2024</td>\n",
       "      <td>11</td>\n",
       "      <td>21</td>\n",
       "    </tr>\n",
       "  </tbody>\n",
       "</table>\n",
       "</div>"
      ],
      "text/plain": [
       "           Order ID  Amount  Profit  Quantity   Category Sub-Category  \\\n",
       "Order Date                                                              \n",
       "2022-03-08  B-25809    9916    4602        14  Furniture       Chairs   \n",
       "2020-09-26  B-26501    8851    3962         7  Furniture       Tables   \n",
       "2023-05-24  B-26522    5994    2826         9  Furniture    Bookcases   \n",
       "2023-10-27  B-26489    6223    1478         3  Furniture        Sofas   \n",
       "2024-11-21  B-25881    8709    2322         8  Furniture       Tables   \n",
       "\n",
       "           PaymentMode Order Date    CustomerName       State           City  \\\n",
       "Order Date                                                                     \n",
       "2022-03-08         UPI 2022-03-08     Kelly Smith        Ohio      Cleveland   \n",
       "2020-09-26         EMI 2020-09-26     Ricky Smith     Florida          Miami   \n",
       "2023-05-24         EMI 2023-05-24     John Thomas  California  San Francisco   \n",
       "2023-10-27  Debit Card 2023-10-27  Anna Blackburn        Ohio     Cincinnati   \n",
       "2024-11-21  Debit Card 2024-11-21    Kristin Hart  California  San Francisco   \n",
       "\n",
       "           Year-Month  year  month  day  \n",
       "Order Date                               \n",
       "2022-03-08    2022-03  2022      3    8  \n",
       "2020-09-26    2020-09  2020      9   26  \n",
       "2023-05-24    2023-05  2023      5   24  \n",
       "2023-10-27    2023-10  2023     10   27  \n",
       "2024-11-21    2024-11  2024     11   21  "
      ]
     },
     "execution_count": 20,
     "metadata": {},
     "output_type": "execute_result"
    }
   ],
   "source": [
    "df.sample(5)"
   ]
  },
  {
   "cell_type": "code",
   "execution_count": 21,
   "id": "ad1824ed",
   "metadata": {},
   "outputs": [],
   "source": [
    "# df[df.duplicated()]"
   ]
  },
  {
   "cell_type": "markdown",
   "id": "a2e282f5",
   "metadata": {},
   "source": [
    "# EDA\n",
    "    -- Univariate Analysis\n",
    "    -- Bivariate Analysis\n",
    "    -- Multivariate Analysis"
   ]
  },
  {
   "cell_type": "markdown",
   "id": "f5db3254",
   "metadata": {},
   "source": [
    "### 1] Univariate Analysis\n",
    "        -- Category"
   ]
  },
  {
   "cell_type": "code",
   "execution_count": 22,
   "id": "746f8c77",
   "metadata": {},
   "outputs": [
    {
     "data": {
      "text/plain": [
       "Order Date\n",
       "2023-06-27        Electronics\n",
       "2024-12-27        Electronics\n",
       "2021-07-25        Electronics\n",
       "2023-06-27        Electronics\n",
       "2024-12-27        Electronics\n",
       "                   ...       \n",
       "2024-07-31          Furniture\n",
       "2020-06-02        Electronics\n",
       "2022-12-15        Electronics\n",
       "2020-08-07        Electronics\n",
       "2024-10-26    Office Supplies\n",
       "Name: Category, Length: 1194, dtype: object"
      ]
     },
     "execution_count": 22,
     "metadata": {},
     "output_type": "execute_result"
    }
   ],
   "source": [
    "df['Category']"
   ]
  },
  {
   "cell_type": "markdown",
   "id": "04224b2c",
   "metadata": {},
   "source": [
    "##### Feature Overview (Category)"
   ]
  },
  {
   "cell_type": "code",
   "execution_count": 23,
   "id": "915eccaa",
   "metadata": {},
   "outputs": [
    {
     "data": {
      "text/plain": [
       "count          1194\n",
       "unique            3\n",
       "top       Furniture\n",
       "freq            407\n",
       "Name: Category, dtype: object"
      ]
     },
     "execution_count": 23,
     "metadata": {},
     "output_type": "execute_result"
    }
   ],
   "source": [
    "df['Category'].describe(include= 0)"
   ]
  },
  {
   "cell_type": "code",
   "execution_count": 24,
   "id": "40070a45",
   "metadata": {},
   "outputs": [
    {
     "data": {
      "text/plain": [
       "np.int64(1194)"
      ]
     },
     "execution_count": 24,
     "metadata": {},
     "output_type": "execute_result"
    }
   ],
   "source": [
    "df['Category'].count()"
   ]
  },
  {
   "cell_type": "code",
   "execution_count": 25,
   "id": "6b921f82",
   "metadata": {},
   "outputs": [
    {
     "data": {
      "text/plain": [
       "3"
      ]
     },
     "execution_count": 25,
     "metadata": {},
     "output_type": "execute_result"
    }
   ],
   "source": [
    "df['Category'].nunique()"
   ]
  },
  {
   "cell_type": "code",
   "execution_count": 26,
   "id": "d010e33a",
   "metadata": {},
   "outputs": [
    {
     "data": {
      "text/plain": [
       "np.int64(407)"
      ]
     },
     "execution_count": 26,
     "metadata": {},
     "output_type": "execute_result"
    }
   ],
   "source": [
    "df['Category'].value_counts().max()  ## top"
   ]
  },
  {
   "cell_type": "code",
   "execution_count": 27,
   "id": "a453e345",
   "metadata": {},
   "outputs": [
    {
     "data": {
      "text/plain": [
       "Category\n",
       "Furniture          407\n",
       "Office Supplies    399\n",
       "Electronics        388\n",
       "Name: count, dtype: int64"
      ]
     },
     "execution_count": 27,
     "metadata": {},
     "output_type": "execute_result"
    }
   ],
   "source": [
    "df['Category'].value_counts() # how many good in any Category?"
   ]
  },
  {
   "cell_type": "code",
   "execution_count": 28,
   "id": "162e986d",
   "metadata": {},
   "outputs": [
    {
     "data": {
      "application/vnd.plotly.v1+json": {
       "config": {
        "plotlyServerURL": "https://plot.ly"
       },
       "data": [
        {
         "hovertemplate": "Category=%{x}<br>Count=%{text}<extra></extra>",
         "legendgroup": "Furniture",
         "marker": {
          "color": "#636efa",
          "pattern": {
           "shape": ""
          }
         },
         "name": "Furniture",
         "orientation": "v",
         "showlegend": true,
         "text": {
          "bdata": "AAAAAABweUA=",
          "dtype": "f8"
         },
         "textposition": "outside",
         "texttemplate": "%{text}",
         "type": "bar",
         "x": [
          "Furniture"
         ],
         "xaxis": "x",
         "y": {
          "bdata": "lwE=",
          "dtype": "i2"
         },
         "yaxis": "y"
        },
        {
         "hovertemplate": "Category=%{x}<br>Count=%{text}<extra></extra>",
         "legendgroup": "Office Supplies",
         "marker": {
          "color": "#EF553B",
          "pattern": {
           "shape": ""
          }
         },
         "name": "Office Supplies",
         "orientation": "v",
         "showlegend": true,
         "text": {
          "bdata": "AAAAAADweEA=",
          "dtype": "f8"
         },
         "textposition": "outside",
         "texttemplate": "%{text}",
         "type": "bar",
         "x": [
          "Office Supplies"
         ],
         "xaxis": "x",
         "y": {
          "bdata": "jwE=",
          "dtype": "i2"
         },
         "yaxis": "y"
        },
        {
         "hovertemplate": "Category=%{x}<br>Count=%{text}<extra></extra>",
         "legendgroup": "Electronics",
         "marker": {
          "color": "#00cc96",
          "pattern": {
           "shape": ""
          }
         },
         "name": "Electronics",
         "orientation": "v",
         "showlegend": true,
         "text": {
          "bdata": "AAAAAABAeEA=",
          "dtype": "f8"
         },
         "textposition": "outside",
         "texttemplate": "%{text}",
         "type": "bar",
         "x": [
          "Electronics"
         ],
         "xaxis": "x",
         "y": {
          "bdata": "hAE=",
          "dtype": "i2"
         },
         "yaxis": "y"
        }
       ],
       "layout": {
        "barmode": "relative",
        "legend": {
         "title": {
          "text": "Category"
         },
         "tracegroupgap": 0
        },
        "template": {
         "data": {
          "bar": [
           {
            "error_x": {
             "color": "#2a3f5f"
            },
            "error_y": {
             "color": "#2a3f5f"
            },
            "marker": {
             "line": {
              "color": "#E5ECF6",
              "width": 0.5
             },
             "pattern": {
              "fillmode": "overlay",
              "size": 10,
              "solidity": 0.2
             }
            },
            "type": "bar"
           }
          ],
          "barpolar": [
           {
            "marker": {
             "line": {
              "color": "#E5ECF6",
              "width": 0.5
             },
             "pattern": {
              "fillmode": "overlay",
              "size": 10,
              "solidity": 0.2
             }
            },
            "type": "barpolar"
           }
          ],
          "carpet": [
           {
            "aaxis": {
             "endlinecolor": "#2a3f5f",
             "gridcolor": "white",
             "linecolor": "white",
             "minorgridcolor": "white",
             "startlinecolor": "#2a3f5f"
            },
            "baxis": {
             "endlinecolor": "#2a3f5f",
             "gridcolor": "white",
             "linecolor": "white",
             "minorgridcolor": "white",
             "startlinecolor": "#2a3f5f"
            },
            "type": "carpet"
           }
          ],
          "choropleth": [
           {
            "colorbar": {
             "outlinewidth": 0,
             "ticks": ""
            },
            "type": "choropleth"
           }
          ],
          "contour": [
           {
            "colorbar": {
             "outlinewidth": 0,
             "ticks": ""
            },
            "colorscale": [
             [
              0,
              "#0d0887"
             ],
             [
              0.1111111111111111,
              "#46039f"
             ],
             [
              0.2222222222222222,
              "#7201a8"
             ],
             [
              0.3333333333333333,
              "#9c179e"
             ],
             [
              0.4444444444444444,
              "#bd3786"
             ],
             [
              0.5555555555555556,
              "#d8576b"
             ],
             [
              0.6666666666666666,
              "#ed7953"
             ],
             [
              0.7777777777777778,
              "#fb9f3a"
             ],
             [
              0.8888888888888888,
              "#fdca26"
             ],
             [
              1,
              "#f0f921"
             ]
            ],
            "type": "contour"
           }
          ],
          "contourcarpet": [
           {
            "colorbar": {
             "outlinewidth": 0,
             "ticks": ""
            },
            "type": "contourcarpet"
           }
          ],
          "heatmap": [
           {
            "colorbar": {
             "outlinewidth": 0,
             "ticks": ""
            },
            "colorscale": [
             [
              0,
              "#0d0887"
             ],
             [
              0.1111111111111111,
              "#46039f"
             ],
             [
              0.2222222222222222,
              "#7201a8"
             ],
             [
              0.3333333333333333,
              "#9c179e"
             ],
             [
              0.4444444444444444,
              "#bd3786"
             ],
             [
              0.5555555555555556,
              "#d8576b"
             ],
             [
              0.6666666666666666,
              "#ed7953"
             ],
             [
              0.7777777777777778,
              "#fb9f3a"
             ],
             [
              0.8888888888888888,
              "#fdca26"
             ],
             [
              1,
              "#f0f921"
             ]
            ],
            "type": "heatmap"
           }
          ],
          "histogram": [
           {
            "marker": {
             "pattern": {
              "fillmode": "overlay",
              "size": 10,
              "solidity": 0.2
             }
            },
            "type": "histogram"
           }
          ],
          "histogram2d": [
           {
            "colorbar": {
             "outlinewidth": 0,
             "ticks": ""
            },
            "colorscale": [
             [
              0,
              "#0d0887"
             ],
             [
              0.1111111111111111,
              "#46039f"
             ],
             [
              0.2222222222222222,
              "#7201a8"
             ],
             [
              0.3333333333333333,
              "#9c179e"
             ],
             [
              0.4444444444444444,
              "#bd3786"
             ],
             [
              0.5555555555555556,
              "#d8576b"
             ],
             [
              0.6666666666666666,
              "#ed7953"
             ],
             [
              0.7777777777777778,
              "#fb9f3a"
             ],
             [
              0.8888888888888888,
              "#fdca26"
             ],
             [
              1,
              "#f0f921"
             ]
            ],
            "type": "histogram2d"
           }
          ],
          "histogram2dcontour": [
           {
            "colorbar": {
             "outlinewidth": 0,
             "ticks": ""
            },
            "colorscale": [
             [
              0,
              "#0d0887"
             ],
             [
              0.1111111111111111,
              "#46039f"
             ],
             [
              0.2222222222222222,
              "#7201a8"
             ],
             [
              0.3333333333333333,
              "#9c179e"
             ],
             [
              0.4444444444444444,
              "#bd3786"
             ],
             [
              0.5555555555555556,
              "#d8576b"
             ],
             [
              0.6666666666666666,
              "#ed7953"
             ],
             [
              0.7777777777777778,
              "#fb9f3a"
             ],
             [
              0.8888888888888888,
              "#fdca26"
             ],
             [
              1,
              "#f0f921"
             ]
            ],
            "type": "histogram2dcontour"
           }
          ],
          "mesh3d": [
           {
            "colorbar": {
             "outlinewidth": 0,
             "ticks": ""
            },
            "type": "mesh3d"
           }
          ],
          "parcoords": [
           {
            "line": {
             "colorbar": {
              "outlinewidth": 0,
              "ticks": ""
             }
            },
            "type": "parcoords"
           }
          ],
          "pie": [
           {
            "automargin": true,
            "type": "pie"
           }
          ],
          "scatter": [
           {
            "fillpattern": {
             "fillmode": "overlay",
             "size": 10,
             "solidity": 0.2
            },
            "type": "scatter"
           }
          ],
          "scatter3d": [
           {
            "line": {
             "colorbar": {
              "outlinewidth": 0,
              "ticks": ""
             }
            },
            "marker": {
             "colorbar": {
              "outlinewidth": 0,
              "ticks": ""
             }
            },
            "type": "scatter3d"
           }
          ],
          "scattercarpet": [
           {
            "marker": {
             "colorbar": {
              "outlinewidth": 0,
              "ticks": ""
             }
            },
            "type": "scattercarpet"
           }
          ],
          "scattergeo": [
           {
            "marker": {
             "colorbar": {
              "outlinewidth": 0,
              "ticks": ""
             }
            },
            "type": "scattergeo"
           }
          ],
          "scattergl": [
           {
            "marker": {
             "colorbar": {
              "outlinewidth": 0,
              "ticks": ""
             }
            },
            "type": "scattergl"
           }
          ],
          "scattermap": [
           {
            "marker": {
             "colorbar": {
              "outlinewidth": 0,
              "ticks": ""
             }
            },
            "type": "scattermap"
           }
          ],
          "scattermapbox": [
           {
            "marker": {
             "colorbar": {
              "outlinewidth": 0,
              "ticks": ""
             }
            },
            "type": "scattermapbox"
           }
          ],
          "scatterpolar": [
           {
            "marker": {
             "colorbar": {
              "outlinewidth": 0,
              "ticks": ""
             }
            },
            "type": "scatterpolar"
           }
          ],
          "scatterpolargl": [
           {
            "marker": {
             "colorbar": {
              "outlinewidth": 0,
              "ticks": ""
             }
            },
            "type": "scatterpolargl"
           }
          ],
          "scatterternary": [
           {
            "marker": {
             "colorbar": {
              "outlinewidth": 0,
              "ticks": ""
             }
            },
            "type": "scatterternary"
           }
          ],
          "surface": [
           {
            "colorbar": {
             "outlinewidth": 0,
             "ticks": ""
            },
            "colorscale": [
             [
              0,
              "#0d0887"
             ],
             [
              0.1111111111111111,
              "#46039f"
             ],
             [
              0.2222222222222222,
              "#7201a8"
             ],
             [
              0.3333333333333333,
              "#9c179e"
             ],
             [
              0.4444444444444444,
              "#bd3786"
             ],
             [
              0.5555555555555556,
              "#d8576b"
             ],
             [
              0.6666666666666666,
              "#ed7953"
             ],
             [
              0.7777777777777778,
              "#fb9f3a"
             ],
             [
              0.8888888888888888,
              "#fdca26"
             ],
             [
              1,
              "#f0f921"
             ]
            ],
            "type": "surface"
           }
          ],
          "table": [
           {
            "cells": {
             "fill": {
              "color": "#EBF0F8"
             },
             "line": {
              "color": "white"
             }
            },
            "header": {
             "fill": {
              "color": "#C8D4E3"
             },
             "line": {
              "color": "white"
             }
            },
            "type": "table"
           }
          ]
         },
         "layout": {
          "annotationdefaults": {
           "arrowcolor": "#2a3f5f",
           "arrowhead": 0,
           "arrowwidth": 1
          },
          "autotypenumbers": "strict",
          "coloraxis": {
           "colorbar": {
            "outlinewidth": 0,
            "ticks": ""
           }
          },
          "colorscale": {
           "diverging": [
            [
             0,
             "#8e0152"
            ],
            [
             0.1,
             "#c51b7d"
            ],
            [
             0.2,
             "#de77ae"
            ],
            [
             0.3,
             "#f1b6da"
            ],
            [
             0.4,
             "#fde0ef"
            ],
            [
             0.5,
             "#f7f7f7"
            ],
            [
             0.6,
             "#e6f5d0"
            ],
            [
             0.7,
             "#b8e186"
            ],
            [
             0.8,
             "#7fbc41"
            ],
            [
             0.9,
             "#4d9221"
            ],
            [
             1,
             "#276419"
            ]
           ],
           "sequential": [
            [
             0,
             "#0d0887"
            ],
            [
             0.1111111111111111,
             "#46039f"
            ],
            [
             0.2222222222222222,
             "#7201a8"
            ],
            [
             0.3333333333333333,
             "#9c179e"
            ],
            [
             0.4444444444444444,
             "#bd3786"
            ],
            [
             0.5555555555555556,
             "#d8576b"
            ],
            [
             0.6666666666666666,
             "#ed7953"
            ],
            [
             0.7777777777777778,
             "#fb9f3a"
            ],
            [
             0.8888888888888888,
             "#fdca26"
            ],
            [
             1,
             "#f0f921"
            ]
           ],
           "sequentialminus": [
            [
             0,
             "#0d0887"
            ],
            [
             0.1111111111111111,
             "#46039f"
            ],
            [
             0.2222222222222222,
             "#7201a8"
            ],
            [
             0.3333333333333333,
             "#9c179e"
            ],
            [
             0.4444444444444444,
             "#bd3786"
            ],
            [
             0.5555555555555556,
             "#d8576b"
            ],
            [
             0.6666666666666666,
             "#ed7953"
            ],
            [
             0.7777777777777778,
             "#fb9f3a"
            ],
            [
             0.8888888888888888,
             "#fdca26"
            ],
            [
             1,
             "#f0f921"
            ]
           ]
          },
          "colorway": [
           "#636efa",
           "#EF553B",
           "#00cc96",
           "#ab63fa",
           "#FFA15A",
           "#19d3f3",
           "#FF6692",
           "#B6E880",
           "#FF97FF",
           "#FECB52"
          ],
          "font": {
           "color": "#2a3f5f"
          },
          "geo": {
           "bgcolor": "white",
           "lakecolor": "white",
           "landcolor": "#E5ECF6",
           "showlakes": true,
           "showland": true,
           "subunitcolor": "white"
          },
          "hoverlabel": {
           "align": "left"
          },
          "hovermode": "closest",
          "mapbox": {
           "style": "light"
          },
          "paper_bgcolor": "white",
          "plot_bgcolor": "#E5ECF6",
          "polar": {
           "angularaxis": {
            "gridcolor": "white",
            "linecolor": "white",
            "ticks": ""
           },
           "bgcolor": "#E5ECF6",
           "radialaxis": {
            "gridcolor": "white",
            "linecolor": "white",
            "ticks": ""
           }
          },
          "scene": {
           "xaxis": {
            "backgroundcolor": "#E5ECF6",
            "gridcolor": "white",
            "gridwidth": 2,
            "linecolor": "white",
            "showbackground": true,
            "ticks": "",
            "zerolinecolor": "white"
           },
           "yaxis": {
            "backgroundcolor": "#E5ECF6",
            "gridcolor": "white",
            "gridwidth": 2,
            "linecolor": "white",
            "showbackground": true,
            "ticks": "",
            "zerolinecolor": "white"
           },
           "zaxis": {
            "backgroundcolor": "#E5ECF6",
            "gridcolor": "white",
            "gridwidth": 2,
            "linecolor": "white",
            "showbackground": true,
            "ticks": "",
            "zerolinecolor": "white"
           }
          },
          "shapedefaults": {
           "line": {
            "color": "#2a3f5f"
           }
          },
          "ternary": {
           "aaxis": {
            "gridcolor": "white",
            "linecolor": "white",
            "ticks": ""
           },
           "baxis": {
            "gridcolor": "white",
            "linecolor": "white",
            "ticks": ""
           },
           "bgcolor": "#E5ECF6",
           "caxis": {
            "gridcolor": "white",
            "linecolor": "white",
            "ticks": ""
           }
          },
          "title": {
           "x": 0.05
          },
          "xaxis": {
           "automargin": true,
           "gridcolor": "white",
           "linecolor": "white",
           "ticks": "",
           "title": {
            "standoff": 15
           },
           "zerolinecolor": "white",
           "zerolinewidth": 2
          },
          "yaxis": {
           "automargin": true,
           "gridcolor": "white",
           "linecolor": "white",
           "ticks": "",
           "title": {
            "standoff": 15
           },
           "zerolinecolor": "white",
           "zerolinewidth": 2
          }
         }
        },
        "title": {
         "text": "Total number of goods in every category"
        },
        "xaxis": {
         "anchor": "y",
         "categoryarray": [
          "Furniture",
          "Office Supplies",
          "Electronics"
         ],
         "categoryorder": "array",
         "domain": [
          0,
          1
         ],
         "title": {
          "text": "Category"
         }
        },
        "yaxis": {
         "anchor": "x",
         "domain": [
          0,
          1
         ],
         "title": {
          "text": "Count"
         }
        }
       }
      }
     },
     "metadata": {},
     "output_type": "display_data"
    }
   ],
   "source": [
    "category_counts = df['Category'].value_counts().reset_index()\n",
    "category_counts.columns = ['Category', 'Count']\n",
    "\n",
    "fig = px.bar(\n",
    "    data_frame=category_counts,\n",
    "    x='Category',\n",
    "    y='Count',\n",
    "    color = 'Category',\n",
    "    title='Total number of goods in every category',\n",
    "    text='Count'   \n",
    ")\n",
    "\n",
    "fig.update_traces(texttemplate='%{text}', textposition='outside')  \n",
    "fig.show()"
   ]
  },
  {
   "cell_type": "code",
   "execution_count": 29,
   "id": "3d729893",
   "metadata": {},
   "outputs": [
    {
     "data": {
      "text/plain": [
       "<Axes: title={'center': 'Dist of Cat'}, ylabel='count'>"
      ]
     },
     "execution_count": 29,
     "metadata": {},
     "output_type": "execute_result"
    },
    {
     "data": {
      "image/png": "[encoded data removed]",
      "text/plain": [
       "<Figure size 600x600 with 1 Axes>"
      ]
     },
     "metadata": {},
     "output_type": "display_data"
    }
   ],
   "source": [
    "df['Category'].value_counts().plot(kind= 'pie', autopct='%1.1f%%', startangle=90, figsize=(6, 6), title= 'Dist of Cat')"
   ]
  },
  {
   "cell_type": "markdown",
   "id": "6f1e2b4c",
   "metadata": {},
   "source": [
    "### Univariate\n",
    "    -- sub category"
   ]
  },
  {
   "cell_type": "code",
   "execution_count": 30,
   "id": "0193fa33",
   "metadata": {},
   "outputs": [
    {
     "data": {
      "text/plain": [
       "Sub-Category\n",
       "Tables              122\n",
       "Pens                114\n",
       "Sofas               114\n",
       "Markers             110\n",
       "Electronic Games    104\n",
       "Paper               104\n",
       "Phones              101\n",
       "Printers             95\n",
       "Laptops              88\n",
       "Bookcases            88\n",
       "Chairs               83\n",
       "Binders              71\n",
       "Name: count, dtype: int64"
      ]
     },
     "execution_count": 30,
     "metadata": {},
     "output_type": "execute_result"
    }
   ],
   "source": [
    "df['Sub-Category'].value_counts()"
   ]
  },
  {
   "cell_type": "code",
   "execution_count": 31,
   "id": "458472e4",
   "metadata": {},
   "outputs": [
    {
     "data": {
      "application/vnd.plotly.v1+json": {
       "config": {
        "plotlyServerURL": "https://plot.ly"
       },
       "data": [
        {
         "hovertemplate": "Sub-Category=%{x}<br>Count=%{text}<extra></extra>",
         "legendgroup": "Tables",
         "marker": {
          "color": "#636efa",
          "pattern": {
           "shape": ""
          }
         },
         "name": "Tables",
         "orientation": "v",
         "showlegend": true,
         "text": {
          "bdata": "AAAAAACAXkA=",
          "dtype": "f8"
         },
         "textposition": "outside",
         "texttemplate": "%{text}",
         "type": "bar",
         "x": [
          "Tables"
         ],
         "xaxis": "x",
         "y": {
          "bdata": "eg==",
          "dtype": "i1"
         },
         "yaxis": "y"
        },
        {
         "hovertemplate": "Sub-Category=%{x}<br>Count=%{text}<extra></extra>",
         "legendgroup": "Pens",
         "marker": {
          "color": "#EF553B",
          "pattern": {
           "shape": ""
          }
         },
         "name": "Pens",
         "orientation": "v",
         "showlegend": true,
         "text": {
          "bdata": "AAAAAACAXEA=",
          "dtype": "f8"
         },
         "textposition": "outside",
         "texttemplate": "%{text}",
         "type": "bar",
         "x": [
          "Pens"
         ],
         "xaxis": "x",
         "y": {
          "bdata": "cg==",
          "dtype": "i1"
         },
         "yaxis": "y"
        },
        {
         "hovertemplate": "Sub-Category=%{x}<br>Count=%{text}<extra></extra>",
         "legendgroup": "Sofas",
         "marker": {
          "color": "#00cc96",
          "pattern": {
           "shape": ""
          }
         },
         "name": "Sofas",
         "orientation": "v",
         "showlegend": true,
         "text": {
          "bdata": "AAAAAACAXEA=",
          "dtype": "f8"
         },
         "textposition": "outside",
         "texttemplate": "%{text}",
         "type": "bar",
         "x": [
          "Sofas"
         ],
         "xaxis": "x",
         "y": {
          "bdata": "cg==",
          "dtype": "i1"
         },
         "yaxis": "y"
        },
        {
         "hovertemplate": "Sub-Category=%{x}<br>Count=%{text}<extra></extra>",
         "legendgroup": "Markers",
         "marker": {
          "color": "#ab63fa",
          "pattern": {
           "shape": ""
          }
         },
         "name": "Markers",
         "orientation": "v",
         "showlegend": true,
         "text": {
          "bdata": "AAAAAACAW0A=",
          "dtype": "f8"
         },
         "textposition": "outside",
         "texttemplate": "%{text}",
         "type": "bar",
         "x": [
          "Markers"
         ],
         "xaxis": "x",
         "y": {
          "bdata": "bg==",
          "dtype": "i1"
         },
         "yaxis": "y"
        },
        {
         "hovertemplate": "Sub-Category=%{x}<br>Count=%{text}<extra></extra>",
         "legendgroup": "Electronic Games",
         "marker": {
          "color": "#FFA15A",
          "pattern": {
           "shape": ""
          }
         },
         "name": "Electronic Games",
         "orientation": "v",
         "showlegend": true,
         "text": {
          "bdata": "AAAAAAAAWkA=",
          "dtype": "f8"
         },
         "textposition": "outside",
         "texttemplate": "%{text}",
         "type": "bar",
         "x": [
          "Electronic Games"
         ],
         "xaxis": "x",
         "y": {
          "bdata": "aA==",
          "dtype": "i1"
         },
         "yaxis": "y"
        },
        {
         "hovertemplate": "Sub-Category=%{x}<br>Count=%{text}<extra></extra>",
         "legendgroup": "Paper",
         "marker": {
          "color": "#19d3f3",
          "pattern": {
           "shape": ""
          }
         },
         "name": "Paper",
         "orientation": "v",
         "showlegend": true,
         "text": {
          "bdata": "AAAAAAAAWkA=",
          "dtype": "f8"
         },
         "textposition": "outside",
         "texttemplate": "%{text}",
         "type": "bar",
         "x": [
          "Paper"
         ],
         "xaxis": "x",
         "y": {
          "bdata": "aA==",
          "dtype": "i1"
         },
         "yaxis": "y"
        },
        {
         "hovertemplate": "Sub-Category=%{x}<br>Count=%{text}<extra></extra>",
         "legendgroup": "Phones",
         "marker": {
          "color": "#FF6692",
          "pattern": {
           "shape": ""
          }
         },
         "name": "Phones",
         "orientation": "v",
         "showlegend": true,
         "text": {
          "bdata": "AAAAAABAWUA=",
          "dtype": "f8"
         },
         "textposition": "outside",
         "texttemplate": "%{text}",
         "type": "bar",
         "x": [
          "Phones"
         ],
         "xaxis": "x",
         "y": {
          "bdata": "ZQ==",
          "dtype": "i1"
         },
         "yaxis": "y"
        },
        {
         "hovertemplate": "Sub-Category=%{x}<br>Count=%{text}<extra></extra>",
         "legendgroup": "Printers",
         "marker": {
          "color": "#B6E880",
          "pattern": {
           "shape": ""
          }
         },
         "name": "Printers",
         "orientation": "v",
         "showlegend": true,
         "text": {
          "bdata": "AAAAAADAV0A=",
          "dtype": "f8"
         },
         "textposition": "outside",
         "texttemplate": "%{text}",
         "type": "bar",
         "x": [
          "Printers"
         ],
         "xaxis": "x",
         "y": {
          "bdata": "Xw==",
          "dtype": "i1"
         },
         "yaxis": "y"
        },
        {
         "hovertemplate": "Sub-Category=%{x}<br>Count=%{text}<extra></extra>",
         "legendgroup": "Laptops",
         "marker": {
          "color": "#FF97FF",
          "pattern": {
           "shape": ""
          }
         },
         "name": "Laptops",
         "orientation": "v",
         "showlegend": true,
         "text": {
          "bdata": "AAAAAAAAVkA=",
          "dtype": "f8"
         },
         "textposition": "outside",
         "texttemplate": "%{text}",
         "type": "bar",
         "x": [
          "Laptops"
         ],
         "xaxis": "x",
         "y": {
          "bdata": "WA==",
          "dtype": "i1"
         },
         "yaxis": "y"
        },
        {
         "hovertemplate": "Sub-Category=%{x}<br>Count=%{text}<extra></extra>",
         "legendgroup": "Bookcases",
         "marker": {
          "color": "#FECB52",
          "pattern": {
           "shape": ""
          }
         },
         "name": "Bookcases",
         "orientation": "v",
         "showlegend": true,
         "text": {
          "bdata": "AAAAAAAAVkA=",
          "dtype": "f8"
         },
         "textposition": "outside",
         "texttemplate": "%{text}",
         "type": "bar",
         "x": [
          "Bookcases"
         ],
         "xaxis": "x",
         "y": {
          "bdata": "WA==",
          "dtype": "i1"
         },
         "yaxis": "y"
        },
        {
         "hovertemplate": "Sub-Category=%{x}<br>Count=%{text}<extra></extra>",
         "legendgroup": "Chairs",
         "marker": {
          "color": "#636efa",
          "pattern": {
           "shape": ""
          }
         },
         "name": "Chairs",
         "orientation": "v",
         "showlegend": true,
         "text": {
          "bdata": "AAAAAADAVEA=",
          "dtype": "f8"
         },
         "textposition": "outside",
         "texttemplate": "%{text}",
         "type": "bar",
         "x": [
          "Chairs"
         ],
         "xaxis": "x",
         "y": {
          "bdata": "Uw==",
          "dtype": "i1"
         },
         "yaxis": "y"
        },
        {
         "hovertemplate": "Sub-Category=%{x}<br>Count=%{text}<extra></extra>",
         "legendgroup": "Binders",
         "marker": {
          "color": "#EF553B",
          "pattern": {
           "shape": ""
          }
         },
         "name": "Binders",
         "orientation": "v",
         "showlegend": true,
         "text": {
          "bdata": "AAAAAADAUUA=",
          "dtype": "f8"
         },
         "textposition": "outside",
         "texttemplate": "%{text}",
         "type": "bar",
         "x": [
          "Binders"
         ],
         "xaxis": "x",
         "y": {
          "bdata": "Rw==",
          "dtype": "i1"
         },
         "yaxis": "y"
        }
       ],
       "layout": {
        "barmode": "relative",
        "legend": {
         "title": {
          "text": "Sub-Category"
         },
         "tracegroupgap": 0
        },
        "template": {
         "data": {
          "bar": [
           {
            "error_x": {
             "color": "#2a3f5f"
            },
            "error_y": {
             "color": "#2a3f5f"
            },
            "marker": {
             "line": {
              "color": "#E5ECF6",
              "width": 0.5
             },
             "pattern": {
              "fillmode": "overlay",
              "size": 10,
              "solidity": 0.2
             }
            },
            "type": "bar"
           }
          ],
          "barpolar": [
           {
            "marker": {
             "line": {
              "color": "#E5ECF6",
              "width": 0.5
             },
             "pattern": {
              "fillmode": "overlay",
              "size": 10,
              "solidity": 0.2
             }
            },
            "type": "barpolar"
           }
          ],
          "carpet": [
           {
            "aaxis": {
             "endlinecolor": "#2a3f5f",
             "gridcolor": "white",
             "linecolor": "white",
             "minorgridcolor": "white",
             "startlinecolor": "#2a3f5f"
            },
            "baxis": {
             "endlinecolor": "#2a3f5f",
             "gridcolor": "white",
             "linecolor": "white",
             "minorgridcolor": "white",
             "startlinecolor": "#2a3f5f"
            },
            "type": "carpet"
           }
          ],
          "choropleth": [
           {
            "colorbar": {
             "outlinewidth": 0,
             "ticks": ""
            },
            "type": "choropleth"
           }
          ],
          "contour": [
           {
            "colorbar": {
             "outlinewidth": 0,
             "ticks": ""
            },
            "colorscale": [
             [
              0,
              "#0d0887"
             ],
             [
              0.1111111111111111,
              "#46039f"
             ],
             [
              0.2222222222222222,
              "#7201a8"
             ],
             [
              0.3333333333333333,
              "#9c179e"
             ],
             [
              0.4444444444444444,
              "#bd3786"
             ],
             [
              0.5555555555555556,
              "#d8576b"
             ],
             [
              0.6666666666666666,
              "#ed7953"
             ],
             [
              0.7777777777777778,
              "#fb9f3a"
             ],
             [
              0.8888888888888888,
              "#fdca26"
             ],
             [
              1,
              "#f0f921"
             ]
            ],
            "type": "contour"
           }
          ],
          "contourcarpet": [
           {
            "colorbar": {
             "outlinewidth": 0,
             "ticks": ""
            },
            "type": "contourcarpet"
           }
          ],
          "heatmap": [
           {
            "colorbar": {
             "outlinewidth": 0,
             "ticks": ""
            },
            "colorscale": [
             [
              0,
              "#0d0887"
             ],
             [
              0.1111111111111111,
              "#46039f"
             ],
             [
              0.2222222222222222,
              "#7201a8"
             ],
             [
              0.3333333333333333,
              "#9c179e"
             ],
             [
              0.4444444444444444,
              "#bd3786"
             ],
             [
              0.5555555555555556,
              "#d8576b"
             ],
             [
              0.6666666666666666,
              "#ed7953"
             ],
             [
              0.7777777777777778,
              "#fb9f3a"
             ],
             [
              0.8888888888888888,
              "#fdca26"
             ],
             [
              1,
              "#f0f921"
             ]
            ],
            "type": "heatmap"
           }
          ],
          "histogram": [
           {
            "marker": {
             "pattern": {
              "fillmode": "overlay",
              "size": 10,
              "solidity": 0.2
             }
            },
            "type": "histogram"
           }
          ],
          "histogram2d": [
           {
            "colorbar": {
             "outlinewidth": 0,
             "ticks": ""
            },
            "colorscale": [
             [
              0,
              "#0d0887"
             ],
             [
              0.1111111111111111,
              "#46039f"
             ],
             [
              0.2222222222222222,
              "#7201a8"
             ],
             [
              0.3333333333333333,
              "#9c179e"
             ],
             [
              0.4444444444444444,
              "#bd3786"
             ],
             [
              0.5555555555555556,
              "#d8576b"
             ],
             [
              0.6666666666666666,
              "#ed7953"
             ],
             [
              0.7777777777777778,
              "#fb9f3a"
             ],
             [
              0.8888888888888888,
              "#fdca26"
             ],
             [
              1,
              "#f0f921"
             ]
            ],
            "type": "histogram2d"
           }
          ],
          "histogram2dcontour": [
           {
            "colorbar": {
             "outlinewidth": 0,
             "ticks": ""
            },
            "colorscale": [
             [
              0,
              "#0d0887"
             ],
             [
              0.1111111111111111,
              "#46039f"
             ],
             [
              0.2222222222222222,
              "#7201a8"
             ],
             [
              0.3333333333333333,
              "#9c179e"
             ],
             [
              0.4444444444444444,
              "#bd3786"
             ],
             [
              0.5555555555555556,
              "#d8576b"
             ],
             [
              0.6666666666666666,
              "#ed7953"
             ],
             [
              0.7777777777777778,
              "#fb9f3a"
             ],
             [
              0.8888888888888888,
              "#fdca26"
             ],
             [
              1,
              "#f0f921"
             ]
            ],
            "type": "histogram2dcontour"
           }
          ],
          "mesh3d": [
           {
            "colorbar": {
             "outlinewidth": 0,
             "ticks": ""
            },
            "type": "mesh3d"
           }
          ],
          "parcoords": [
           {
            "line": {
             "colorbar": {
              "outlinewidth": 0,
              "ticks": ""
             }
            },
            "type": "parcoords"
           }
          ],
          "pie": [
           {
            "automargin": true,
            "type": "pie"
           }
          ],
          "scatter": [
           {
            "fillpattern": {
             "fillmode": "overlay",
             "size": 10,
             "solidity": 0.2
            },
            "type": "scatter"
           }
          ],
          "scatter3d": [
           {
            "line": {
             "colorbar": {
              "outlinewidth": 0,
              "ticks": ""
             }
            },
            "marker": {
             "colorbar": {
              "outlinewidth": 0,
              "ticks": ""
             }
            },
            "type": "scatter3d"
           }
          ],
          "scattercarpet": [
           {
            "marker": {
             "colorbar": {
              "outlinewidth": 0,
              "ticks": ""
             }
            },
            "type": "scattercarpet"
           }
          ],
          "scattergeo": [
           {
            "marker": {
             "colorbar": {
              "outlinewidth": 0,
              "ticks": ""
             }
            },
            "type": "scattergeo"
           }
          ],
          "scattergl": [
           {
            "marker": {
             "colorbar": {
              "outlinewidth": 0,
              "ticks": ""
             }
            },
            "type": "scattergl"
           }
          ],
          "scattermap": [
           {
            "marker": {
             "colorbar": {
              "outlinewidth": 0,
              "ticks": ""
             }
            },
            "type": "scattermap"
           }
          ],
          "scattermapbox": [
           {
            "marker": {
             "colorbar": {
              "outlinewidth": 0,
              "ticks": ""
             }
            },
            "type": "scattermapbox"
           }
          ],
          "scatterpolar": [
           {
            "marker": {
             "colorbar": {
              "outlinewidth": 0,
              "ticks": ""
             }
            },
            "type": "scatterpolar"
           }
          ],
          "scatterpolargl": [
           {
            "marker": {
             "colorbar": {
              "outlinewidth": 0,
              "ticks": ""
             }
            },
            "type": "scatterpolargl"
           }
          ],
          "scatterternary": [
           {
            "marker": {
             "colorbar": {
              "outlinewidth": 0,
              "ticks": ""
             }
            },
            "type": "scatterternary"
           }
          ],
          "surface": [
           {
            "colorbar": {
             "outlinewidth": 0,
             "ticks": ""
            },
            "colorscale": [
             [
              0,
              "#0d0887"
             ],
             [
              0.1111111111111111,
              "#46039f"
             ],
             [
              0.2222222222222222,
              "#7201a8"
             ],
             [
              0.3333333333333333,
              "#9c179e"
             ],
             [
              0.4444444444444444,
              "#bd3786"
             ],
             [
              0.5555555555555556,
              "#d8576b"
             ],
             [
              0.6666666666666666,
              "#ed7953"
             ],
             [
              0.7777777777777778,
              "#fb9f3a"
             ],
             [
              0.8888888888888888,
              "#fdca26"
             ],
             [
              1,
              "#f0f921"
             ]
            ],
            "type": "surface"
           }
          ],
          "table": [
           {
            "cells": {
             "fill": {
              "color": "#EBF0F8"
             },
             "line": {
              "color": "white"
             }
            },
            "header": {
             "fill": {
              "color": "#C8D4E3"
             },
             "line": {
              "color": "white"
             }
            },
            "type": "table"
           }
          ]
         },
         "layout": {
          "annotationdefaults": {
           "arrowcolor": "#2a3f5f",
           "arrowhead": 0,
           "arrowwidth": 1
          },
          "autotypenumbers": "strict",
          "coloraxis": {
           "colorbar": {
            "outlinewidth": 0,
            "ticks": ""
           }
          },
          "colorscale": {
           "diverging": [
            [
             0,
             "#8e0152"
            ],
            [
             0.1,
             "#c51b7d"
            ],
            [
             0.2,
             "#de77ae"
            ],
            [
             0.3,
             "#f1b6da"
            ],
            [
             0.4,
             "#fde0ef"
            ],
            [
             0.5,
             "#f7f7f7"
            ],
            [
             0.6,
             "#e6f5d0"
            ],
            [
             0.7,
             "#b8e186"
            ],
            [
             0.8,
             "#7fbc41"
            ],
            [
             0.9,
             "#4d9221"
            ],
            [
             1,
             "#276419"
            ]
           ],
           "sequential": [
            [
             0,
             "#0d0887"
            ],
            [
             0.1111111111111111,
             "#46039f"
            ],
            [
             0.2222222222222222,
             "#7201a8"
            ],
            [
             0.3333333333333333,
             "#9c179e"
            ],
            [
             0.4444444444444444,
             "#bd3786"
            ],
            [
             0.5555555555555556,
             "#d8576b"
            ],
            [
             0.6666666666666666,
             "#ed7953"
            ],
            [
             0.7777777777777778,
             "#fb9f3a"
            ],
            [
             0.8888888888888888,
             "#fdca26"
            ],
            [
             1,
             "#f0f921"
            ]
           ],
           "sequentialminus": [
            [
             0,
             "#0d0887"
            ],
            [
             0.1111111111111111,
             "#46039f"
            ],
            [
             0.2222222222222222,
             "#7201a8"
            ],
            [
             0.3333333333333333,
             "#9c179e"
            ],
            [
             0.4444444444444444,
             "#bd3786"
            ],
            [
             0.5555555555555556,
             "#d8576b"
            ],
            [
             0.6666666666666666,
             "#ed7953"
            ],
            [
             0.7777777777777778,
             "#fb9f3a"
            ],
            [
             0.8888888888888888,
             "#fdca26"
            ],
            [
             1,
             "#f0f921"
            ]
           ]
          },
          "colorway": [
           "#636efa",
           "#EF553B",
           "#00cc96",
           "#ab63fa",
           "#FFA15A",
           "#19d3f3",
           "#FF6692",
           "#B6E880",
           "#FF97FF",
           "#FECB52"
          ],
          "font": {
           "color": "#2a3f5f"
          },
          "geo": {
           "bgcolor": "white",
           "lakecolor": "white",
           "landcolor": "#E5ECF6",
           "showlakes": true,
           "showland": true,
           "subunitcolor": "white"
          },
          "hoverlabel": {
           "align": "left"
          },
          "hovermode": "closest",
          "mapbox": {
           "style": "light"
          },
          "paper_bgcolor": "white",
          "plot_bgcolor": "#E5ECF6",
          "polar": {
           "angularaxis": {
            "gridcolor": "white",
            "linecolor": "white",
            "ticks": ""
           },
           "bgcolor": "#E5ECF6",
           "radialaxis": {
            "gridcolor": "white",
            "linecolor": "white",
            "ticks": ""
           }
          },
          "scene": {
           "xaxis": {
            "backgroundcolor": "#E5ECF6",
            "gridcolor": "white",
            "gridwidth": 2,
            "linecolor": "white",
            "showbackground": true,
            "ticks": "",
            "zerolinecolor": "white"
           },
           "yaxis": {
            "backgroundcolor": "#E5ECF6",
            "gridcolor": "white",
            "gridwidth": 2,
            "linecolor": "white",
            "showbackground": true,
            "ticks": "",
            "zerolinecolor": "white"
           },
           "zaxis": {
            "backgroundcolor": "#E5ECF6",
            "gridcolor": "white",
            "gridwidth": 2,
            "linecolor": "white",
            "showbackground": true,
            "ticks": "",
            "zerolinecolor": "white"
           }
          },
          "shapedefaults": {
           "line": {
            "color": "#2a3f5f"
           }
          },
          "ternary": {
           "aaxis": {
            "gridcolor": "white",
            "linecolor": "white",
            "ticks": ""
           },
           "baxis": {
            "gridcolor": "white",
            "linecolor": "white",
            "ticks": ""
           },
           "bgcolor": "#E5ECF6",
           "caxis": {
            "gridcolor": "white",
            "linecolor": "white",
            "ticks": ""
           }
          },
          "title": {
           "x": 0.05
          },
          "xaxis": {
           "automargin": true,
           "gridcolor": "white",
           "linecolor": "white",
           "ticks": "",
           "title": {
            "standoff": 15
           },
           "zerolinecolor": "white",
           "zerolinewidth": 2
          },
          "yaxis": {
           "automargin": true,
           "gridcolor": "white",
           "linecolor": "white",
           "ticks": "",
           "title": {
            "standoff": 15
           },
           "zerolinecolor": "white",
           "zerolinewidth": 2
          }
         }
        },
        "title": {
         "text": "Total number of goods in every Sub Category"
        },
        "xaxis": {
         "anchor": "y",
         "categoryarray": [
          "Tables",
          "Pens",
          "Sofas",
          "Markers",
          "Electronic Games",
          "Paper",
          "Phones",
          "Printers",
          "Laptops",
          "Bookcases",
          "Chairs",
          "Binders"
         ],
         "categoryorder": "array",
         "domain": [
          0,
          1
         ],
         "title": {
          "text": "Sub-Category"
         }
        },
        "yaxis": {
         "anchor": "x",
         "domain": [
          0,
          1
         ],
         "title": {
          "text": "Count"
         }
        }
       }
      }
     },
     "metadata": {},
     "output_type": "display_data"
    }
   ],
   "source": [
    "sub_category_counts = df['Sub-Category'].value_counts().reset_index()\n",
    "sub_category_counts.columns = ['Sub-Category', 'Count']\n",
    "\n",
    "fig = px.bar(\n",
    "    data_frame= sub_category_counts,\n",
    "    x='Sub-Category',\n",
    "    y='Count',\n",
    "    color = 'Sub-Category',\n",
    "    title='Total number of goods in every Sub Category',\n",
    "    text='Count'   \n",
    ")\n",
    "\n",
    "fig.update_traces(texttemplate='%{text}', textposition='outside')  \n",
    "fig.show()"
   ]
  },
  {
   "cell_type": "code",
   "execution_count": 34,
   "id": "3541f987",
   "metadata": {},
   "outputs": [
    {
     "data": {
      "application/vnd.plotly.v1+json": {
       "config": {
        "plotlyServerURL": "https://plot.ly"
       },
       "data": [
        {
         "hovertemplate": "Sub-Category=%{x}<br>Count=%{marker.size}<extra></extra>",
         "legendgroup": "Tables",
         "marker": {
          "color": "#636efa",
          "size": {
           "bdata": "eg==",
           "dtype": "i1"
          },
          "sizemode": "area",
          "sizeref": 0.305,
          "symbol": "circle"
         },
         "mode": "markers",
         "name": "Tables",
         "orientation": "v",
         "showlegend": true,
         "texttemplate": "%{text}",
         "type": "scatter",
         "x": [
          "Tables"
         ],
         "xaxis": "x",
         "y": {
          "bdata": "eg==",
          "dtype": "i1"
         },
         "yaxis": "y"
        },
        {
         "hovertemplate": "Sub-Category=%{x}<br>Count=%{marker.size}<extra></extra>",
         "legendgroup": "Pens",
         "marker": {
          "color": "#EF553B",
          "size": {
           "bdata": "cg==",
           "dtype": "i1"
          },
          "sizemode": "area",
          "sizeref": 0.305,
          "symbol": "circle"
         },
         "mode": "markers",
         "name": "Pens",
         "orientation": "v",
         "showlegend": true,
         "texttemplate": "%{text}",
         "type": "scatter",
         "x": [
          "Pens"
         ],
         "xaxis": "x",
         "y": {
          "bdata": "cg==",
          "dtype": "i1"
         },
         "yaxis": "y"
        },
        {
         "hovertemplate": "Sub-Category=%{x}<br>Count=%{marker.size}<extra></extra>",
         "legendgroup": "Sofas",
         "marker": {
          "color": "#00cc96",
          "size": {
           "bdata": "cg==",
           "dtype": "i1"
          },
          "sizemode": "area",
          "sizeref": 0.305,
          "symbol": "circle"
         },
         "mode": "markers",
         "name": "Sofas",
         "orientation": "v",
         "showlegend": true,
         "texttemplate": "%{text}",
         "type": "scatter",
         "x": [
          "Sofas"
         ],
         "xaxis": "x",
         "y": {
          "bdata": "cg==",
          "dtype": "i1"
         },
         "yaxis": "y"
        },
        {
         "hovertemplate": "Sub-Category=%{x}<br>Count=%{marker.size}<extra></extra>",
         "legendgroup": "Markers",
         "marker": {
          "color": "#ab63fa",
          "size": {
           "bdata": "bg==",
           "dtype": "i1"
          },
          "sizemode": "area",
          "sizeref": 0.305,
          "symbol": "circle"
         },
         "mode": "markers",
         "name": "Markers",
         "orientation": "v",
         "showlegend": true,
         "texttemplate": "%{text}",
         "type": "scatter",
         "x": [
          "Markers"
         ],
         "xaxis": "x",
         "y": {
          "bdata": "bg==",
          "dtype": "i1"
         },
         "yaxis": "y"
        },
        {
         "hovertemplate": "Sub-Category=%{x}<br>Count=%{marker.size}<extra></extra>",
         "legendgroup": "Electronic Games",
         "marker": {
          "color": "#FFA15A",
          "size": {
           "bdata": "aA==",
           "dtype": "i1"
          },
          "sizemode": "area",
          "sizeref": 0.305,
          "symbol": "circle"
         },
         "mode": "markers",
         "name": "Electronic Games",
         "orientation": "v",
         "showlegend": true,
         "texttemplate": "%{text}",
         "type": "scatter",
         "x": [
          "Electronic Games"
         ],
         "xaxis": "x",
         "y": {
          "bdata": "aA==",
          "dtype": "i1"
         },
         "yaxis": "y"
        },
        {
         "hovertemplate": "Sub-Category=%{x}<br>Count=%{marker.size}<extra></extra>",
         "legendgroup": "Paper",
         "marker": {
          "color": "#19d3f3",
          "size": {
           "bdata": "aA==",
           "dtype": "i1"
          },
          "sizemode": "area",
          "sizeref": 0.305,
          "symbol": "circle"
         },
         "mode": "markers",
         "name": "Paper",
         "orientation": "v",
         "showlegend": true,
         "texttemplate": "%{text}",
         "type": "scatter",
         "x": [
          "Paper"
         ],
         "xaxis": "x",
         "y": {
          "bdata": "aA==",
          "dtype": "i1"
         },
         "yaxis": "y"
        },
        {
         "hovertemplate": "Sub-Category=%{x}<br>Count=%{marker.size}<extra></extra>",
         "legendgroup": "Phones",
         "marker": {
          "color": "#FF6692",
          "size": {
           "bdata": "ZQ==",
           "dtype": "i1"
          },
          "sizemode": "area",
          "sizeref": 0.305,
          "symbol": "circle"
         },
         "mode": "markers",
         "name": "Phones",
         "orientation": "v",
         "showlegend": true,
         "texttemplate": "%{text}",
         "type": "scatter",
         "x": [
          "Phones"
         ],
         "xaxis": "x",
         "y": {
          "bdata": "ZQ==",
          "dtype": "i1"
         },
         "yaxis": "y"
        },
        {
         "hovertemplate": "Sub-Category=%{x}<br>Count=%{marker.size}<extra></extra>",
         "legendgroup": "Printers",
         "marker": {
          "color": "#B6E880",
          "size": {
           "bdata": "Xw==",
           "dtype": "i1"
          },
          "sizemode": "area",
          "sizeref": 0.305,
          "symbol": "circle"
         },
         "mode": "markers",
         "name": "Printers",
         "orientation": "v",
         "showlegend": true,
         "texttemplate": "%{text}",
         "type": "scatter",
         "x": [
          "Printers"
         ],
         "xaxis": "x",
         "y": {
          "bdata": "Xw==",
          "dtype": "i1"
         },
         "yaxis": "y"
        },
        {
         "hovertemplate": "Sub-Category=%{x}<br>Count=%{marker.size}<extra></extra>",
         "legendgroup": "Laptops",
         "marker": {
          "color": "#FF97FF",
          "size": {
           "bdata": "WA==",
           "dtype": "i1"
          },
          "sizemode": "area",
          "sizeref": 0.305,
          "symbol": "circle"
         },
         "mode": "markers",
         "name": "Laptops",
         "orientation": "v",
         "showlegend": true,
         "texttemplate": "%{text}",
         "type": "scatter",
         "x": [
          "Laptops"
         ],
         "xaxis": "x",
         "y": {
          "bdata": "WA==",
          "dtype": "i1"
         },
         "yaxis": "y"
        },
        {
         "hovertemplate": "Sub-Category=%{x}<br>Count=%{marker.size}<extra></extra>",
         "legendgroup": "Bookcases",
         "marker": {
          "color": "#FECB52",
          "size": {
           "bdata": "WA==",
           "dtype": "i1"
          },
          "sizemode": "area",
          "sizeref": 0.305,
          "symbol": "circle"
         },
         "mode": "markers",
         "name": "Bookcases",
         "orientation": "v",
         "showlegend": true,
         "texttemplate": "%{text}",
         "type": "scatter",
         "x": [
          "Bookcases"
         ],
         "xaxis": "x",
         "y": {
          "bdata": "WA==",
          "dtype": "i1"
         },
         "yaxis": "y"
        },
        {
         "hovertemplate": "Sub-Category=%{x}<br>Count=%{marker.size}<extra></extra>",
         "legendgroup": "Chairs",
         "marker": {
          "color": "#636efa",
          "size": {
           "bdata": "Uw==",
           "dtype": "i1"
          },
          "sizemode": "area",
          "sizeref": 0.305,
          "symbol": "circle"
         },
         "mode": "markers",
         "name": "Chairs",
         "orientation": "v",
         "showlegend": true,
         "texttemplate": "%{text}",
         "type": "scatter",
         "x": [
          "Chairs"
         ],
         "xaxis": "x",
         "y": {
          "bdata": "Uw==",
          "dtype": "i1"
         },
         "yaxis": "y"
        },
        {
         "hovertemplate": "Sub-Category=%{x}<br>Count=%{marker.size}<extra></extra>",
         "legendgroup": "Binders",
         "marker": {
          "color": "#EF553B",
          "size": {
           "bdata": "Rw==",
           "dtype": "i1"
          },
          "sizemode": "area",
          "sizeref": 0.305,
          "symbol": "circle"
         },
         "mode": "markers",
         "name": "Binders",
         "orientation": "v",
         "showlegend": true,
         "texttemplate": "%{text}",
         "type": "scatter",
         "x": [
          "Binders"
         ],
         "xaxis": "x",
         "y": {
          "bdata": "Rw==",
          "dtype": "i1"
         },
         "yaxis": "y"
        }
       ],
       "layout": {
        "legend": {
         "itemsizing": "constant",
         "title": {
          "text": "Sub-Category"
         },
         "tracegroupgap": 0
        },
        "margin": {
         "t": 60
        },
        "template": {
         "data": {
          "bar": [
           {
            "error_x": {
             "color": "#2a3f5f"
            },
            "error_y": {
             "color": "#2a3f5f"
            },
            "marker": {
             "line": {
              "color": "#E5ECF6",
              "width": 0.5
             },
             "pattern": {
              "fillmode": "overlay",
              "size": 10,
              "solidity": 0.2
             }
            },
            "type": "bar"
           }
          ],
          "barpolar": [
           {
            "marker": {
             "line": {
              "color": "#E5ECF6",
              "width": 0.5
             },
             "pattern": {
              "fillmode": "overlay",
              "size": 10,
              "solidity": 0.2
             }
            },
            "type": "barpolar"
           }
          ],
          "carpet": [
           {
            "aaxis": {
             "endlinecolor": "#2a3f5f",
             "gridcolor": "white",
             "linecolor": "white",
             "minorgridcolor": "white",
             "startlinecolor": "#2a3f5f"
            },
            "baxis": {
             "endlinecolor": "#2a3f5f",
             "gridcolor": "white",
             "linecolor": "white",
             "minorgridcolor": "white",
             "startlinecolor": "#2a3f5f"
            },
            "type": "carpet"
           }
          ],
          "choropleth": [
           {
            "colorbar": {
             "outlinewidth": 0,
             "ticks": ""
            },
            "type": "choropleth"
           }
          ],
          "contour": [
           {
            "colorbar": {
             "outlinewidth": 0,
             "ticks": ""
            },
            "colorscale": [
             [
              0,
              "#0d0887"
             ],
             [
              0.1111111111111111,
              "#46039f"
             ],
             [
              0.2222222222222222,
              "#7201a8"
             ],
             [
              0.3333333333333333,
              "#9c179e"
             ],
             [
              0.4444444444444444,
              "#bd3786"
             ],
             [
              0.5555555555555556,
              "#d8576b"
             ],
             [
              0.6666666666666666,
              "#ed7953"
             ],
             [
              0.7777777777777778,
              "#fb9f3a"
             ],
             [
              0.8888888888888888,
              "#fdca26"
             ],
             [
              1,
              "#f0f921"
             ]
            ],
            "type": "contour"
           }
          ],
          "contourcarpet": [
           {
            "colorbar": {
             "outlinewidth": 0,
             "ticks": ""
            },
            "type": "contourcarpet"
           }
          ],
          "heatmap": [
           {
            "colorbar": {
             "outlinewidth": 0,
             "ticks": ""
            },
            "colorscale": [
             [
              0,
              "#0d0887"
             ],
             [
              0.1111111111111111,
              "#46039f"
             ],
             [
              0.2222222222222222,
              "#7201a8"
             ],
             [
              0.3333333333333333,
              "#9c179e"
             ],
             [
              0.4444444444444444,
              "#bd3786"
             ],
             [
              0.5555555555555556,
              "#d8576b"
             ],
             [
              0.6666666666666666,
              "#ed7953"
             ],
             [
              0.7777777777777778,
              "#fb9f3a"
             ],
             [
              0.8888888888888888,
              "#fdca26"
             ],
             [
              1,
              "#f0f921"
             ]
            ],
            "type": "heatmap"
           }
          ],
          "histogram": [
           {
            "marker": {
             "pattern": {
              "fillmode": "overlay",
              "size": 10,
              "solidity": 0.2
             }
            },
            "type": "histogram"
           }
          ],
          "histogram2d": [
           {
            "colorbar": {
             "outlinewidth": 0,
             "ticks": ""
            },
            "colorscale": [
             [
              0,
              "#0d0887"
             ],
             [
              0.1111111111111111,
              "#46039f"
             ],
             [
              0.2222222222222222,
              "#7201a8"
             ],
             [
              0.3333333333333333,
              "#9c179e"
             ],
             [
              0.4444444444444444,
              "#bd3786"
             ],
             [
              0.5555555555555556,
              "#d8576b"
             ],
             [
              0.6666666666666666,
              "#ed7953"
             ],
             [
              0.7777777777777778,
              "#fb9f3a"
             ],
             [
              0.8888888888888888,
              "#fdca26"
             ],
             [
              1,
              "#f0f921"
             ]
            ],
            "type": "histogram2d"
           }
          ],
          "histogram2dcontour": [
           {
            "colorbar": {
             "outlinewidth": 0,
             "ticks": ""
            },
            "colorscale": [
             [
              0,
              "#0d0887"
             ],
             [
              0.1111111111111111,
              "#46039f"
             ],
             [
              0.2222222222222222,
              "#7201a8"
             ],
             [
              0.3333333333333333,
              "#9c179e"
             ],
             [
              0.4444444444444444,
              "#bd3786"
             ],
             [
              0.5555555555555556,
              "#d8576b"
             ],
             [
              0.6666666666666666,
              "#ed7953"
             ],
             [
              0.7777777777777778,
              "#fb9f3a"
             ],
             [
              0.8888888888888888,
              "#fdca26"
             ],
             [
              1,
              "#f0f921"
             ]
            ],
            "type": "histogram2dcontour"
           }
          ],
          "mesh3d": [
           {
            "colorbar": {
             "outlinewidth": 0,
             "ticks": ""
            },
            "type": "mesh3d"
           }
          ],
          "parcoords": [
           {
            "line": {
             "colorbar": {
              "outlinewidth": 0,
              "ticks": ""
             }
            },
            "type": "parcoords"
           }
          ],
          "pie": [
           {
            "automargin": true,
            "type": "pie"
           }
          ],
          "scatter": [
           {
            "fillpattern": {
             "fillmode": "overlay",
             "size": 10,
             "solidity": 0.2
            },
            "type": "scatter"
           }
          ],
          "scatter3d": [
           {
            "line": {
             "colorbar": {
              "outlinewidth": 0,
              "ticks": ""
             }
            },
            "marker": {
             "colorbar": {
              "outlinewidth": 0,
              "ticks": ""
             }
            },
            "type": "scatter3d"
           }
          ],
          "scattercarpet": [
           {
            "marker": {
             "colorbar": {
              "outlinewidth": 0,
              "ticks": ""
             }
            },
            "type": "scattercarpet"
           }
          ],
          "scattergeo": [
           {
            "marker": {
             "colorbar": {
              "outlinewidth": 0,
              "ticks": ""
             }
            },
            "type": "scattergeo"
           }
          ],
          "scattergl": [
           {
            "marker": {
             "colorbar": {
              "outlinewidth": 0,
              "ticks": ""
             }
            },
            "type": "scattergl"
           }
          ],
          "scattermap": [
           {
            "marker": {
             "colorbar": {
              "outlinewidth": 0,
              "ticks": ""
             }
            },
            "type": "scattermap"
           }
          ],
          "scattermapbox": [
           {
            "marker": {
             "colorbar": {
              "outlinewidth": 0,
              "ticks": ""
             }
            },
            "type": "scattermapbox"
           }
          ],
          "scatterpolar": [
           {
            "marker": {
             "colorbar": {
              "outlinewidth": 0,
              "ticks": ""
             }
            },
            "type": "scatterpolar"
           }
          ],
          "scatterpolargl": [
           {
            "marker": {
             "colorbar": {
              "outlinewidth": 0,
              "ticks": ""
             }
            },
            "type": "scatterpolargl"
           }
          ],
          "scatterternary": [
           {
            "marker": {
             "colorbar": {
              "outlinewidth": 0,
              "ticks": ""
             }
            },
            "type": "scatterternary"
           }
          ],
          "surface": [
           {
            "colorbar": {
             "outlinewidth": 0,
             "ticks": ""
            },
            "colorscale": [
             [
              0,
              "#0d0887"
             ],
             [
              0.1111111111111111,
              "#46039f"
             ],
             [
              0.2222222222222222,
              "#7201a8"
             ],
             [
              0.3333333333333333,
              "#9c179e"
             ],
             [
              0.4444444444444444,
              "#bd3786"
             ],
             [
              0.5555555555555556,
              "#d8576b"
             ],
             [
              0.6666666666666666,
              "#ed7953"
             ],
             [
              0.7777777777777778,
              "#fb9f3a"
             ],
             [
              0.8888888888888888,
              "#fdca26"
             ],
             [
              1,
              "#f0f921"
             ]
            ],
            "type": "surface"
           }
          ],
          "table": [
           {
            "cells": {
             "fill": {
              "color": "#EBF0F8"
             },
             "line": {
              "color": "white"
             }
            },
            "header": {
             "fill": {
              "color": "#C8D4E3"
             },
             "line": {
              "color": "white"
             }
            },
            "type": "table"
           }
          ]
         },
         "layout": {
          "annotationdefaults": {
           "arrowcolor": "#2a3f5f",
           "arrowhead": 0,
           "arrowwidth": 1
          },
          "autotypenumbers": "strict",
          "coloraxis": {
           "colorbar": {
            "outlinewidth": 0,
            "ticks": ""
           }
          },
          "colorscale": {
           "diverging": [
            [
             0,
             "#8e0152"
            ],
            [
             0.1,
             "#c51b7d"
            ],
            [
             0.2,
             "#de77ae"
            ],
            [
             0.3,
             "#f1b6da"
            ],
            [
             0.4,
             "#fde0ef"
            ],
            [
             0.5,
             "#f7f7f7"
            ],
            [
             0.6,
             "#e6f5d0"
            ],
            [
             0.7,
             "#b8e186"
            ],
            [
             0.8,
             "#7fbc41"
            ],
            [
             0.9,
             "#4d9221"
            ],
            [
             1,
             "#276419"
            ]
           ],
           "sequential": [
            [
             0,
             "#0d0887"
            ],
            [
             0.1111111111111111,
             "#46039f"
            ],
            [
             0.2222222222222222,
             "#7201a8"
            ],
            [
             0.3333333333333333,
             "#9c179e"
            ],
            [
             0.4444444444444444,
             "#bd3786"
            ],
            [
             0.5555555555555556,
             "#d8576b"
            ],
            [
             0.6666666666666666,
             "#ed7953"
            ],
            [
             0.7777777777777778,
             "#fb9f3a"
            ],
            [
             0.8888888888888888,
             "#fdca26"
            ],
            [
             1,
             "#f0f921"
            ]
           ],
           "sequentialminus": [
            [
             0,
             "#0d0887"
            ],
            [
             0.1111111111111111,
             "#46039f"
            ],
            [
             0.2222222222222222,
             "#7201a8"
            ],
            [
             0.3333333333333333,
             "#9c179e"
            ],
            [
             0.4444444444444444,
             "#bd3786"
            ],
            [
             0.5555555555555556,
             "#d8576b"
            ],
            [
             0.6666666666666666,
             "#ed7953"
            ],
            [
             0.7777777777777778,
             "#fb9f3a"
            ],
            [
             0.8888888888888888,
             "#fdca26"
            ],
            [
             1,
             "#f0f921"
            ]
           ]
          },
          "colorway": [
           "#636efa",
           "#EF553B",
           "#00cc96",
           "#ab63fa",
           "#FFA15A",
           "#19d3f3",
           "#FF6692",
           "#B6E880",
           "#FF97FF",
           "#FECB52"
          ],
          "font": {
           "color": "#2a3f5f"
          },
          "geo": {
           "bgcolor": "white",
           "lakecolor": "white",
           "landcolor": "#E5ECF6",
           "showlakes": true,
           "showland": true,
           "subunitcolor": "white"
          },
          "hoverlabel": {
           "align": "left"
          },
          "hovermode": "closest",
          "mapbox": {
           "style": "light"
          },
          "paper_bgcolor": "white",
          "plot_bgcolor": "#E5ECF6",
          "polar": {
           "angularaxis": {
            "gridcolor": "white",
            "linecolor": "white",
            "ticks": ""
           },
           "bgcolor": "#E5ECF6",
           "radialaxis": {
            "gridcolor": "white",
            "linecolor": "white",
            "ticks": ""
           }
          },
          "scene": {
           "xaxis": {
            "backgroundcolor": "#E5ECF6",
            "gridcolor": "white",
            "gridwidth": 2,
            "linecolor": "white",
            "showbackground": true,
            "ticks": "",
            "zerolinecolor": "white"
           },
           "yaxis": {
            "backgroundcolor": "#E5ECF6",
            "gridcolor": "white",
            "gridwidth": 2,
            "linecolor": "white",
            "showbackground": true,
            "ticks": "",
            "zerolinecolor": "white"
           },
           "zaxis": {
            "backgroundcolor": "#E5ECF6",
            "gridcolor": "white",
            "gridwidth": 2,
            "linecolor": "white",
            "showbackground": true,
            "ticks": "",
            "zerolinecolor": "white"
           }
          },
          "shapedefaults": {
           "line": {
            "color": "#2a3f5f"
           }
          },
          "ternary": {
           "aaxis": {
            "gridcolor": "white",
            "linecolor": "white",
            "ticks": ""
           },
           "baxis": {
            "gridcolor": "white",
            "linecolor": "white",
            "ticks": ""
           },
           "bgcolor": "#E5ECF6",
           "caxis": {
            "gridcolor": "white",
            "linecolor": "white",
            "ticks": ""
           }
          },
          "title": {
           "x": 0.05
          },
          "xaxis": {
           "automargin": true,
           "gridcolor": "white",
           "linecolor": "white",
           "ticks": "",
           "title": {
            "standoff": 15
           },
           "zerolinecolor": "white",
           "zerolinewidth": 2
          },
          "yaxis": {
           "automargin": true,
           "gridcolor": "white",
           "linecolor": "white",
           "ticks": "",
           "title": {
            "standoff": 15
           },
           "zerolinecolor": "white",
           "zerolinewidth": 2
          }
         }
        },
        "xaxis": {
         "anchor": "y",
         "categoryarray": [
          "Tables",
          "Pens",
          "Sofas",
          "Markers",
          "Electronic Games",
          "Paper",
          "Phones",
          "Printers",
          "Laptops",
          "Bookcases",
          "Chairs",
          "Binders"
         ],
         "categoryorder": "array",
         "domain": [
          0,
          1
         ],
         "title": {
          "text": "Sub-Category"
         }
        },
        "yaxis": {
         "anchor": "x",
         "domain": [
          0,
          1
         ],
         "title": {
          "text": "Count"
         }
        }
       }
      }
     },
     "metadata": {},
     "output_type": "display_data"
    }
   ],
   "source": [
    "px.scatter(data_frame= sub_category_counts,\n",
    "            x = 'Sub-Category',\n",
    "            y = 'Count',\n",
    "            color= 'Sub-Category',\n",
    "            size= 'Count',\n",
    "            ).update_traces(texttemplate='%{text}')  "
   ]
  },
  {
   "cell_type": "markdown",
   "id": "df64c7fc",
   "metadata": {},
   "source": [
    "### 2] Bivariate Analysis"
   ]
  },
  {
   "cell_type": "code",
   "execution_count": null,
   "id": "0e58261f",
   "metadata": {},
   "outputs": [
    {
     "data": {
      "text/html": [
       "<div>\n",
       "<style scoped>\n",
       "    .dataframe tbody tr th:only-of-type {\n",
       "        vertical-align: middle;\n",
       "    }\n",
       "\n",
       "    .dataframe tbody tr th {\n",
       "        vertical-align: top;\n",
       "    }\n",
       "\n",
       "    .dataframe thead th {\n",
       "        text-align: right;\n",
       "    }\n",
       "</style>\n",
       "<table border=\"1\" class=\"dataframe\">\n",
       "  <thead>\n",
       "    <tr style=\"text-align: right;\">\n",
       "      <th></th>\n",
       "      <th>Order ID</th>\n",
       "      <th>Amount</th>\n",
       "      <th>Profit</th>\n",
       "      <th>Quantity</th>\n",
       "      <th>Category</th>\n",
       "      <th>Sub-Category</th>\n",
       "      <th>PaymentMode</th>\n",
       "      <th>Order Date</th>\n",
       "      <th>CustomerName</th>\n",
       "      <th>State</th>\n",
       "      <th>City</th>\n",
       "      <th>Year-Month</th>\n",
       "      <th>year</th>\n",
       "      <th>month</th>\n",
       "      <th>day</th>\n",
       "    </tr>\n",
       "    <tr>\n",
       "      <th>Order Date</th>\n",
       "      <th></th>\n",
       "      <th></th>\n",
       "      <th></th>\n",
       "      <th></th>\n",
       "      <th></th>\n",
       "      <th></th>\n",
       "      <th></th>\n",
       "      <th></th>\n",
       "      <th></th>\n",
       "      <th></th>\n",
       "      <th></th>\n",
       "      <th></th>\n",
       "      <th></th>\n",
       "      <th></th>\n",
       "      <th></th>\n",
       "    </tr>\n",
       "  </thead>\n",
       "  <tbody>\n",
       "    <tr>\n",
       "      <th>2020-10-17</th>\n",
       "      <td>B-25730</td>\n",
       "      <td>2863</td>\n",
       "      <td>205</td>\n",
       "      <td>17</td>\n",
       "      <td>Electronics</td>\n",
       "      <td>Phones</td>\n",
       "      <td>UPI</td>\n",
       "      <td>2020-10-17</td>\n",
       "      <td>Ms. Emily Baxter</td>\n",
       "      <td>New York</td>\n",
       "      <td>Rochester</td>\n",
       "      <td>2020-10</td>\n",
       "      <td>2020</td>\n",
       "      <td>10</td>\n",
       "      <td>17</td>\n",
       "    </tr>\n",
       "    <tr>\n",
       "      <th>2024-06-15</th>\n",
       "      <td>B-25873</td>\n",
       "      <td>2684</td>\n",
       "      <td>713</td>\n",
       "      <td>2</td>\n",
       "      <td>Electronics</td>\n",
       "      <td>Electronic Games</td>\n",
       "      <td>UPI</td>\n",
       "      <td>2024-06-15</td>\n",
       "      <td>Meghan Ballard</td>\n",
       "      <td>New York</td>\n",
       "      <td>New York City</td>\n",
       "      <td>2024-06</td>\n",
       "      <td>2024</td>\n",
       "      <td>6</td>\n",
       "      <td>15</td>\n",
       "    </tr>\n",
       "  </tbody>\n",
       "</table>\n",
       "</div>"
      ],
      "text/plain": [
       "           Order ID  Amount  Profit  Quantity     Category      Sub-Category  \\\n",
       "Order Date                                                                     \n",
       "2020-10-17  B-25730    2863     205        17  Electronics            Phones   \n",
       "2024-06-15  B-25873    2684     713         2  Electronics  Electronic Games   \n",
       "\n",
       "           PaymentMode Order Date      CustomerName     State           City  \\\n",
       "Order Date                                                                     \n",
       "2020-10-17         UPI 2020-10-17  Ms. Emily Baxter  New York      Rochester   \n",
       "2024-06-15         UPI 2024-06-15    Meghan Ballard  New York  New York City   \n",
       "\n",
       "           Year-Month  year  month  day  \n",
       "Order Date                               \n",
       "2020-10-17    2020-10  2020     10   17  \n",
       "2024-06-15    2024-06  2024      6   15  "
      ]
     },
     "execution_count": 30,
     "metadata": {},
     "output_type": "execute_result"
    }
   ],
   "source": [
    "df.sample(2)"
   ]
  },
  {
   "cell_type": "code",
   "execution_count": null,
   "id": "894b1380",
   "metadata": {},
   "outputs": [],
   "source": []
  },
  {
   "cell_type": "code",
   "execution_count": null,
   "id": "0fc6c3a1",
   "metadata": {},
   "outputs": [
    {
     "data": {
      "text/plain": [
       "Category\n",
       "Office Supplies    2089510\n",
       "Electronics        2054456\n",
       "Furniture          2038673\n",
       "Name: Amount, dtype: int64"
      ]
     },
     "execution_count": 31,
     "metadata": {},
     "output_type": "execute_result"
    }
   ],
   "source": [
    "df.groupby('Category')['Amount'].sum().sort_values(ascending = False)"
   ]
  },
  {
   "cell_type": "code",
   "execution_count": null,
   "id": "86394519",
   "metadata": {},
   "outputs": [
    {
     "data": {
      "application/vnd.plotly.v1+json": {
       "config": {
        "plotlyServerURL": "https://plot.ly"
       },
       "data": [
        {
         "hovertemplate": "Category=%{x}<br>Amount=%{text}<extra></extra>",
         "legendgroup": "Office Supplies",
         "marker": {
          "color": "#636efa",
          "pattern": {
           "shape": ""
          }
         },
         "name": "Office Supplies",
         "orientation": "v",
         "showlegend": true,
         "text": {
          "bdata": "AAAAACbiP0E=",
          "dtype": "f8"
         },
         "textposition": "outside",
         "texttemplate": "%{text:.2s}",
         "type": "bar",
         "x": [
          "Office Supplies"
         ],
         "xaxis": "x",
         "y": {
          "bdata": "JuIfAA==",
          "dtype": "i4"
         },
         "yaxis": "y"
        },
        {
         "hovertemplate": "Category=%{x}<br>Amount=%{text}<extra></extra>",
         "legendgroup": "Electronics",
         "marker": {
          "color": "#EF553B",
          "pattern": {
           "shape": ""
          }
         },
         "name": "Electronics",
         "orientation": "v",
         "showlegend": true,
         "text": {
          "bdata": "AAAAADhZP0E=",
          "dtype": "f8"
         },
         "textposition": "outside",
         "texttemplate": "%{text:.2s}",
         "type": "bar",
         "x": [
          "Electronics"
         ],
         "xaxis": "x",
         "y": {
          "bdata": "OFkfAA==",
          "dtype": "i4"
         },
         "yaxis": "y"
        },
        {
         "hovertemplate": "Category=%{x}<br>Amount=%{text}<extra></extra>",
         "legendgroup": "Furniture",
         "marker": {
          "color": "#00cc96",
          "pattern": {
           "shape": ""
          }
         },
         "name": "Furniture",
         "orientation": "v",
         "showlegend": true,
         "text": {
          "bdata": "AAAAAJEbP0E=",
          "dtype": "f8"
         },
         "textposition": "outside",
         "texttemplate": "%{text:.2s}",
         "type": "bar",
         "x": [
          "Furniture"
         ],
         "xaxis": "x",
         "y": {
          "bdata": "kRsfAA==",
          "dtype": "i4"
         },
         "yaxis": "y"
        }
       ],
       "layout": {
        "barmode": "relative",
        "legend": {
         "title": {
          "text": "Category"
         },
         "tracegroupgap": 0
        },
        "margin": {
         "t": 60
        },
        "template": {
         "data": {
          "bar": [
           {
            "error_x": {
             "color": "#2a3f5f"
            },
            "error_y": {
             "color": "#2a3f5f"
            },
            "marker": {
             "line": {
              "color": "#E5ECF6",
              "width": 0.5
             },
             "pattern": {
              "fillmode": "overlay",
              "size": 10,
              "solidity": 0.2
             }
            },
            "type": "bar"
           }
          ],
          "barpolar": [
           {
            "marker": {
             "line": {
              "color": "#E5ECF6",
              "width": 0.5
             },
             "pattern": {
              "fillmode": "overlay",
              "size": 10,
              "solidity": 0.2
             }
            },
            "type": "barpolar"
           }
          ],
          "carpet": [
           {
            "aaxis": {
             "endlinecolor": "#2a3f5f",
             "gridcolor": "white",
             "linecolor": "white",
             "minorgridcolor": "white",
             "startlinecolor": "#2a3f5f"
            },
            "baxis": {
             "endlinecolor": "#2a3f5f",
             "gridcolor": "white",
             "linecolor": "white",
             "minorgridcolor": "white",
             "startlinecolor": "#2a3f5f"
            },
            "type": "carpet"
           }
          ],
          "choropleth": [
           {
            "colorbar": {
             "outlinewidth": 0,
             "ticks": ""
            },
            "type": "choropleth"
           }
          ],
          "contour": [
           {
            "colorbar": {
             "outlinewidth": 0,
             "ticks": ""
            },
            "colorscale": [
             [
              0,
              "#0d0887"
             ],
             [
              0.1111111111111111,
              "#46039f"
             ],
             [
              0.2222222222222222,
              "#7201a8"
             ],
             [
              0.3333333333333333,
              "#9c179e"
             ],
             [
              0.4444444444444444,
              "#bd3786"
             ],
             [
              0.5555555555555556,
              "#d8576b"
             ],
             [
              0.6666666666666666,
              "#ed7953"
             ],
             [
              0.7777777777777778,
              "#fb9f3a"
             ],
             [
              0.8888888888888888,
              "#fdca26"
             ],
             [
              1,
              "#f0f921"
             ]
            ],
            "type": "contour"
           }
          ],
          "contourcarpet": [
           {
            "colorbar": {
             "outlinewidth": 0,
             "ticks": ""
            },
            "type": "contourcarpet"
           }
          ],
          "heatmap": [
           {
            "colorbar": {
             "outlinewidth": 0,
             "ticks": ""
            },
            "colorscale": [
             [
              0,
              "#0d0887"
             ],
             [
              0.1111111111111111,
              "#46039f"
             ],
             [
              0.2222222222222222,
              "#7201a8"
             ],
             [
              0.3333333333333333,
              "#9c179e"
             ],
             [
              0.4444444444444444,
              "#bd3786"
             ],
             [
              0.5555555555555556,
              "#d8576b"
             ],
             [
              0.6666666666666666,
              "#ed7953"
             ],
             [
              0.7777777777777778,
              "#fb9f3a"
             ],
             [
              0.8888888888888888,
              "#fdca26"
             ],
             [
              1,
              "#f0f921"
             ]
            ],
            "type": "heatmap"
           }
          ],
          "histogram": [
           {
            "marker": {
             "pattern": {
              "fillmode": "overlay",
              "size": 10,
              "solidity": 0.2
             }
            },
            "type": "histogram"
           }
          ],
          "histogram2d": [
           {
            "colorbar": {
             "outlinewidth": 0,
             "ticks": ""
            },
            "colorscale": [
             [
              0,
              "#0d0887"
             ],
             [
              0.1111111111111111,
              "#46039f"
             ],
             [
              0.2222222222222222,
              "#7201a8"
             ],
             [
              0.3333333333333333,
              "#9c179e"
             ],
             [
              0.4444444444444444,
              "#bd3786"
             ],
             [
              0.5555555555555556,
              "#d8576b"
             ],
             [
              0.6666666666666666,
              "#ed7953"
             ],
             [
              0.7777777777777778,
              "#fb9f3a"
             ],
             [
              0.8888888888888888,
              "#fdca26"
             ],
             [
              1,
              "#f0f921"
             ]
            ],
            "type": "histogram2d"
           }
          ],
          "histogram2dcontour": [
           {
            "colorbar": {
             "outlinewidth": 0,
             "ticks": ""
            },
            "colorscale": [
             [
              0,
              "#0d0887"
             ],
             [
              0.1111111111111111,
              "#46039f"
             ],
             [
              0.2222222222222222,
              "#7201a8"
             ],
             [
              0.3333333333333333,
              "#9c179e"
             ],
             [
              0.4444444444444444,
              "#bd3786"
             ],
             [
              0.5555555555555556,
              "#d8576b"
             ],
             [
              0.6666666666666666,
              "#ed7953"
             ],
             [
              0.7777777777777778,
              "#fb9f3a"
             ],
             [
              0.8888888888888888,
              "#fdca26"
             ],
             [
              1,
              "#f0f921"
             ]
            ],
            "type": "histogram2dcontour"
           }
          ],
          "mesh3d": [
           {
            "colorbar": {
             "outlinewidth": 0,
             "ticks": ""
            },
            "type": "mesh3d"
           }
          ],
          "parcoords": [
           {
            "line": {
             "colorbar": {
              "outlinewidth": 0,
              "ticks": ""
             }
            },
            "type": "parcoords"
           }
          ],
          "pie": [
           {
            "automargin": true,
            "type": "pie"
           }
          ],
          "scatter": [
           {
            "fillpattern": {
             "fillmode": "overlay",
             "size": 10,
             "solidity": 0.2
            },
            "type": "scatter"
           }
          ],
          "scatter3d": [
           {
            "line": {
             "colorbar": {
              "outlinewidth": 0,
              "ticks": ""
             }
            },
            "marker": {
             "colorbar": {
              "outlinewidth": 0,
              "ticks": ""
             }
            },
            "type": "scatter3d"
           }
          ],
          "scattercarpet": [
           {
            "marker": {
             "colorbar": {
              "outlinewidth": 0,
              "ticks": ""
             }
            },
            "type": "scattercarpet"
           }
          ],
          "scattergeo": [
           {
            "marker": {
             "colorbar": {
              "outlinewidth": 0,
              "ticks": ""
             }
            },
            "type": "scattergeo"
           }
          ],
          "scattergl": [
           {
            "marker": {
             "colorbar": {
              "outlinewidth": 0,
              "ticks": ""
             }
            },
            "type": "scattergl"
           }
          ],
          "scattermap": [
           {
            "marker": {
             "colorbar": {
              "outlinewidth": 0,
              "ticks": ""
             }
            },
            "type": "scattermap"
           }
          ],
          "scattermapbox": [
           {
            "marker": {
             "colorbar": {
              "outlinewidth": 0,
              "ticks": ""
             }
            },
            "type": "scattermapbox"
           }
          ],
          "scatterpolar": [
           {
            "marker": {
             "colorbar": {
              "outlinewidth": 0,
              "ticks": ""
             }
            },
            "type": "scatterpolar"
           }
          ],
          "scatterpolargl": [
           {
            "marker": {
             "colorbar": {
              "outlinewidth": 0,
              "ticks": ""
             }
            },
            "type": "scatterpolargl"
           }
          ],
          "scatterternary": [
           {
            "marker": {
             "colorbar": {
              "outlinewidth": 0,
              "ticks": ""
             }
            },
            "type": "scatterternary"
           }
          ],
          "surface": [
           {
            "colorbar": {
             "outlinewidth": 0,
             "ticks": ""
            },
            "colorscale": [
             [
              0,
              "#0d0887"
             ],
             [
              0.1111111111111111,
              "#46039f"
             ],
             [
              0.2222222222222222,
              "#7201a8"
             ],
             [
              0.3333333333333333,
              "#9c179e"
             ],
             [
              0.4444444444444444,
              "#bd3786"
             ],
             [
              0.5555555555555556,
              "#d8576b"
             ],
             [
              0.6666666666666666,
              "#ed7953"
             ],
             [
              0.7777777777777778,
              "#fb9f3a"
             ],
             [
              0.8888888888888888,
              "#fdca26"
             ],
             [
              1,
              "#f0f921"
             ]
            ],
            "type": "surface"
           }
          ],
          "table": [
           {
            "cells": {
             "fill": {
              "color": "#EBF0F8"
             },
             "line": {
              "color": "white"
             }
            },
            "header": {
             "fill": {
              "color": "#C8D4E3"
             },
             "line": {
              "color": "white"
             }
            },
            "type": "table"
           }
          ]
         },
         "layout": {
          "annotationdefaults": {
           "arrowcolor": "#2a3f5f",
           "arrowhead": 0,
           "arrowwidth": 1
          },
          "autotypenumbers": "strict",
          "coloraxis": {
           "colorbar": {
            "outlinewidth": 0,
            "ticks": ""
           }
          },
          "colorscale": {
           "diverging": [
            [
             0,
             "#8e0152"
            ],
            [
             0.1,
             "#c51b7d"
            ],
            [
             0.2,
             "#de77ae"
            ],
            [
             0.3,
             "#f1b6da"
            ],
            [
             0.4,
             "#fde0ef"
            ],
            [
             0.5,
             "#f7f7f7"
            ],
            [
             0.6,
             "#e6f5d0"
            ],
            [
             0.7,
             "#b8e186"
            ],
            [
             0.8,
             "#7fbc41"
            ],
            [
             0.9,
             "#4d9221"
            ],
            [
             1,
             "#276419"
            ]
           ],
           "sequential": [
            [
             0,
             "#0d0887"
            ],
            [
             0.1111111111111111,
             "#46039f"
            ],
            [
             0.2222222222222222,
             "#7201a8"
            ],
            [
             0.3333333333333333,
             "#9c179e"
            ],
            [
             0.4444444444444444,
             "#bd3786"
            ],
            [
             0.5555555555555556,
             "#d8576b"
            ],
            [
             0.6666666666666666,
             "#ed7953"
            ],
            [
             0.7777777777777778,
             "#fb9f3a"
            ],
            [
             0.8888888888888888,
             "#fdca26"
            ],
            [
             1,
             "#f0f921"
            ]
           ],
           "sequentialminus": [
            [
             0,
             "#0d0887"
            ],
            [
             0.1111111111111111,
             "#46039f"
            ],
            [
             0.2222222222222222,
             "#7201a8"
            ],
            [
             0.3333333333333333,
             "#9c179e"
            ],
            [
             0.4444444444444444,
             "#bd3786"
            ],
            [
             0.5555555555555556,
             "#d8576b"
            ],
            [
             0.6666666666666666,
             "#ed7953"
            ],
            [
             0.7777777777777778,
             "#fb9f3a"
            ],
            [
             0.8888888888888888,
             "#fdca26"
            ],
            [
             1,
             "#f0f921"
            ]
           ]
          },
          "colorway": [
           "#636efa",
           "#EF553B",
           "#00cc96",
           "#ab63fa",
           "#FFA15A",
           "#19d3f3",
           "#FF6692",
           "#B6E880",
           "#FF97FF",
           "#FECB52"
          ],
          "font": {
           "color": "#2a3f5f"
          },
          "geo": {
           "bgcolor": "white",
           "lakecolor": "white",
           "landcolor": "#E5ECF6",
           "showlakes": true,
           "showland": true,
           "subunitcolor": "white"
          },
          "hoverlabel": {
           "align": "left"
          },
          "hovermode": "closest",
          "mapbox": {
           "style": "light"
          },
          "paper_bgcolor": "white",
          "plot_bgcolor": "#E5ECF6",
          "polar": {
           "angularaxis": {
            "gridcolor": "white",
            "linecolor": "white",
            "ticks": ""
           },
           "bgcolor": "#E5ECF6",
           "radialaxis": {
            "gridcolor": "white",
            "linecolor": "white",
            "ticks": ""
           }
          },
          "scene": {
           "xaxis": {
            "backgroundcolor": "#E5ECF6",
            "gridcolor": "white",
            "gridwidth": 2,
            "linecolor": "white",
            "showbackground": true,
            "ticks": "",
            "zerolinecolor": "white"
           },
           "yaxis": {
            "backgroundcolor": "#E5ECF6",
            "gridcolor": "white",
            "gridwidth": 2,
            "linecolor": "white",
            "showbackground": true,
            "ticks": "",
            "zerolinecolor": "white"
           },
           "zaxis": {
            "backgroundcolor": "#E5ECF6",
            "gridcolor": "white",
            "gridwidth": 2,
            "linecolor": "white",
            "showbackground": true,
            "ticks": "",
            "zerolinecolor": "white"
           }
          },
          "shapedefaults": {
           "line": {
            "color": "#2a3f5f"
           }
          },
          "ternary": {
           "aaxis": {
            "gridcolor": "white",
            "linecolor": "white",
            "ticks": ""
           },
           "baxis": {
            "gridcolor": "white",
            "linecolor": "white",
            "ticks": ""
           },
           "bgcolor": "#E5ECF6",
           "caxis": {
            "gridcolor": "white",
            "linecolor": "white",
            "ticks": ""
           }
          },
          "title": {
           "x": 0.05
          },
          "xaxis": {
           "automargin": true,
           "gridcolor": "white",
           "linecolor": "white",
           "ticks": "",
           "title": {
            "standoff": 15
           },
           "zerolinecolor": "white",
           "zerolinewidth": 2
          },
          "yaxis": {
           "automargin": true,
           "gridcolor": "white",
           "linecolor": "white",
           "ticks": "",
           "title": {
            "standoff": 15
           },
           "zerolinecolor": "white",
           "zerolinewidth": 2
          }
         }
        },
        "xaxis": {
         "anchor": "y",
         "categoryarray": [
          "Office Supplies",
          "Electronics",
          "Furniture"
         ],
         "categoryorder": "array",
         "domain": [
          0,
          1
         ],
         "title": {
          "text": "Category"
         }
        },
        "yaxis": {
         "anchor": "x",
         "domain": [
          0,
          1
         ],
         "title": {
          "text": "Total Amount"
         }
        }
       }
      }
     },
     "metadata": {},
     "output_type": "display_data"
    }
   ],
   "source": [
    "category_amounts = (\n",
    "    df.groupby('Category')['Amount']\n",
    "    .sum()\n",
    "    .sort_values(ascending=False)\n",
    "    .reset_index()\n",
    ")\n",
    "\n",
    "\n",
    "fig = px.bar(\n",
    "    data_frame=category_amounts,\n",
    "    x='Category',\n",
    "    y='Amount',\n",
    "    color='Category',   \n",
    "    text='Amount'       \n",
    ")\n",
    "\n",
    "fig.update_traces(texttemplate='%{text:.2s}', textposition='outside')  # يظبط شكل القيم\n",
    "fig.update_layout(yaxis_title=\"Total Amount\", xaxis_title=\"Category\")\n",
    "\n",
    "fig.show()"
   ]
  },
  {
   "cell_type": "markdown",
   "id": "536f5ee3",
   "metadata": {},
   "source": [
    "#### what is the total profit made by each Category ?"
   ]
  },
  {
   "cell_type": "code",
   "execution_count": null,
   "id": "dc9682ab",
   "metadata": {},
   "outputs": [
    {
     "data": {
      "text/html": [
       "<div>\n",
       "<style scoped>\n",
       "    .dataframe tbody tr th:only-of-type {\n",
       "        vertical-align: middle;\n",
       "    }\n",
       "\n",
       "    .dataframe tbody tr th {\n",
       "        vertical-align: top;\n",
       "    }\n",
       "\n",
       "    .dataframe thead th {\n",
       "        text-align: right;\n",
       "    }\n",
       "</style>\n",
       "<table border=\"1\" class=\"dataframe\">\n",
       "  <thead>\n",
       "    <tr style=\"text-align: right;\">\n",
       "      <th></th>\n",
       "      <th>Category</th>\n",
       "      <th>Profit</th>\n",
       "    </tr>\n",
       "  </thead>\n",
       "  <tbody>\n",
       "    <tr>\n",
       "      <th>2</th>\n",
       "      <td>Office Supplies</td>\n",
       "      <td>551575</td>\n",
       "    </tr>\n",
       "    <tr>\n",
       "      <th>1</th>\n",
       "      <td>Furniture</td>\n",
       "      <td>540542</td>\n",
       "    </tr>\n",
       "    <tr>\n",
       "      <th>0</th>\n",
       "      <td>Electronics</td>\n",
       "      <td>518580</td>\n",
       "    </tr>\n",
       "  </tbody>\n",
       "</table>\n",
       "</div>"
      ],
      "text/plain": [
       "          Category  Profit\n",
       "2  Office Supplies  551575\n",
       "1        Furniture  540542\n",
       "0      Electronics  518580"
      ]
     },
     "execution_count": 33,
     "metadata": {},
     "output_type": "execute_result"
    }
   ],
   "source": [
    "df.groupby('Category', as_index= False)['Profit'].sum().sort_values(by = 'Profit', ascending= False)"
   ]
  },
  {
   "cell_type": "code",
   "execution_count": null,
   "id": "8166e10b",
   "metadata": {},
   "outputs": [
    {
     "data": {
      "application/vnd.plotly.v1+json": {
       "config": {
        "plotlyServerURL": "https://plot.ly"
       },
       "data": [
        {
         "hovertemplate": "Category=%{x}<br>Profit=%{text}<extra></extra>",
         "legendgroup": "Office Supplies",
         "marker": {
          "color": "#636efa",
          "pattern": {
           "shape": ""
          }
         },
         "name": "Office Supplies",
         "orientation": "v",
         "showlegend": true,
         "text": {
          "bdata": "AAAAAC7VIEE=",
          "dtype": "f8"
         },
         "textposition": "outside",
         "texttemplate": "%{text:.2s}",
         "type": "bar",
         "x": [
          "Office Supplies"
         ],
         "xaxis": "x",
         "y": {
          "bdata": "l2oIAA==",
          "dtype": "i4"
         },
         "yaxis": "y"
        },
        {
         "hovertemplate": "Category=%{x}<br>Profit=%{text}<extra></extra>",
         "legendgroup": "Furniture",
         "marker": {
          "color": "#EF553B",
          "pattern": {
           "shape": ""
          }
         },
         "name": "Furniture",
         "orientation": "v",
         "showlegend": true,
         "text": {
          "bdata": "AAAAAPx+IEE=",
          "dtype": "f8"
         },
         "textposition": "outside",
         "texttemplate": "%{text:.2s}",
         "type": "bar",
         "x": [
          "Furniture"
         ],
         "xaxis": "x",
         "y": {
          "bdata": "fj8IAA==",
          "dtype": "i4"
         },
         "yaxis": "y"
        },
        {
         "hovertemplate": "Category=%{x}<br>Profit=%{text}<extra></extra>",
         "legendgroup": "Electronics",
         "marker": {
          "color": "#00cc96",
          "pattern": {
           "shape": ""
          }
         },
         "name": "Electronics",
         "orientation": "v",
         "showlegend": true,
         "text": {
          "bdata": "AAAAANCmH0E=",
          "dtype": "f8"
         },
         "textposition": "outside",
         "texttemplate": "%{text:.2s}",
         "type": "bar",
         "x": [
          "Electronics"
         ],
         "xaxis": "x",
         "y": {
          "bdata": "tOkHAA==",
          "dtype": "i4"
         },
         "yaxis": "y"
        }
       ],
       "layout": {
        "barmode": "relative",
        "legend": {
         "title": {
          "text": "Category"
         },
         "tracegroupgap": 0
        },
        "margin": {
         "t": 60
        },
        "template": {
         "data": {
          "bar": [
           {
            "error_x": {
             "color": "#2a3f5f"
            },
            "error_y": {
             "color": "#2a3f5f"
            },
            "marker": {
             "line": {
              "color": "#E5ECF6",
              "width": 0.5
             },
             "pattern": {
              "fillmode": "overlay",
              "size": 10,
              "solidity": 0.2
             }
            },
            "type": "bar"
           }
          ],
          "barpolar": [
           {
            "marker": {
             "line": {
              "color": "#E5ECF6",
              "width": 0.5
             },
             "pattern": {
              "fillmode": "overlay",
              "size": 10,
              "solidity": 0.2
             }
            },
            "type": "barpolar"
           }
          ],
          "carpet": [
           {
            "aaxis": {
             "endlinecolor": "#2a3f5f",
             "gridcolor": "white",
             "linecolor": "white",
             "minorgridcolor": "white",
             "startlinecolor": "#2a3f5f"
            },
            "baxis": {
             "endlinecolor": "#2a3f5f",
             "gridcolor": "white",
             "linecolor": "white",
             "minorgridcolor": "white",
             "startlinecolor": "#2a3f5f"
            },
            "type": "carpet"
           }
          ],
          "choropleth": [
           {
            "colorbar": {
             "outlinewidth": 0,
             "ticks": ""
            },
            "type": "choropleth"
           }
          ],
          "contour": [
           {
            "colorbar": {
             "outlinewidth": 0,
             "ticks": ""
            },
            "colorscale": [
             [
              0,
              "#0d0887"
             ],
             [
              0.1111111111111111,
              "#46039f"
             ],
             [
              0.2222222222222222,
              "#7201a8"
             ],
             [
              0.3333333333333333,
              "#9c179e"
             ],
             [
              0.4444444444444444,
              "#bd3786"
             ],
             [
              0.5555555555555556,
              "#d8576b"
             ],
             [
              0.6666666666666666,
              "#ed7953"
             ],
             [
              0.7777777777777778,
              "#fb9f3a"
             ],
             [
              0.8888888888888888,
              "#fdca26"
             ],
             [
              1,
              "#f0f921"
             ]
            ],
            "type": "contour"
           }
          ],
          "contourcarpet": [
           {
            "colorbar": {
             "outlinewidth": 0,
             "ticks": ""
            },
            "type": "contourcarpet"
           }
          ],
          "heatmap": [
           {
            "colorbar": {
             "outlinewidth": 0,
             "ticks": ""
            },
            "colorscale": [
             [
              0,
              "#0d0887"
             ],
             [
              0.1111111111111111,
              "#46039f"
             ],
             [
              0.2222222222222222,
              "#7201a8"
             ],
             [
              0.3333333333333333,
              "#9c179e"
             ],
             [
              0.4444444444444444,
              "#bd3786"
             ],
             [
              0.5555555555555556,
              "#d8576b"
             ],
             [
              0.6666666666666666,
              "#ed7953"
             ],
             [
              0.7777777777777778,
              "#fb9f3a"
             ],
             [
              0.8888888888888888,
              "#fdca26"
             ],
             [
              1,
              "#f0f921"
             ]
            ],
            "type": "heatmap"
           }
          ],
          "histogram": [
           {
            "marker": {
             "pattern": {
              "fillmode": "overlay",
              "size": 10,
              "solidity": 0.2
             }
            },
            "type": "histogram"
           }
          ],
          "histogram2d": [
           {
            "colorbar": {
             "outlinewidth": 0,
             "ticks": ""
            },
            "colorscale": [
             [
              0,
              "#0d0887"
             ],
             [
              0.1111111111111111,
              "#46039f"
             ],
             [
              0.2222222222222222,
              "#7201a8"
             ],
             [
              0.3333333333333333,
              "#9c179e"
             ],
             [
              0.4444444444444444,
              "#bd3786"
             ],
             [
              0.5555555555555556,
              "#d8576b"
             ],
             [
              0.6666666666666666,
              "#ed7953"
             ],
             [
              0.7777777777777778,
              "#fb9f3a"
             ],
             [
              0.8888888888888888,
              "#fdca26"
             ],
             [
              1,
              "#f0f921"
             ]
            ],
            "type": "histogram2d"
           }
          ],
          "histogram2dcontour": [
           {
            "colorbar": {
             "outlinewidth": 0,
             "ticks": ""
            },
            "colorscale": [
             [
              0,
              "#0d0887"
             ],
             [
              0.1111111111111111,
              "#46039f"
             ],
             [
              0.2222222222222222,
              "#7201a8"
             ],
             [
              0.3333333333333333,
              "#9c179e"
             ],
             [
              0.4444444444444444,
              "#bd3786"
             ],
             [
              0.5555555555555556,
              "#d8576b"
             ],
             [
              0.6666666666666666,
              "#ed7953"
             ],
             [
              0.7777777777777778,
              "#fb9f3a"
             ],
             [
              0.8888888888888888,
              "#fdca26"
             ],
             [
              1,
              "#f0f921"
             ]
            ],
            "type": "histogram2dcontour"
           }
          ],
          "mesh3d": [
           {
            "colorbar": {
             "outlinewidth": 0,
             "ticks": ""
            },
            "type": "mesh3d"
           }
          ],
          "parcoords": [
           {
            "line": {
             "colorbar": {
              "outlinewidth": 0,
              "ticks": ""
             }
            },
            "type": "parcoords"
           }
          ],
          "pie": [
           {
            "automargin": true,
            "type": "pie"
           }
          ],
          "scatter": [
           {
            "fillpattern": {
             "fillmode": "overlay",
             "size": 10,
             "solidity": 0.2
            },
            "type": "scatter"
           }
          ],
          "scatter3d": [
           {
            "line": {
             "colorbar": {
              "outlinewidth": 0,
              "ticks": ""
             }
            },
            "marker": {
             "colorbar": {
              "outlinewidth": 0,
              "ticks": ""
             }
            },
            "type": "scatter3d"
           }
          ],
          "scattercarpet": [
           {
            "marker": {
             "colorbar": {
              "outlinewidth": 0,
              "ticks": ""
             }
            },
            "type": "scattercarpet"
           }
          ],
          "scattergeo": [
           {
            "marker": {
             "colorbar": {
              "outlinewidth": 0,
              "ticks": ""
             }
            },
            "type": "scattergeo"
           }
          ],
          "scattergl": [
           {
            "marker": {
             "colorbar": {
              "outlinewidth": 0,
              "ticks": ""
             }
            },
            "type": "scattergl"
           }
          ],
          "scattermap": [
           {
            "marker": {
             "colorbar": {
              "outlinewidth": 0,
              "ticks": ""
             }
            },
            "type": "scattermap"
           }
          ],
          "scattermapbox": [
           {
            "marker": {
             "colorbar": {
              "outlinewidth": 0,
              "ticks": ""
             }
            },
            "type": "scattermapbox"
           }
          ],
          "scatterpolar": [
           {
            "marker": {
             "colorbar": {
              "outlinewidth": 0,
              "ticks": ""
             }
            },
            "type": "scatterpolar"
           }
          ],
          "scatterpolargl": [
           {
            "marker": {
             "colorbar": {
              "outlinewidth": 0,
              "ticks": ""
             }
            },
            "type": "scatterpolargl"
           }
          ],
          "scatterternary": [
           {
            "marker": {
             "colorbar": {
              "outlinewidth": 0,
              "ticks": ""
             }
            },
            "type": "scatterternary"
           }
          ],
          "surface": [
           {
            "colorbar": {
             "outlinewidth": 0,
             "ticks": ""
            },
            "colorscale": [
             [
              0,
              "#0d0887"
             ],
             [
              0.1111111111111111,
              "#46039f"
             ],
             [
              0.2222222222222222,
              "#7201a8"
             ],
             [
              0.3333333333333333,
              "#9c179e"
             ],
             [
              0.4444444444444444,
              "#bd3786"
             ],
             [
              0.5555555555555556,
              "#d8576b"
             ],
             [
              0.6666666666666666,
              "#ed7953"
             ],
             [
              0.7777777777777778,
              "#fb9f3a"
             ],
             [
              0.8888888888888888,
              "#fdca26"
             ],
             [
              1,
              "#f0f921"
             ]
            ],
            "type": "surface"
           }
          ],
          "table": [
           {
            "cells": {
             "fill": {
              "color": "#EBF0F8"
             },
             "line": {
              "color": "white"
             }
            },
            "header": {
             "fill": {
              "color": "#C8D4E3"
             },
             "line": {
              "color": "white"
             }
            },
            "type": "table"
           }
          ]
         },
         "layout": {
          "annotationdefaults": {
           "arrowcolor": "#2a3f5f",
           "arrowhead": 0,
           "arrowwidth": 1
          },
          "autotypenumbers": "strict",
          "coloraxis": {
           "colorbar": {
            "outlinewidth": 0,
            "ticks": ""
           }
          },
          "colorscale": {
           "diverging": [
            [
             0,
             "#8e0152"
            ],
            [
             0.1,
             "#c51b7d"
            ],
            [
             0.2,
             "#de77ae"
            ],
            [
             0.3,
             "#f1b6da"
            ],
            [
             0.4,
             "#fde0ef"
            ],
            [
             0.5,
             "#f7f7f7"
            ],
            [
             0.6,
             "#e6f5d0"
            ],
            [
             0.7,
             "#b8e186"
            ],
            [
             0.8,
             "#7fbc41"
            ],
            [
             0.9,
             "#4d9221"
            ],
            [
             1,
             "#276419"
            ]
           ],
           "sequential": [
            [
             0,
             "#0d0887"
            ],
            [
             0.1111111111111111,
             "#46039f"
            ],
            [
             0.2222222222222222,
             "#7201a8"
            ],
            [
             0.3333333333333333,
             "#9c179e"
            ],
            [
             0.4444444444444444,
             "#bd3786"
            ],
            [
             0.5555555555555556,
             "#d8576b"
            ],
            [
             0.6666666666666666,
             "#ed7953"
            ],
            [
             0.7777777777777778,
             "#fb9f3a"
            ],
            [
             0.8888888888888888,
             "#fdca26"
            ],
            [
             1,
             "#f0f921"
            ]
           ],
           "sequentialminus": [
            [
             0,
             "#0d0887"
            ],
            [
             0.1111111111111111,
             "#46039f"
            ],
            [
             0.2222222222222222,
             "#7201a8"
            ],
            [
             0.3333333333333333,
             "#9c179e"
            ],
            [
             0.4444444444444444,
             "#bd3786"
            ],
            [
             0.5555555555555556,
             "#d8576b"
            ],
            [
             0.6666666666666666,
             "#ed7953"
            ],
            [
             0.7777777777777778,
             "#fb9f3a"
            ],
            [
             0.8888888888888888,
             "#fdca26"
            ],
            [
             1,
             "#f0f921"
            ]
           ]
          },
          "colorway": [
           "#636efa",
           "#EF553B",
           "#00cc96",
           "#ab63fa",
           "#FFA15A",
           "#19d3f3",
           "#FF6692",
           "#B6E880",
           "#FF97FF",
           "#FECB52"
          ],
          "font": {
           "color": "#2a3f5f"
          },
          "geo": {
           "bgcolor": "white",
           "lakecolor": "white",
           "landcolor": "#E5ECF6",
           "showlakes": true,
           "showland": true,
           "subunitcolor": "white"
          },
          "hoverlabel": {
           "align": "left"
          },
          "hovermode": "closest",
          "mapbox": {
           "style": "light"
          },
          "paper_bgcolor": "white",
          "plot_bgcolor": "#E5ECF6",
          "polar": {
           "angularaxis": {
            "gridcolor": "white",
            "linecolor": "white",
            "ticks": ""
           },
           "bgcolor": "#E5ECF6",
           "radialaxis": {
            "gridcolor": "white",
            "linecolor": "white",
            "ticks": ""
           }
          },
          "scene": {
           "xaxis": {
            "backgroundcolor": "#E5ECF6",
            "gridcolor": "white",
            "gridwidth": 2,
            "linecolor": "white",
            "showbackground": true,
            "ticks": "",
            "zerolinecolor": "white"
           },
           "yaxis": {
            "backgroundcolor": "#E5ECF6",
            "gridcolor": "white",
            "gridwidth": 2,
            "linecolor": "white",
            "showbackground": true,
            "ticks": "",
            "zerolinecolor": "white"
           },
           "zaxis": {
            "backgroundcolor": "#E5ECF6",
            "gridcolor": "white",
            "gridwidth": 2,
            "linecolor": "white",
            "showbackground": true,
            "ticks": "",
            "zerolinecolor": "white"
           }
          },
          "shapedefaults": {
           "line": {
            "color": "#2a3f5f"
           }
          },
          "ternary": {
           "aaxis": {
            "gridcolor": "white",
            "linecolor": "white",
            "ticks": ""
           },
           "baxis": {
            "gridcolor": "white",
            "linecolor": "white",
            "ticks": ""
           },
           "bgcolor": "#E5ECF6",
           "caxis": {
            "gridcolor": "white",
            "linecolor": "white",
            "ticks": ""
           }
          },
          "title": {
           "x": 0.05
          },
          "xaxis": {
           "automargin": true,
           "gridcolor": "white",
           "linecolor": "white",
           "ticks": "",
           "title": {
            "standoff": 15
           },
           "zerolinecolor": "white",
           "zerolinewidth": 2
          },
          "yaxis": {
           "automargin": true,
           "gridcolor": "white",
           "linecolor": "white",
           "ticks": "",
           "title": {
            "standoff": 15
           },
           "zerolinecolor": "white",
           "zerolinewidth": 2
          }
         }
        },
        "xaxis": {
         "anchor": "y",
         "categoryarray": [
          "Office Supplies",
          "Furniture",
          "Electronics"
         ],
         "categoryorder": "array",
         "domain": [
          0,
          1
         ],
         "title": {
          "text": "Category"
         }
        },
        "yaxis": {
         "anchor": "x",
         "domain": [
          0,
          1
         ],
         "title": {
          "text": "Total Profit"
         }
        }
       }
      }
     },
     "metadata": {},
     "output_type": "display_data"
    }
   ],
   "source": [
    "category_profit = (\n",
    "    df.groupby('Category', as_index=False)['Profit']\n",
    "    .sum()\n",
    "    .sort_values(by='Profit', ascending=False)\n",
    ")\n",
    "\n",
    "\n",
    "fig = px.bar(\n",
    "    data_frame=category_profit,\n",
    "    x='Category',\n",
    "    y='Profit',\n",
    "    text='Profit',\n",
    "    color='Category'   \n",
    ")\n",
    "\n",
    "\n",
    "fig.update_traces(texttemplate='%{text:.2s}', textposition='outside')\n",
    "fig.update_layout(yaxis_title=\"Total Profit\", xaxis_title=\"Category\")\n",
    "\n",
    "fig.show()"
   ]
  },
  {
   "cell_type": "markdown",
   "id": "403e0c26",
   "metadata": {},
   "source": [
    "### Bivariate analysis\n",
    "    -- Sub_category"
   ]
  },
  {
   "cell_type": "code",
   "execution_count": null,
   "id": "bd908471",
   "metadata": {},
   "outputs": [
    {
     "data": {
      "text/plain": [
       "Sub-Category\n",
       "Markers             627875\n",
       "Tables              625177\n",
       "Sofas               568367\n",
       "Printers            566359\n",
       "Electronic Games    565092\n",
       "Pens                552269\n",
       "Paper               524755\n",
       "Phones              503055\n",
       "Chairs              431964\n",
       "Laptops             419950\n",
       "Bookcases           413165\n",
       "Binders             384611\n",
       "Name: Amount, dtype: int64"
      ]
     },
     "execution_count": 76,
     "metadata": {},
     "output_type": "execute_result"
    }
   ],
   "source": [
    "df.groupby('Sub-Category')['Amount'].sum().sort_values(ascending = False)"
   ]
  },
  {
   "cell_type": "code",
   "execution_count": null,
   "id": "b936fa38",
   "metadata": {},
   "outputs": [
    {
     "data": {
      "application/vnd.plotly.v1+json": {
       "config": {
        "plotlyServerURL": "https://plot.ly"
       },
       "data": [
        {
         "hovertemplate": "Sub-Category=%{x}<br>Amount=%{text}<extra></extra>",
         "legendgroup": "Markers",
         "marker": {
          "color": "#636efa",
          "pattern": {
           "shape": ""
          }
         },
         "name": "Markers",
         "orientation": "v",
         "showlegend": true,
         "text": {
          "bdata": "AAAAAEYpI0E=",
          "dtype": "f8"
         },
         "textposition": "outside",
         "texttemplate": "%{text:.2s}",
         "type": "bar",
         "x": [
          "Markers"
         ],
         "xaxis": "x",
         "y": {
          "bdata": "o5QJAA==",
          "dtype": "i4"
         },
         "yaxis": "y"
        },
        {
         "hovertemplate": "Sub-Category=%{x}<br>Amount=%{text}<extra></extra>",
         "legendgroup": "Tables",
         "marker": {
          "color": "#EF553B",
          "pattern": {
           "shape": ""
          }
         },
         "name": "Tables",
         "orientation": "v",
         "showlegend": true,
         "text": {
          "bdata": "AAAAADIUI0E=",
          "dtype": "f8"
         },
         "textposition": "outside",
         "texttemplate": "%{text:.2s}",
         "type": "bar",
         "x": [
          "Tables"
         ],
         "xaxis": "x",
         "y": {
          "bdata": "GYoJAA==",
          "dtype": "i4"
         },
         "yaxis": "y"
        },
        {
         "hovertemplate": "Sub-Category=%{x}<br>Amount=%{text}<extra></extra>",
         "legendgroup": "Sofas",
         "marker": {
          "color": "#00cc96",
          "pattern": {
           "shape": ""
          }
         },
         "name": "Sofas",
         "orientation": "v",
         "showlegend": true,
         "text": {
          "bdata": "AAAAAF5YIUE=",
          "dtype": "f8"
         },
         "textposition": "outside",
         "texttemplate": "%{text:.2s}",
         "type": "bar",
         "x": [
          "Sofas"
         ],
         "xaxis": "x",
         "y": {
          "bdata": "L6wIAA==",
          "dtype": "i4"
         },
         "yaxis": "y"
        },
        {
         "hovertemplate": "Sub-Category=%{x}<br>Amount=%{text}<extra></extra>",
         "legendgroup": "Printers",
         "marker": {
          "color": "#ab63fa",
          "pattern": {
           "shape": ""
          }
         },
         "name": "Printers",
         "orientation": "v",
         "showlegend": true,
         "text": {
          "bdata": "AAAAAK5IIUE=",
          "dtype": "f8"
         },
         "textposition": "outside",
         "texttemplate": "%{text:.2s}",
         "type": "bar",
         "x": [
          "Printers"
         ],
         "xaxis": "x",
         "y": {
          "bdata": "V6QIAA==",
          "dtype": "i4"
         },
         "yaxis": "y"
        },
        {
         "hovertemplate": "Sub-Category=%{x}<br>Amount=%{text}<extra></extra>",
         "legendgroup": "Electronic Games",
         "marker": {
          "color": "#FFA15A",
          "pattern": {
           "shape": ""
          }
         },
         "name": "Electronic Games",
         "orientation": "v",
         "showlegend": true,
         "text": {
          "bdata": "AAAAAMg+IUE=",
          "dtype": "f8"
         },
         "textposition": "outside",
         "texttemplate": "%{text:.2s}",
         "type": "bar",
         "x": [
          "Electronic Games"
         ],
         "xaxis": "x",
         "y": {
          "bdata": "ZJ8IAA==",
          "dtype": "i4"
         },
         "yaxis": "y"
        },
        {
         "hovertemplate": "Sub-Category=%{x}<br>Amount=%{text}<extra></extra>",
         "legendgroup": "Pens",
         "marker": {
          "color": "#19d3f3",
          "pattern": {
           "shape": ""
          }
         },
         "name": "Pens",
         "orientation": "v",
         "showlegend": true,
         "text": {
          "bdata": "AAAAAJraIEE=",
          "dtype": "f8"
         },
         "textposition": "outside",
         "texttemplate": "%{text:.2s}",
         "type": "bar",
         "x": [
          "Pens"
         ],
         "xaxis": "x",
         "y": {
          "bdata": "TW0IAA==",
          "dtype": "i4"
         },
         "yaxis": "y"
        },
        {
         "hovertemplate": "Sub-Category=%{x}<br>Amount=%{text}<extra></extra>",
         "legendgroup": "Paper",
         "marker": {
          "color": "#FF6692",
          "pattern": {
           "shape": ""
          }
         },
         "name": "Paper",
         "orientation": "v",
         "showlegend": true,
         "text": {
          "bdata": "AAAAAKYDIEE=",
          "dtype": "f8"
         },
         "textposition": "outside",
         "texttemplate": "%{text:.2s}",
         "type": "bar",
         "x": [
          "Paper"
         ],
         "xaxis": "x",
         "y": {
          "bdata": "0wEIAA==",
          "dtype": "i4"
         },
         "yaxis": "y"
        },
        {
         "hovertemplate": "Sub-Category=%{x}<br>Amount=%{text}<extra></extra>",
         "legendgroup": "Phones",
         "marker": {
          "color": "#B6E880",
          "pattern": {
           "shape": ""
          }
         },
         "name": "Phones",
         "orientation": "v",
         "showlegend": true,
         "text": {
          "bdata": "AAAAADy0HkE=",
          "dtype": "f8"
         },
         "textposition": "outside",
         "texttemplate": "%{text:.2s}",
         "type": "bar",
         "x": [
          "Phones"
         ],
         "xaxis": "x",
         "y": {
          "bdata": "D60HAA==",
          "dtype": "i4"
         },
         "yaxis": "y"
        },
        {
         "hovertemplate": "Sub-Category=%{x}<br>Amount=%{text}<extra></extra>",
         "legendgroup": "Chairs",
         "marker": {
          "color": "#FF97FF",
          "pattern": {
           "shape": ""
          }
         },
         "name": "Chairs",
         "orientation": "v",
         "showlegend": true,
         "text": {
          "bdata": "AAAAAHBdGkE=",
          "dtype": "f8"
         },
         "textposition": "outside",
         "texttemplate": "%{text:.2s}",
         "type": "bar",
         "x": [
          "Chairs"
         ],
         "xaxis": "x",
         "y": {
          "bdata": "XJcGAA==",
          "dtype": "i4"
         },
         "yaxis": "y"
        },
        {
         "hovertemplate": "Sub-Category=%{x}<br>Amount=%{text}<extra></extra>",
         "legendgroup": "Laptops",
         "marker": {
          "color": "#FECB52",
          "pattern": {
           "shape": ""
          }
         },
         "name": "Laptops",
         "orientation": "v",
         "showlegend": true,
         "text": {
          "bdata": "AAAAALihGUE=",
          "dtype": "f8"
         },
         "textposition": "outside",
         "texttemplate": "%{text:.2s}",
         "type": "bar",
         "x": [
          "Laptops"
         ],
         "xaxis": "x",
         "y": {
          "bdata": "bmgGAA==",
          "dtype": "i4"
         },
         "yaxis": "y"
        },
        {
         "hovertemplate": "Sub-Category=%{x}<br>Amount=%{text}<extra></extra>",
         "legendgroup": "Bookcases",
         "marker": {
          "color": "#636efa",
          "pattern": {
           "shape": ""
          }
         },
         "name": "Bookcases",
         "orientation": "v",
         "showlegend": true,
         "text": {
          "bdata": "AAAAALQ3GUE=",
          "dtype": "f8"
         },
         "textposition": "outside",
         "texttemplate": "%{text:.2s}",
         "type": "bar",
         "x": [
          "Bookcases"
         ],
         "xaxis": "x",
         "y": {
          "bdata": "7U0GAA==",
          "dtype": "i4"
         },
         "yaxis": "y"
        },
        {
         "hovertemplate": "Sub-Category=%{x}<br>Amount=%{text}<extra></extra>",
         "legendgroup": "Binders",
         "marker": {
          "color": "#EF553B",
          "pattern": {
           "shape": ""
          }
         },
         "name": "Binders",
         "orientation": "v",
         "showlegend": true,
         "text": {
          "bdata": "AAAAAIx5F0E=",
          "dtype": "f8"
         },
         "textposition": "outside",
         "texttemplate": "%{text:.2s}",
         "type": "bar",
         "x": [
          "Binders"
         ],
         "xaxis": "x",
         "y": {
          "bdata": "Y94FAA==",
          "dtype": "i4"
         },
         "yaxis": "y"
        }
       ],
       "layout": {
        "barmode": "relative",
        "legend": {
         "title": {
          "text": "Sub-Category"
         },
         "tracegroupgap": 0
        },
        "margin": {
         "t": 60
        },
        "template": {
         "data": {
          "bar": [
           {
            "error_x": {
             "color": "#2a3f5f"
            },
            "error_y": {
             "color": "#2a3f5f"
            },
            "marker": {
             "line": {
              "color": "#E5ECF6",
              "width": 0.5
             },
             "pattern": {
              "fillmode": "overlay",
              "size": 10,
              "solidity": 0.2
             }
            },
            "type": "bar"
           }
          ],
          "barpolar": [
           {
            "marker": {
             "line": {
              "color": "#E5ECF6",
              "width": 0.5
             },
             "pattern": {
              "fillmode": "overlay",
              "size": 10,
              "solidity": 0.2
             }
            },
            "type": "barpolar"
           }
          ],
          "carpet": [
           {
            "aaxis": {
             "endlinecolor": "#2a3f5f",
             "gridcolor": "white",
             "linecolor": "white",
             "minorgridcolor": "white",
             "startlinecolor": "#2a3f5f"
            },
            "baxis": {
             "endlinecolor": "#2a3f5f",
             "gridcolor": "white",
             "linecolor": "white",
             "minorgridcolor": "white",
             "startlinecolor": "#2a3f5f"
            },
            "type": "carpet"
           }
          ],
          "choropleth": [
           {
            "colorbar": {
             "outlinewidth": 0,
             "ticks": ""
            },
            "type": "choropleth"
           }
          ],
          "contour": [
           {
            "colorbar": {
             "outlinewidth": 0,
             "ticks": ""
            },
            "colorscale": [
             [
              0,
              "#0d0887"
             ],
             [
              0.1111111111111111,
              "#46039f"
             ],
             [
              0.2222222222222222,
              "#7201a8"
             ],
             [
              0.3333333333333333,
              "#9c179e"
             ],
             [
              0.4444444444444444,
              "#bd3786"
             ],
             [
              0.5555555555555556,
              "#d8576b"
             ],
             [
              0.6666666666666666,
              "#ed7953"
             ],
             [
              0.7777777777777778,
              "#fb9f3a"
             ],
             [
              0.8888888888888888,
              "#fdca26"
             ],
             [
              1,
              "#f0f921"
             ]
            ],
            "type": "contour"
           }
          ],
          "contourcarpet": [
           {
            "colorbar": {
             "outlinewidth": 0,
             "ticks": ""
            },
            "type": "contourcarpet"
           }
          ],
          "heatmap": [
           {
            "colorbar": {
             "outlinewidth": 0,
             "ticks": ""
            },
            "colorscale": [
             [
              0,
              "#0d0887"
             ],
             [
              0.1111111111111111,
              "#46039f"
             ],
             [
              0.2222222222222222,
              "#7201a8"
             ],
             [
              0.3333333333333333,
              "#9c179e"
             ],
             [
              0.4444444444444444,
              "#bd3786"
             ],
             [
              0.5555555555555556,
              "#d8576b"
             ],
             [
              0.6666666666666666,
              "#ed7953"
             ],
             [
              0.7777777777777778,
              "#fb9f3a"
             ],
             [
              0.8888888888888888,
              "#fdca26"
             ],
             [
              1,
              "#f0f921"
             ]
            ],
            "type": "heatmap"
           }
          ],
          "histogram": [
           {
            "marker": {
             "pattern": {
              "fillmode": "overlay",
              "size": 10,
              "solidity": 0.2
             }
            },
            "type": "histogram"
           }
          ],
          "histogram2d": [
           {
            "colorbar": {
             "outlinewidth": 0,
             "ticks": ""
            },
            "colorscale": [
             [
              0,
              "#0d0887"
             ],
             [
              0.1111111111111111,
              "#46039f"
             ],
             [
              0.2222222222222222,
              "#7201a8"
             ],
             [
              0.3333333333333333,
              "#9c179e"
             ],
             [
              0.4444444444444444,
              "#bd3786"
             ],
             [
              0.5555555555555556,
              "#d8576b"
             ],
             [
              0.6666666666666666,
              "#ed7953"
             ],
             [
              0.7777777777777778,
              "#fb9f3a"
             ],
             [
              0.8888888888888888,
              "#fdca26"
             ],
             [
              1,
              "#f0f921"
             ]
            ],
            "type": "histogram2d"
           }
          ],
          "histogram2dcontour": [
           {
            "colorbar": {
             "outlinewidth": 0,
             "ticks": ""
            },
            "colorscale": [
             [
              0,
              "#0d0887"
             ],
             [
              0.1111111111111111,
              "#46039f"
             ],
             [
              0.2222222222222222,
              "#7201a8"
             ],
             [
              0.3333333333333333,
              "#9c179e"
             ],
             [
              0.4444444444444444,
              "#bd3786"
             ],
             [
              0.5555555555555556,
              "#d8576b"
             ],
             [
              0.6666666666666666,
              "#ed7953"
             ],
             [
              0.7777777777777778,
              "#fb9f3a"
             ],
             [
              0.8888888888888888,
              "#fdca26"
             ],
             [
              1,
              "#f0f921"
             ]
            ],
            "type": "histogram2dcontour"
           }
          ],
          "mesh3d": [
           {
            "colorbar": {
             "outlinewidth": 0,
             "ticks": ""
            },
            "type": "mesh3d"
           }
          ],
          "parcoords": [
           {
            "line": {
             "colorbar": {
              "outlinewidth": 0,
              "ticks": ""
             }
            },
            "type": "parcoords"
           }
          ],
          "pie": [
           {
            "automargin": true,
            "type": "pie"
           }
          ],
          "scatter": [
           {
            "fillpattern": {
             "fillmode": "overlay",
             "size": 10,
             "solidity": 0.2
            },
            "type": "scatter"
           }
          ],
          "scatter3d": [
           {
            "line": {
             "colorbar": {
              "outlinewidth": 0,
              "ticks": ""
             }
            },
            "marker": {
             "colorbar": {
              "outlinewidth": 0,
              "ticks": ""
             }
            },
            "type": "scatter3d"
           }
          ],
          "scattercarpet": [
           {
            "marker": {
             "colorbar": {
              "outlinewidth": 0,
              "ticks": ""
             }
            },
            "type": "scattercarpet"
           }
          ],
          "scattergeo": [
           {
            "marker": {
             "colorbar": {
              "outlinewidth": 0,
              "ticks": ""
             }
            },
            "type": "scattergeo"
           }
          ],
          "scattergl": [
           {
            "marker": {
             "colorbar": {
              "outlinewidth": 0,
              "ticks": ""
             }
            },
            "type": "scattergl"
           }
          ],
          "scattermap": [
           {
            "marker": {
             "colorbar": {
              "outlinewidth": 0,
              "ticks": ""
             }
            },
            "type": "scattermap"
           }
          ],
          "scattermapbox": [
           {
            "marker": {
             "colorbar": {
              "outlinewidth": 0,
              "ticks": ""
             }
            },
            "type": "scattermapbox"
           }
          ],
          "scatterpolar": [
           {
            "marker": {
             "colorbar": {
              "outlinewidth": 0,
              "ticks": ""
             }
            },
            "type": "scatterpolar"
           }
          ],
          "scatterpolargl": [
           {
            "marker": {
             "colorbar": {
              "outlinewidth": 0,
              "ticks": ""
             }
            },
            "type": "scatterpolargl"
           }
          ],
          "scatterternary": [
           {
            "marker": {
             "colorbar": {
              "outlinewidth": 0,
              "ticks": ""
             }
            },
            "type": "scatterternary"
           }
          ],
          "surface": [
           {
            "colorbar": {
             "outlinewidth": 0,
             "ticks": ""
            },
            "colorscale": [
             [
              0,
              "#0d0887"
             ],
             [
              0.1111111111111111,
              "#46039f"
             ],
             [
              0.2222222222222222,
              "#7201a8"
             ],
             [
              0.3333333333333333,
              "#9c179e"
             ],
             [
              0.4444444444444444,
              "#bd3786"
             ],
             [
              0.5555555555555556,
              "#d8576b"
             ],
             [
              0.6666666666666666,
              "#ed7953"
             ],
             [
              0.7777777777777778,
              "#fb9f3a"
             ],
             [
              0.8888888888888888,
              "#fdca26"
             ],
             [
              1,
              "#f0f921"
             ]
            ],
            "type": "surface"
           }
          ],
          "table": [
           {
            "cells": {
             "fill": {
              "color": "#EBF0F8"
             },
             "line": {
              "color": "white"
             }
            },
            "header": {
             "fill": {
              "color": "#C8D4E3"
             },
             "line": {
              "color": "white"
             }
            },
            "type": "table"
           }
          ]
         },
         "layout": {
          "annotationdefaults": {
           "arrowcolor": "#2a3f5f",
           "arrowhead": 0,
           "arrowwidth": 1
          },
          "autotypenumbers": "strict",
          "coloraxis": {
           "colorbar": {
            "outlinewidth": 0,
            "ticks": ""
           }
          },
          "colorscale": {
           "diverging": [
            [
             0,
             "#8e0152"
            ],
            [
             0.1,
             "#c51b7d"
            ],
            [
             0.2,
             "#de77ae"
            ],
            [
             0.3,
             "#f1b6da"
            ],
            [
             0.4,
             "#fde0ef"
            ],
            [
             0.5,
             "#f7f7f7"
            ],
            [
             0.6,
             "#e6f5d0"
            ],
            [
             0.7,
             "#b8e186"
            ],
            [
             0.8,
             "#7fbc41"
            ],
            [
             0.9,
             "#4d9221"
            ],
            [
             1,
             "#276419"
            ]
           ],
           "sequential": [
            [
             0,
             "#0d0887"
            ],
            [
             0.1111111111111111,
             "#46039f"
            ],
            [
             0.2222222222222222,
             "#7201a8"
            ],
            [
             0.3333333333333333,
             "#9c179e"
            ],
            [
             0.4444444444444444,
             "#bd3786"
            ],
            [
             0.5555555555555556,
             "#d8576b"
            ],
            [
             0.6666666666666666,
             "#ed7953"
            ],
            [
             0.7777777777777778,
             "#fb9f3a"
            ],
            [
             0.8888888888888888,
             "#fdca26"
            ],
            [
             1,
             "#f0f921"
            ]
           ],
           "sequentialminus": [
            [
             0,
             "#0d0887"
            ],
            [
             0.1111111111111111,
             "#46039f"
            ],
            [
             0.2222222222222222,
             "#7201a8"
            ],
            [
             0.3333333333333333,
             "#9c179e"
            ],
            [
             0.4444444444444444,
             "#bd3786"
            ],
            [
             0.5555555555555556,
             "#d8576b"
            ],
            [
             0.6666666666666666,
             "#ed7953"
            ],
            [
             0.7777777777777778,
             "#fb9f3a"
            ],
            [
             0.8888888888888888,
             "#fdca26"
            ],
            [
             1,
             "#f0f921"
            ]
           ]
          },
          "colorway": [
           "#636efa",
           "#EF553B",
           "#00cc96",
           "#ab63fa",
           "#FFA15A",
           "#19d3f3",
           "#FF6692",
           "#B6E880",
           "#FF97FF",
           "#FECB52"
          ],
          "font": {
           "color": "#2a3f5f"
          },
          "geo": {
           "bgcolor": "white",
           "lakecolor": "white",
           "landcolor": "#E5ECF6",
           "showlakes": true,
           "showland": true,
           "subunitcolor": "white"
          },
          "hoverlabel": {
           "align": "left"
          },
          "hovermode": "closest",
          "mapbox": {
           "style": "light"
          },
          "paper_bgcolor": "white",
          "plot_bgcolor": "#E5ECF6",
          "polar": {
           "angularaxis": {
            "gridcolor": "white",
            "linecolor": "white",
            "ticks": ""
           },
           "bgcolor": "#E5ECF6",
           "radialaxis": {
            "gridcolor": "white",
            "linecolor": "white",
            "ticks": ""
           }
          },
          "scene": {
           "xaxis": {
            "backgroundcolor": "#E5ECF6",
            "gridcolor": "white",
            "gridwidth": 2,
            "linecolor": "white",
            "showbackground": true,
            "ticks": "",
            "zerolinecolor": "white"
           },
           "yaxis": {
            "backgroundcolor": "#E5ECF6",
            "gridcolor": "white",
            "gridwidth": 2,
            "linecolor": "white",
            "showbackground": true,
            "ticks": "",
            "zerolinecolor": "white"
           },
           "zaxis": {
            "backgroundcolor": "#E5ECF6",
            "gridcolor": "white",
            "gridwidth": 2,
            "linecolor": "white",
            "showbackground": true,
            "ticks": "",
            "zerolinecolor": "white"
           }
          },
          "shapedefaults": {
           "line": {
            "color": "#2a3f5f"
           }
          },
          "ternary": {
           "aaxis": {
            "gridcolor": "white",
            "linecolor": "white",
            "ticks": ""
           },
           "baxis": {
            "gridcolor": "white",
            "linecolor": "white",
            "ticks": ""
           },
           "bgcolor": "#E5ECF6",
           "caxis": {
            "gridcolor": "white",
            "linecolor": "white",
            "ticks": ""
           }
          },
          "title": {
           "x": 0.05
          },
          "xaxis": {
           "automargin": true,
           "gridcolor": "white",
           "linecolor": "white",
           "ticks": "",
           "title": {
            "standoff": 15
           },
           "zerolinecolor": "white",
           "zerolinewidth": 2
          },
          "yaxis": {
           "automargin": true,
           "gridcolor": "white",
           "linecolor": "white",
           "ticks": "",
           "title": {
            "standoff": 15
           },
           "zerolinecolor": "white",
           "zerolinewidth": 2
          }
         }
        },
        "xaxis": {
         "anchor": "y",
         "categoryarray": [
          "Markers",
          "Tables",
          "Sofas",
          "Printers",
          "Electronic Games",
          "Pens",
          "Paper",
          "Phones",
          "Chairs",
          "Laptops",
          "Bookcases",
          "Binders"
         ],
         "categoryorder": "array",
         "domain": [
          0,
          1
         ],
         "title": {
          "text": "Sub-Category"
         }
        },
        "yaxis": {
         "anchor": "x",
         "domain": [
          0,
          1
         ],
         "title": {
          "text": "Total Amount"
         }
        }
       }
      }
     },
     "metadata": {},
     "output_type": "display_data"
    }
   ],
   "source": [
    "sub_category_amounts = (\n",
    "    df.groupby('Sub-Category')['Amount']\n",
    "    .sum()\n",
    "    .sort_values(ascending=False)\n",
    "    .reset_index()\n",
    ")\n",
    "\n",
    "\n",
    "fig = px.bar(\n",
    "    data_frame=sub_category_amounts,\n",
    "    x='Sub-Category',\n",
    "    y='Amount',\n",
    "    color='Sub-Category',   \n",
    "    text='Amount'       \n",
    ")\n",
    "\n",
    "fig.update_traces(texttemplate='%{text:.2s}', textposition='outside')  \n",
    "fig.update_layout(yaxis_title=\"Total Amount\", xaxis_title=\"Sub-Category\")\n",
    "\n",
    "fig.show()"
   ]
  },
  {
   "cell_type": "markdown",
   "id": "25976942",
   "metadata": {},
   "source": [
    "## 3] Multivariate Analysis"
   ]
  },
  {
   "cell_type": "code",
   "execution_count": null,
   "id": "67b297d4",
   "metadata": {},
   "outputs": [
    {
     "data": {
      "application/vnd.plotly.v1+json": {
       "config": {
        "plotlyServerURL": "https://plot.ly"
       },
       "data": [
        {
         "customdata": [
          [
           "David Padilla",
           "Miami"
          ],
          [
           "Connor Morgan",
           "Chicago"
          ],
          [
           "Robert Stone",
           "Buffalo"
          ],
          [
           "David Padilla",
           "Miami"
          ],
          [
           "Connor Morgan",
           "Chicago"
          ],
          [
           "Robert Stone",
           "Buffalo"
          ],
          [
           "Richard Kelley",
           "Los Angeles"
          ],
          [
           "Karen Johnson",
           "Rochester"
          ],
          [
           "Juan Erickson",
           "Austin"
          ],
          [
           "Jessica Richardson",
           "San Diego"
          ],
          [
           "Kimberly Warren",
           "Cincinnati"
          ],
          [
           "Denise Hampton",
           "San Francisco"
          ],
          [
           "Justin Rodriguez",
           "Cleveland"
          ],
          [
           "Ms. Emily Baxter",
           "Rochester"
          ],
          [
           "Austin White",
           "Los Angeles"
          ],
          [
           "Morgan Montes",
           "San Diego"
          ],
          [
           "Christine Mosley",
           "Cincinnati"
          ],
          [
           "Ashley Rodriguez",
           "Austin"
          ],
          [
           "Elizabeth King",
           "Dallas"
          ],
          [
           "Kelsey Castaneda",
           "Cleveland"
          ],
          [
           "Katherine Harris",
           "Los Angeles"
          ],
          [
           "Andrew Allen",
           "San Diego"
          ],
          [
           "Vanessa Bauer",
           "Buffalo"
          ],
          [
           "Sean Smith",
           "Cleveland"
          ],
          [
           "Emily Gill",
           "Springfield"
          ],
          [
           "Brian Patrick",
           "Tampa"
          ],
          [
           "Dr. Sarah Booth",
           "Cincinnati"
          ],
          [
           "Marc Strickland",
           "Orlando"
          ],
          [
           "Mark Blackburn",
           "Dallas"
          ],
          [
           "Zachary Perez",
           "Austin"
          ],
          [
           "Brian Green",
           "San Diego"
          ],
          [
           "Zachary Perez",
           "Austin"
          ],
          [
           "Brian Green",
           "San Diego"
          ],
          [
           "Bryan Russell",
           "Dallas"
          ],
          [
           "Tony Maddox",
           "San Francisco"
          ],
          [
           "Bryan Russell",
           "Dallas"
          ],
          [
           "Tony Maddox",
           "San Francisco"
          ],
          [
           "Sean Elliott",
           "San Francisco"
          ],
          [
           "Wanda West",
           "Cleveland"
          ],
          [
           "Renee Solomon",
           "Tampa"
          ],
          [
           "Daryl Miles",
           "Orlando"
          ],
          [
           "Michael Hunt",
           "Dallas"
          ],
          [
           "Christina Davis",
           "Chicago"
          ],
          [
           "Claudia Curry",
           "Austin"
          ],
          [
           "Brandon Anderson",
           "Austin"
          ],
          [
           "Rebecca Smith",
           "Dallas"
          ],
          [
           "William Welch",
           "Orlando"
          ],
          [
           "Amy Wilson",
           "Los Angeles"
          ],
          [
           "Susan Ramirez",
           "Cleveland"
          ],
          [
           "Jacob Meyer",
           "Peoria"
          ],
          [
           "Scott Lewis",
           "Houston"
          ],
          [
           "Eric Griffith",
           "Chicago"
          ],
          [
           "Anna Ferguson",
           "San Francisco"
          ],
          [
           "Scott Lewis",
           "Houston"
          ],
          [
           "Eric Griffith",
           "Chicago"
          ],
          [
           "Anna Ferguson",
           "San Francisco"
          ],
          [
           "Lisa Graham",
           "Peoria"
          ],
          [
           "Darryl Robbins",
           "Peoria"
          ],
          [
           "Kimberly Smith",
           "Springfield"
          ],
          [
           "Maria Thomas",
           "Miami"
          ],
          [
           "Nicholas Johnson",
           "Dallas"
          ],
          [
           "Dawn Howard",
           "Houston"
          ],
          [
           "Dawn Howard",
           "Houston"
          ],
          [
           "Terri Madden",
           "Rochester"
          ],
          [
           "James Gutierrez",
           "Rochester"
          ],
          [
           "James Gutierrez",
           "Rochester"
          ],
          [
           "Kimberly Greene",
           "Orlando"
          ],
          [
           "Tammy Anthony",
           "Cleveland"
          ],
          [
           "Jennifer Chase",
           "Buffalo"
          ],
          [
           "Cassandra Farley",
           "Orlando"
          ],
          [
           "Heidi Davis",
           "Buffalo"
          ],
          [
           "Charles Lane",
           "Dallas"
          ],
          [
           "Joyce Good MD",
           "Miami"
          ],
          [
           "Renee Robinson",
           "Columbus"
          ],
          [
           "Jessica Kidd",
           "Buffalo"
          ],
          [
           "Nicholas Martin",
           "Tampa"
          ],
          [
           "Jessica Kidd",
           "Buffalo"
          ],
          [
           "Nicholas Martin",
           "Tampa"
          ],
          [
           "Amber Moore",
           "New York City"
          ],
          [
           "Karina Barr",
           "Dallas"
          ],
          [
           "Timothy Jensen",
           "Orlando"
          ],
          [
           "Melinda Montoya",
           "San Francisco"
          ],
          [
           "Tammy Bell",
           "Cincinnati"
          ],
          [
           "Tammy Bell",
           "Cincinnati"
          ],
          [
           "Jonathan Alvarez",
           "Columbus"
          ],
          [
           "Becky Hodges",
           "Houston"
          ],
          [
           "Rebecca Wright",
           "Rochester"
          ],
          [
           "Sarah Flores",
           "Springfield"
          ],
          [
           "Rebecca Wright",
           "Rochester"
          ],
          [
           "Sarah Flores",
           "Springfield"
          ],
          [
           "Stephanie Gardner",
           "San Diego"
          ],
          [
           "Suzanne Cross",
           "Austin"
          ],
          [
           "Jasmine Delgado",
           "Chicago"
          ],
          [
           "Kristen Harper",
           "Buffalo"
          ],
          [
           "Dean Avila",
           "Cincinnati"
          ],
          [
           "Megan Mack",
           "Austin"
          ],
          [
           "Megan Mack",
           "Austin"
          ],
          [
           "Christopher Kirk",
           "Miami"
          ],
          [
           "Eric Stevens",
           "Miami"
          ],
          [
           "Courtney Williams",
           "Columbus"
          ],
          [
           "Jordan Hahn",
           "Rochester"
          ],
          [
           "Stephanie Hayes",
           "Austin"
          ],
          [
           "Stephanie Hayes",
           "Austin"
          ],
          [
           "Elizabeth Gonzalez",
           "San Diego"
          ],
          [
           "Mr. Eric Lopez",
           "Buffalo"
          ],
          [
           "Benjamin Higgins",
           "Rochester"
          ],
          [
           "Brett Sutton",
           "Austin"
          ],
          [
           "Anna Blackburn",
           "Cincinnati"
          ],
          [
           "Michelle Bailey",
           "Dallas"
          ],
          [
           "Brett Sutton",
           "Austin"
          ],
          [
           "Anna Blackburn",
           "Cincinnati"
          ],
          [
           "Michelle Bailey",
           "Dallas"
          ],
          [
           "Katherine Williams",
           "Orlando"
          ],
          [
           "Katherine Williams",
           "Orlando"
          ],
          [
           "Cory Evans",
           "Orlando"
          ],
          [
           "Alan Livingston",
           "Peoria"
          ],
          [
           "Angela Jackson",
           "Dallas"
          ],
          [
           "Amy Williams",
           "Austin"
          ],
          [
           "Laura Jordan",
           "Dallas"
          ],
          [
           "Richard Maynard",
           "Cincinnati"
          ],
          [
           "Anthony Williams",
           "Rochester"
          ],
          [
           "Lynn Matthews",
           "Dallas"
          ],
          [
           "Andrew Griffin",
           "Chicago"
          ],
          [
           "Manuel Stark",
           "Springfield"
          ],
          [
           "Wesley Deleon",
           "Springfield"
          ],
          [
           "Wesley Deleon",
           "Springfield"
          ],
          [
           "Lauren Harris",
           "Cleveland"
          ],
          [
           "Lauren Harris",
           "Cleveland"
          ],
          [
           "William Ruiz",
           "Miami"
          ],
          [
           "Andrew Fernandez",
           "Cincinnati"
          ],
          [
           "Andrew Fernandez",
           "Cincinnati"
          ],
          [
           "Alisha Saunders",
           "San Francisco"
          ],
          [
           "Travis Chandler DDS",
           "Rochester"
          ],
          [
           "Russell Austin",
           "New York City"
          ],
          [
           "Collin Cameron",
           "San Francisco"
          ],
          [
           "Willie Huynh",
           "Buffalo"
          ],
          [
           "Samuel Hayes",
           "Peoria"
          ],
          [
           "Sherry Tran",
           "Buffalo"
          ],
          [
           "Heather Gray",
           "Cincinnati"
          ],
          [
           "Benjamin Meadows",
           "Peoria"
          ],
          [
           "Micheal Graham",
           "Buffalo"
          ],
          [
           "Benjamin Meadows",
           "Peoria"
          ],
          [
           "Micheal Graham",
           "Buffalo"
          ],
          [
           "Jean Jackson",
           "San Francisco"
          ],
          [
           "Mrs. Jennifer Lewis",
           "San Francisco"
          ],
          [
           "Mrs. Jennifer Lewis",
           "San Francisco"
          ],
          [
           "Julie Chavez",
           "Cincinnati"
          ],
          [
           "Richard Blair",
           "Miami"
          ],
          [
           "Richard Blair",
           "Miami"
          ],
          [
           "Mitchell Lester",
           "Chicago"
          ],
          [
           "Mr. John Tyler PhD",
           "Houston"
          ],
          [
           "Juan Kelly",
           "Miami"
          ],
          [
           "Mitchell Lester",
           "Chicago"
          ],
          [
           "Mr. John Tyler PhD",
           "Houston"
          ],
          [
           "Juan Kelly",
           "Miami"
          ],
          [
           "Morgan Mccarthy",
           "Dallas"
          ],
          [
           "Morgan Sullivan",
           "Houston"
          ],
          [
           "Eric Clark",
           "Orlando"
          ],
          [
           "Ms. Barbara Cervantes",
           "Rochester"
          ],
          [
           "Steven Proctor",
           "Austin"
          ],
          [
           "Jonathan Mcmillan",
           "Buffalo"
          ],
          [
           "Jillian Williams",
           "San Diego"
          ],
          [
           "Rebekah Carter",
           "Orlando"
          ],
          [
           "Jonathan Reed",
           "San Francisco"
          ],
          [
           "Roger Harris",
           "Springfield"
          ],
          [
           "Louis Jimenez",
           "Tampa"
          ],
          [
           "Jessica Jones",
           "Peoria"
          ],
          [
           "Renee Gomez",
           "Miami"
          ],
          [
           "Connie Olson",
           "Houston"
          ],
          [
           "Matthew Kelley",
           "Orlando"
          ],
          [
           "Candace Martinez",
           "Tampa"
          ],
          [
           "Jacob Mann",
           "Austin"
          ],
          [
           "Keith Reese",
           "Austin"
          ],
          [
           "Aaron Jones",
           "Austin"
          ],
          [
           "Charles Moore",
           "Miami"
          ],
          [
           "Randy Johnson",
           "Columbus"
          ],
          [
           "Randy Johnson",
           "Columbus"
          ],
          [
           "James Benitez",
           "Miami"
          ],
          [
           "Melissa Mcknight",
           "Los Angeles"
          ],
          [
           "Melissa Mcknight",
           "Los Angeles"
          ],
          [
           "Mr. Jack Mercado",
           "Cincinnati"
          ],
          [
           "Christian Jones",
           "Rochester"
          ],
          [
           "Michael Gallegos",
           "Los Angeles"
          ],
          [
           "Robert Daniels",
           "Chicago"
          ],
          [
           "Michael Gallegos",
           "Los Angeles"
          ],
          [
           "Robert Daniels",
           "Chicago"
          ],
          [
           "Elizabeth Miller",
           "Springfield"
          ],
          [
           "Sabrina Clark",
           "Los Angeles"
          ],
          [
           "Larry Casey",
           "Chicago"
          ],
          [
           "Daniel Burns",
           "Rochester"
          ],
          [
           "Michael Chambers",
           "Los Angeles"
          ],
          [
           "Ronald Mckinney",
           "Austin"
          ],
          [
           "James Hart",
           "Chicago"
          ],
          [
           "Andrew Kirby",
           "San Diego"
          ],
          [
           "Justin Thomas",
           "San Francisco"
          ],
          [
           "Jillian Johnson MD",
           "San Diego"
          ],
          [
           "William Martin",
           "Columbus"
          ],
          [
           "Sarah Montgomery",
           "Chicago"
          ],
          [
           "James Bonilla",
           "San Diego"
          ],
          [
           "Deborah Hoffman",
           "Miami"
          ],
          [
           "Megan Williams",
           "Dallas"
          ],
          [
           "Vanessa Deleon",
           "Tampa"
          ],
          [
           "Eric Adams",
           "Springfield"
          ],
          [
           "Chad Brown",
           "Orlando"
          ],
          [
           "Brandon Hughes",
           "Dallas"
          ],
          [
           "Lynn Reynolds",
           "Cincinnati"
          ],
          [
           "Lori Adkins",
           "San Diego"
          ],
          [
           "Kimberly Johnson",
           "Buffalo"
          ],
          [
           "Kelly Jones",
           "Rochester"
          ],
          [
           "Sandra Hicks",
           "San Diego"
          ],
          [
           "Olivia Orozco",
           "Austin"
          ],
          [
           "Larry Moore",
           "Tampa"
          ],
          [
           "Mrs. Rachel Cannon DDS",
           "Tampa"
          ],
          [
           "Randy Acosta",
           "Tampa"
          ],
          [
           "James Clarke",
           "Dallas"
          ],
          [
           "Julia Gallagher",
           "Houston"
          ],
          [
           "Ronald Frey Jr.",
           "New York City"
          ],
          [
           "Megan Charles",
           "Tampa"
          ],
          [
           "Amy Duran MD",
           "Orlando"
          ],
          [
           "Amy Duran MD",
           "Orlando"
          ],
          [
           "Christopher Thomas",
           "New York City"
          ],
          [
           "Peter Castro",
           "Dallas"
          ],
          [
           "Steven Acosta",
           "Orlando"
          ],
          [
           "Lindsay Jackson",
           "Austin"
          ],
          [
           "Kelly Smith",
           "Cleveland"
          ],
          [
           "Sabrina Hartman",
           "Tampa"
          ],
          [
           "Kelly Smith",
           "Cleveland"
          ],
          [
           "Sabrina Hartman",
           "Tampa"
          ],
          [
           "Aaron Johnson",
           "Rochester"
          ],
          [
           "Jason Wilson",
           "Austin"
          ],
          [
           "Lauren Jones",
           "Cincinnati"
          ],
          [
           "Thomas Wallace",
           "Dallas"
          ],
          [
           "Mr. Daniel Wilson",
           "Cincinnati"
          ],
          [
           "Julie Smith MD",
           "Rochester"
          ],
          [
           "Carol Mitchell",
           "Chicago"
          ],
          [
           "John Thompson",
           "Austin"
          ],
          [
           "Debra Rodriguez",
           "Tampa"
          ],
          [
           "Erin Vasquez",
           "Orlando"
          ],
          [
           "Marcus Brown",
           "Chicago"
          ],
          [
           "Annette Pierce",
           "Rochester"
          ],
          [
           "Robert Brooks",
           "Houston"
          ],
          [
           "Jennifer Arnold",
           "New York City"
          ],
          [
           "Peggy Campos",
           "Buffalo"
          ],
          [
           "Keith Brooks",
           "New York City"
          ],
          [
           "Jason Martinez",
           "Columbus"
          ],
          [
           "Beverly Lamb",
           "Chicago"
          ],
          [
           "Jodi Wood",
           "Cleveland"
          ],
          [
           "Dr. Thomas Peterson",
           "San Diego"
          ],
          [
           "Justin Rosales",
           "Miami"
          ],
          [
           "Emma Scott",
           "Buffalo"
          ],
          [
           "Sabrina Buckley",
           "Rochester"
          ],
          [
           "Heather Parker",
           "Austin"
          ],
          [
           "Thomas Matthews",
           "Peoria"
          ],
          [
           "Michael Rodriguez",
           "Rochester"
          ],
          [
           "Matthew Huff",
           "San Diego"
          ],
          [
           "Linda Little",
           "Tampa"
          ],
          [
           "Kerri Andrews",
           "San Francisco"
          ],
          [
           "Donald Medina",
           "Houston"
          ],
          [
           "Charles Henderson",
           "Tampa"
          ],
          [
           "Brandi Vasquez",
           "Rochester"
          ],
          [
           "Debra Richards",
           "Tampa"
          ],
          [
           "Nicholas Flores",
           "Cleveland"
          ],
          [
           "Jasmin Jones",
           "Chicago"
          ],
          [
           "Matthew Gardner",
           "Tampa"
          ],
          [
           "Joseph Perkins",
           "Orlando"
          ],
          [
           "Ashley Adams MD",
           "Orlando"
          ],
          [
           "Ann Mooney",
           "Los Angeles"
          ],
          [
           "Dale Craig",
           "San Diego"
          ],
          [
           "Joseph Hooper",
           "Buffalo"
          ],
          [
           "Brittany Jenkins",
           "Buffalo"
          ],
          [
           "Eddie Gonzales",
           "Cleveland"
          ],
          [
           "Brittany Jenkins",
           "Buffalo"
          ],
          [
           "Eddie Gonzales",
           "Cleveland"
          ],
          [
           "April Marquez",
           "Cleveland"
          ],
          [
           "Joseph Guerrero",
           "Los Angeles"
          ],
          [
           "Michael Hanson",
           "Rochester"
          ],
          [
           "Cheyenne Rose",
           "Orlando"
          ],
          [
           "Richard Petersen",
           "Chicago"
          ],
          [
           "Jason Hernandez",
           "San Francisco"
          ],
          [
           "Jacob Torres",
           "Houston"
          ],
          [
           "Stephanie Manning",
           "Orlando"
          ],
          [
           "Logan Galloway",
           "New York City"
          ],
          [
           "Stephanie Manning",
           "Orlando"
          ],
          [
           "Logan Galloway",
           "New York City"
          ],
          [
           "Stephanie Manning",
           "Orlando"
          ],
          [
           "Logan Galloway",
           "New York City"
          ],
          [
           "Jordan Krause",
           "Cleveland"
          ],
          [
           "Kimberly King",
           "Columbus"
          ],
          [
           "Sharon Russell",
           "San Diego"
          ],
          [
           "Dr. Terry Alvarado",
           "Tampa"
          ],
          [
           "Kathy Wilson",
           "Dallas"
          ],
          [
           "Kathy Wilson",
           "Dallas"
          ],
          [
           "Mary Wright",
           "Cincinnati"
          ],
          [
           "Leroy Harris",
           "Houston"
          ],
          [
           "Debra Smith",
           "Austin"
          ],
          [
           "Jasmine James",
           "Austin"
          ],
          [
           "Elizabeth White",
           "Rochester"
          ],
          [
           "Austin Hammond",
           "Miami"
          ],
          [
           "Jessica Barajas",
           "Peoria"
          ],
          [
           "Jamie Jimenez",
           "Buffalo"
          ],
          [
           "James Carter",
           "Columbus"
          ],
          [
           "John Williams",
           "Miami"
          ],
          [
           "John Williams",
           "Miami"
          ],
          [
           "Alicia Oneill",
           "Springfield"
          ],
          [
           "Rebecca Huff",
           "Springfield"
          ],
          [
           "Diana Scott",
           "San Diego"
          ],
          [
           "Martha Carney",
           "New York City"
          ],
          [
           "Francisco Hicks",
           "Springfield"
          ],
          [
           "Bruce Dennis",
           "Austin"
          ],
          [
           "Joseph Bates",
           "New York City"
          ],
          [
           "Jamie Bradley",
           "San Diego"
          ],
          [
           "Robert Martinez",
           "Houston"
          ],
          [
           "Paul Scott",
           "San Francisco"
          ],
          [
           "Theresa Cline",
           "Cleveland"
          ],
          [
           "Carlos Wells",
           "San Diego"
          ],
          [
           "Randall Bell",
           "New York City"
          ],
          [
           "Kendra Mckinney",
           "Miami"
          ],
          [
           "Amanda Kim",
           "Columbus"
          ],
          [
           "Michael Stewart",
           "Peoria"
          ],
          [
           "Kevin Johnson",
           "Tampa"
          ],
          [
           "Sandra Perkins",
           "Tampa"
          ],
          [
           "Heather Bell",
           "San Francisco"
          ],
          [
           "Scott Craig",
           "Peoria"
          ],
          [
           "William Beck",
           "Tampa"
          ],
          [
           "Roy Miller",
           "San Francisco"
          ],
          [
           "Christopher Espinoza",
           "Columbus"
          ],
          [
           "Eric Nunez",
           "San Diego"
          ],
          [
           "Angela Todd",
           "New York City"
          ],
          [
           "Luke Saunders",
           "Dallas"
          ],
          [
           "Dr. Jennifer Benton DVM",
           "Springfield"
          ],
          [
           "Luke Saunders",
           "Dallas"
          ],
          [
           "Dr. Jennifer Benton DVM",
           "Springfield"
          ],
          [
           "Keith Smith",
           "Miami"
          ],
          [
           "Sarah Wagner",
           "Houston"
          ],
          [
           "Michelle Lynch",
           "Springfield"
          ],
          [
           "Ryan Hale",
           "Cleveland"
          ],
          [
           "Marie Jefferson",
           "Orlando"
          ],
          [
           "Ryan Foster",
           "Columbus"
          ],
          [
           "David Lara",
           "San Diego"
          ],
          [
           "Jonathan Young",
           "Springfield"
          ],
          [
           "Debra Townsend",
           "Cincinnati"
          ],
          [
           "Robert Hill",
           "Columbus"
          ],
          [
           "Angelica Lewis",
           "New York City"
          ],
          [
           "Jessica Russell",
           "Dallas"
          ],
          [
           "Jessica Greene",
           "New York City"
          ],
          [
           "Vincent Perez",
           "Rochester"
          ],
          [
           "Anthony May",
           "Tampa"
          ],
          [
           "Meghan Ballard",
           "New York City"
          ],
          [
           "Brian Wheeler",
           "Buffalo"
          ],
          [
           "William Rosario",
           "Dallas"
          ],
          [
           "Mary Crawford",
           "Cincinnati"
          ],
          [
           "Carrie Alvarez",
           "Peoria"
          ],
          [
           "Matthew James",
           "Peoria"
          ],
          [
           "Jerry Alvarado",
           "New York City"
          ],
          [
           "Kristen Lawson",
           "Springfield"
          ],
          [
           "Jacob Stewart",
           "Miami"
          ],
          [
           "Aaron Dunn",
           "Springfield"
          ],
          [
           "Jennifer Cooke",
           "San Francisco"
          ],
          [
           "Charles Williams",
           "Dallas"
          ],
          [
           "Amy Page",
           "Columbus"
          ],
          [
           "Scott Gibbs",
           "Los Angeles"
          ],
          [
           "Angela Roberts",
           "Cleveland"
          ],
          [
           "Kyle Hernandez",
           "Dallas"
          ],
          [
           "Cynthia Ferguson",
           "Austin"
          ],
          [
           "Joseph Wilson",
           "Cincinnati"
          ],
          [
           "Tanner Vance",
           "Houston"
          ],
          [
           "Michael Nash",
           "Buffalo"
          ],
          [
           "Harold Mitchell",
           "Austin"
          ],
          [
           "Ashley Palmer",
           "Miami"
          ],
          [
           "Stephen Hogan",
           "San Diego"
          ],
          [
           "Tanya Thomas MD",
           "Dallas"
          ],
          [
           "Duane Kelly",
           "New York City"
          ],
          [
           "Frank Reynolds",
           "Springfield"
          ],
          [
           "Aaron Kim",
           "Buffalo"
          ],
          [
           "Jennifer Hernandez",
           "Cleveland"
          ],
          [
           "Shannon Warren",
           "New York City"
          ],
          [
           "Ashley Aguilar",
           "Chicago"
          ],
          [
           "Daniel Price",
           "New York City"
          ],
          [
           "James Perez",
           "Orlando"
          ],
          [
           "Jasmine Gibbs",
           "Austin"
          ],
          [
           "William Carr",
           "Dallas"
          ],
          [
           "Jeffrey Dixon",
           "New York City"
          ],
          [
           "Carlos Wheeler",
           "Cleveland"
          ],
          [
           "Isabella Roach",
           "Peoria"
          ],
          [
           "Mark Fry",
           "Austin"
          ],
          [
           "Caitlin Hunt",
           "Rochester"
          ],
          [
           "Jenna Holland",
           "Austin"
          ],
          [
           "Stephanie Oconnell",
           "Buffalo"
          ]
         ],
         "hovertemplate": "Category=Electronics<br>Amount=%{x}<br>Profit=%{y}<br>Quantity=%{marker.size}<br>CustomerName=%{customdata[0]}<br>City=%{customdata[1]}<extra></extra>",
         "legendgroup": "Electronics",
         "marker": {
          "color": "#636efa",
          "size": {
           "bdata": "BQUFDg4OCgsRDAwMERERBQUFBQMDBgsLBQUFBRQNDQUFExMICBQUAhMEBwcLFAEEDQEBAQEODg4SCgkRERIKBxQGBBMTEwcMDBEBAQwMCwcJERMPDw8RERAQExQGBgwDDxAQFBQPDhQEBA4ODgwMDBMNBgQEBAQECxMGCggRDgkREAYNDRIFFAoJEw0NERESDQYQEwcLCwsPDw8SEhEUFAoBAQESFBQUFAsLDw8PFAcNAhIQAQEBAQQEDg4ODg0NDQIDAwQCDw8TEQcHExMLERENCgoKBgYGBhIIBwgEBAQSEg4OCA0JCQkJDgwSAwMDBQIIEhEUExMIBAQJCQoKCgILCQ8BAwMUExMLDAwKCg0NCwsLDw8HBwYGFBQICA0FBRMJFA0PBAQMCBEREQcKCgoKAwMGAwgICAMBBg0PBwcNDQ0CEhIGEBAQCwsDCA4ODgYGCwYTDg4PFAcCAgITDQwMChIGAQYGBhEDCwwCAgcSEg8PDwkMDAwSEgQGAxISBQgICA==",
           "dtype": "i1"
          },
          "sizemode": "area",
          "sizeref": 0.05,
          "symbol": "circle"
         },
         "mode": "markers",
         "name": "Electronics",
         "showlegend": true,
         "type": "scattergl",
         "x": {
          "bdata": "/iX+Jf4lbxNvE28TcwOkJG4Q0w/TDwIULwsvCy8L0yXTJdMl0yUzBzMH6g++Cr4KNwY3BjcG8RMLAkgWSBYUJBQkBhEGETsZOxlCJUIlswnlHsMGeRd5F8ICWRFCFfYNRAcTEZogmiCaIC8ULxQvFEcZDxpMJU8eTx5UEyMZcSMvGfMiPQV7JnsmeybZCTIbMhtWBZILkgvbG9sbjQpRFUAlHhEIIOsYzxjPGNcE1wTuBO4E7gUZCyILIgtdIQEFZAn0I/QjzwTPBGQd0BpUH6UcCh7nCucK5wrhDOEM4QxhI/Aj4RdfDV8NXw1fDV8NeCHbHVIW2RFuEUQYjAbYCngXRB7gA8khySEDEOsJLxPrJZkG8B3RAtECrCCsIGgPnh5UJMkMFh6cJrwVvBW8FXEPcQ9xD1gZWBmwHj0IMxqUEG4KbgpuClQEUQ1RDVENUQ3xGPEY0xjTGNEcBQoqJgscSRXICTQMFhsWG78IvwiSCZIJIBQgFCAUIBR2EZIUkhRaJVASUBLcHmwYIiOOIe8RIhZcGFwYLRwtHEQQFBIUEhwG9Ar0CvQKYhbSG9Ib0hu/CAESfhJrIaQJ3iTeJH0KfQooGCgYDSQqCysGKwYrBisGZBJWFfgYAiKmJKYkHxTxF+gIvRcDFZYKrRetF+gKVwJXAsAOwA53H3cfdx+tGjYdvgKXJjoiNgQ2BAcEHBccF3ckjSaNJh4DHgMfHx8fFQQVBBUEPB08HcEUwRSZJJkk6CHoIfsL+ws4BtAgqAnyA8ARDBfeH4QETCJMIrckpwpFBEUERQSwHMgWex97H3sf0xDTEB4IsQpOD04PPRBFHfsbug/oG5oNcwtzC/8j/yOBF8gH5iDmINkPDiOCI4IjUwNTAzMVkhdDEEMQQxCOHY4d+gL0DA4PQhdCF9cUrgU2E3wKfAp8Cg0ajR4aJRolWxwFDdwdbSY/Fz8X4AO1FWwNcCaTIiACIAI4F9II0gjgJugN6A2AGTgfOB84H2MZYxlTIfkJKiECIwIjEx4iCCIIIgg=",
          "dtype": "i2"
         },
         "xaxis": "x",
         "y": {
          "bdata": "+wT7BPsEMgUyBTIFdQCeAR0HOAc4B20JzQDNAM0A9gP2A/YD9gP4APgAlwTXBNcE1wLXAtcC0QFfAMoCygJTC1MLDgIOAjkDOQNWDFYM7ACWB5UAOwg7CMUAGQFKBlMDyQE8B5gEmASYBP0A/QD9ABoL7QoOB50OnQ40CU4BqAEHDPcKZwJtCm0KbQqKA2UNZQ3yAL4FvgXOAs4CQgHlBp0F4gEBATgM2gPaAz8CPwIDAgMCnwAjA4gDiAPtB1QB/QDZDNkM1gDWAAQJIAc6DygGbgR+A34DfgNmAGYAZgBgBykDzAkkAyQDJAMkAyQDcwmIDp4FnQZ5AFkHSgF3A8IJqgZAAEcKRwo0AEQBugCbDW0A2QYCAQIB7wvvCxcGdgRKDFUAPABeEa8ArwCvAPAG8AbwBjcGNwZzDqkCEQRUAQIEAgQCBKcARQZFBkUGRQZgCmAKNwU3BUAB1wMkEKsCVQm4AYoAygTKBDwDPAPqA+oD/Qf9B/0H/QedAVcEVwRFATEHMQfiAWEFyQXtDZUHrQoXCxcL/AH8AYkD0wXTBaICqAOoA6gD4gEsBywHLAdGBDwEvgNmBqIBCQcJB3sBewEyADIA+g/iAVoCWgJaAloCuAKhArwBvAY9BD0EkAagC/0BSgnOCSsCSQhJCPADCQEJAUwETASVApUClQIxCmUF7gBCE64NNQE1AT4BOgY6Bi0CyxDLEDQBNAHICcgJCwELAQsBNws3C/UH9QfhDOEM5A/kD8MFwwXgAQsB0wA6AL4GygYECEoAZg1mDZ0HlwKNAY0BjQHLCBwKKgcqByoHZwJnAmQC5QTtAu0CUgdgAAAGowDAABIG1ADUAP8C/wK2CGMBfQN9A/QDWREaDBoMZAFkAdgCYAKBA4EDgQNeAl4CXAB+APUAUApQCkIBUADNBckCyQLJAvcL7Q4AAQABsQe8AnwJgAGoA6gDsQBCCKUDHg/nAxABEAFlCocAhwDlDDcFNwVMAH0DfQN9A40IjQj7CYsDnQ2MCYwJ9gCCAoICggI=",
          "dtype": "i2"
         },
         "yaxis": "y"
        },
        {
         "customdata": [
          [
           "John Fields",
           "Orlando"
          ],
          [
           "Clayton Smith",
           "Miami"
          ],
          [
           "Jessica Anderson",
           "New York City"
          ],
          [
           "Mary Taylor",
           "Orlando"
          ],
          [
           "Walter Crawford",
           "Springfield"
          ],
          [
           "Walter Crawford",
           "Springfield"
          ],
          [
           "Lawrence Robinson",
           "Rochester"
          ],
          [
           "Douglas Pennington",
           "Dallas"
          ],
          [
           "Ricardo Andrews",
           "San Diego"
          ],
          [
           "Paul Raymond",
           "San Diego"
          ],
          [
           "Paul Raymond",
           "San Diego"
          ],
          [
           "Karen Johnson",
           "Rochester"
          ],
          [
           "Karen Johnson",
           "Rochester"
          ],
          [
           "Alexander Reed",
           "New York City"
          ],
          [
           "Jacqueline Harris",
           "San Francisco"
          ],
          [
           "Tyler Park",
           "San Francisco"
          ],
          [
           "Richard Wolfe",
           "Columbus"
          ],
          [
           "Sierra Rios",
           "Orlando"
          ],
          [
           "Sierra Rios",
           "Orlando"
          ],
          [
           "Denise Hampton",
           "San Francisco"
          ],
          [
           "Denise Hampton",
           "San Francisco"
          ],
          [
           "Justin Rodriguez",
           "Cleveland"
          ],
          [
           "Ms. Emily Baxter",
           "Rochester"
          ],
          [
           "Austin White",
           "Los Angeles"
          ],
          [
           "Kelsey Castaneda",
           "Cleveland"
          ],
          [
           "Katherine Harris",
           "Los Angeles"
          ],
          [
           "Kelsey Castaneda",
           "Cleveland"
          ],
          [
           "Katherine Harris",
           "Los Angeles"
          ],
          [
           "Paul Rogers",
           "Miami"
          ],
          [
           "Paul Rogers",
           "Miami"
          ],
          [
           "Andrew Allen",
           "San Diego"
          ],
          [
           "Vanessa Bauer",
           "Buffalo"
          ],
          [
           "Sean Smith",
           "Cleveland"
          ],
          [
           "Shelly Sweeney",
           "New York City"
          ],
          [
           "Shelly Sweeney",
           "New York City"
          ],
          [
           "Karen Townsend",
           "Houston"
          ],
          [
           "Karen Townsend",
           "Houston"
          ],
          [
           "Patrick Williams",
           "Rochester"
          ],
          [
           "Susan Burke",
           "Austin"
          ],
          [
           "Brent Hernandez",
           "Rochester"
          ],
          [
           "Patrick Williams",
           "Rochester"
          ],
          [
           "Susan Burke",
           "Austin"
          ],
          [
           "Brent Hernandez",
           "Rochester"
          ],
          [
           "Renee Solomon",
           "Tampa"
          ],
          [
           "Daryl Miles",
           "Orlando"
          ],
          [
           "Adam Clark",
           "San Francisco"
          ],
          [
           "Amy Olsen",
           "Springfield"
          ],
          [
           "Stacey Miller",
           "San Diego"
          ],
          [
           "Adam Clark",
           "San Francisco"
          ],
          [
           "Amy Olsen",
           "Springfield"
          ],
          [
           "Stacey Miller",
           "San Diego"
          ],
          [
           "Daniel Mosley",
           "Los Angeles"
          ],
          [
           "Daniel Mosley",
           "Los Angeles"
          ],
          [
           "Daniel Mosley",
           "Los Angeles"
          ],
          [
           "Monica Gibson",
           "Springfield"
          ],
          [
           "Monica Gibson",
           "Springfield"
          ],
          [
           "Christopher Jordan",
           "Columbus"
          ],
          [
           "George Foster",
           "Dallas"
          ],
          [
           "Nicholas Anderson",
           "Orlando"
          ],
          [
           "Emily Ellison",
           "Los Angeles"
          ],
          [
           "Jeffrey Kline",
           "Miami"
          ],
          [
           "Ryan Bullock",
           "Tampa"
          ],
          [
           "Rebecca Smith",
           "Dallas"
          ],
          [
           "William Welch",
           "Orlando"
          ],
          [
           "Mr. Curtis Bailey",
           "Tampa"
          ],
          [
           "Janet Carlson",
           "Miami"
          ],
          [
           "Janet Carlson",
           "Miami"
          ],
          [
           "Spencer Spears",
           "Chicago"
          ],
          [
           "Jeffrey Middleton",
           "Buffalo"
          ],
          [
           "Veronica Kelley",
           "Orlando"
          ],
          [
           "Leslie Bean",
           "Springfield"
          ],
          [
           "Jeffrey Middleton",
           "Buffalo"
          ],
          [
           "Veronica Kelley",
           "Orlando"
          ],
          [
           "Leslie Bean",
           "Springfield"
          ],
          [
           "Jacob Meyer",
           "Peoria"
          ],
          [
           "David Figueroa",
           "Miami"
          ],
          [
           "Nancy Jones",
           "Cleveland"
          ],
          [
           "Nancy Jones",
           "Cleveland"
          ],
          [
           "Kimberly Smith",
           "Springfield"
          ],
          [
           "Maria Thomas",
           "Miami"
          ],
          [
           "Nicholas Johnson",
           "Dallas"
          ],
          [
           "Dawn Howard",
           "Houston"
          ],
          [
           "Jennifer Marshall",
           "San Francisco"
          ],
          [
           "Frank Garcia",
           "Buffalo"
          ],
          [
           "Morgan Sellers",
           "Los Angeles"
          ],
          [
           "Morgan Sellers",
           "Los Angeles"
          ],
          [
           "Heidi Davis",
           "Buffalo"
          ],
          [
           "Renee Robinson",
           "Columbus"
          ],
          [
           "Jessica Kidd",
           "Buffalo"
          ],
          [
           "Nicholas Martin",
           "Tampa"
          ],
          [
           "David Brown",
           "Peoria"
          ],
          [
           "Amber Moore",
           "New York City"
          ],
          [
           "James Williams",
           "San Francisco"
          ],
          [
           "Karina Barr",
           "Dallas"
          ],
          [
           "Meghan Rush",
           "Cleveland"
          ],
          [
           "Bianca Brown",
           "Columbus"
          ],
          [
           "Connie Richards",
           "Cleveland"
          ],
          [
           "Peter Ward",
           "Rochester"
          ],
          [
           "Connie Richards",
           "Cleveland"
          ],
          [
           "Peter Ward",
           "Rochester"
          ],
          [
           "Larry Hill",
           "New York City"
          ],
          [
           "Amber Moon",
           "Cleveland"
          ],
          [
           "Cynthia Wilcox",
           "Chicago"
          ],
          [
           "Cynthia Wilcox",
           "Chicago"
          ],
          [
           "Philip Baker",
           "Peoria"
          ],
          [
           "Randall Dennis",
           "Orlando"
          ],
          [
           "Suzanne Cross",
           "Austin"
          ],
          [
           "Jasmine Delgado",
           "Chicago"
          ],
          [
           "Kristen Harper",
           "Buffalo"
          ],
          [
           "Kaitlyn Graham MD",
           "New York City"
          ],
          [
           "Dean Avila",
           "Cincinnati"
          ],
          [
           "Tina Davies",
           "Chicago"
          ],
          [
           "Christopher Kirk",
           "Miami"
          ],
          [
           "Eric Stevens",
           "Miami"
          ],
          [
           "Ms. Kim Jordan",
           "Chicago"
          ],
          [
           "Marcus Santiago",
           "Buffalo"
          ],
          [
           "Jill Perez",
           "San Diego"
          ],
          [
           "Jill Perez",
           "San Diego"
          ],
          [
           "William Cook",
           "Cleveland"
          ],
          [
           "Elizabeth Gonzalez",
           "San Diego"
          ],
          [
           "Sara Peterson",
           "Chicago"
          ],
          [
           "Michael Rodriguez",
           "Cincinnati"
          ],
          [
           "John Munoz",
           "Dallas"
          ],
          [
           "David Clark",
           "Tampa"
          ],
          [
           "April Welch",
           "Springfield"
          ],
          [
           "April Welch",
           "Springfield"
          ],
          [
           "Anthony Williams",
           "Rochester"
          ],
          [
           "Andrew Griffin",
           "Chicago"
          ],
          [
           "Megan Williams",
           "Chicago"
          ],
          [
           "Alison Martin",
           "Buffalo"
          ],
          [
           "Samuel Wallace",
           "San Francisco"
          ],
          [
           "Brandon Kirk",
           "Cleveland"
          ],
          [
           "Abigail Brown",
           "Los Angeles"
          ],
          [
           "Kristine Carter",
           "Houston"
          ],
          [
           "Natalie Cox",
           "Orlando"
          ],
          [
           "Andrew Fernandez",
           "Cincinnati"
          ],
          [
           "Elizabeth Hernandez",
           "Orlando"
          ],
          [
           "William Russell",
           "Austin"
          ],
          [
           "Sheri Berg",
           "Los Angeles"
          ],
          [
           "William Russell",
           "Austin"
          ],
          [
           "Sheri Berg",
           "Los Angeles"
          ],
          [
           "Michael Bell",
           "San Diego"
          ],
          [
           "Samuel Hayes",
           "Peoria"
          ],
          [
           "Sherry Tran",
           "Buffalo"
          ],
          [
           "Sherry Tran",
           "Buffalo"
          ],
          [
           "Jean Jackson",
           "San Francisco"
          ],
          [
           "Jean Jackson",
           "San Francisco"
          ],
          [
           "Timothy Murphy",
           "San Francisco"
          ],
          [
           "Timothy Murphy",
           "San Francisco"
          ],
          [
           "Mrs. Jennifer Lewis",
           "San Francisco"
          ],
          [
           "Bryan Brown",
           "Rochester"
          ],
          [
           "Christopher Johnson",
           "Miami"
          ],
          [
           "Christina Conner",
           "Columbus"
          ],
          [
           "Luis Luna",
           "San Francisco"
          ],
          [
           "Christina Conner",
           "Columbus"
          ],
          [
           "Luis Luna",
           "San Francisco"
          ],
          [
           "Christina Conner",
           "Columbus"
          ],
          [
           "Luis Luna",
           "San Francisco"
          ],
          [
           "Eric Clark",
           "Orlando"
          ],
          [
           "Mark Padilla",
           "San Diego"
          ],
          [
           "Anthony Lane",
           "Cleveland"
          ],
          [
           "Jeffrey Henderson",
           "Tampa"
          ],
          [
           "Michelle Hardy",
           "Dallas"
          ],
          [
           "Ms. Barbara Cervantes",
           "Rochester"
          ],
          [
           "Shannon Patterson",
           "Springfield"
          ],
          [
           "William Valdez",
           "San Diego"
          ],
          [
           "Jonathan Mcmillan",
           "Buffalo"
          ],
          [
           "Austin Davis",
           "San Diego"
          ],
          [
           "Mark Roy",
           "San Francisco"
          ],
          [
           "Jillian Williams",
           "San Diego"
          ],
          [
           "Rebekah Carter",
           "Orlando"
          ],
          [
           "Jonathan Reed",
           "San Francisco"
          ],
          [
           "Roger Harris",
           "Springfield"
          ],
          [
           "Louis Jimenez",
           "Tampa"
          ],
          [
           "Jessica Jones",
           "Peoria"
          ],
          [
           "Renee Gomez",
           "Miami"
          ],
          [
           "Connie Olson",
           "Houston"
          ],
          [
           "Christian Jones",
           "Buffalo"
          ],
          [
           "Aaron Jones",
           "Austin"
          ],
          [
           "Charles Moore",
           "Miami"
          ],
          [
           "Manuel Walls",
           "Houston"
          ],
          [
           "Darren Moore",
           "Peoria"
          ],
          [
           "Stephanie Thomas",
           "Rochester"
          ],
          [
           "Kristy Hernandez",
           "San Diego"
          ],
          [
           "Rachel Fisher",
           "Peoria"
          ],
          [
           "Donald Moore",
           "Rochester"
          ],
          [
           "William Wu",
           "Tampa"
          ],
          [
           "Jesus Zuniga",
           "Houston"
          ],
          [
           "James Tanner",
           "Houston"
          ],
          [
           "Leonard Gonzalez",
           "San Francisco"
          ],
          [
           "Richard Lee",
           "Buffalo"
          ],
          [
           "Matthew Schroeder",
           "Cleveland"
          ],
          [
           "Kaylee Glover",
           "Springfield"
          ],
          [
           "Pamela Patterson",
           "San Francisco"
          ],
          [
           "Ronald Mckinney",
           "Austin"
          ],
          [
           "James Hart",
           "Chicago"
          ],
          [
           "Rhonda Harris",
           "Orlando"
          ],
          [
           "Randy Fisher",
           "Houston"
          ],
          [
           "James Hernandez",
           "San Francisco"
          ],
          [
           "James Hernandez",
           "San Francisco"
          ],
          [
           "Brenda Murphy",
           "San Francisco"
          ],
          [
           "Mark Dixon",
           "Cincinnati"
          ],
          [
           "Mark Dixon",
           "Cincinnati"
          ],
          [
           "Andrew Macias",
           "Austin"
          ],
          [
           "Alejandro Williams",
           "Springfield"
          ],
          [
           "Mark Rodriguez",
           "New York City"
          ],
          [
           "Marisa Prince",
           "Buffalo"
          ],
          [
           "Robin Myers",
           "Dallas"
          ],
          [
           "Nancy Sanchez",
           "Springfield"
          ],
          [
           "Sydney Walls",
           "Chicago"
          ],
          [
           "Megan Williams",
           "Dallas"
          ],
          [
           "Steven Haynes",
           "Springfield"
          ],
          [
           "Angela Lyons",
           "New York City"
          ],
          [
           "Betty Tucker",
           "Cincinnati"
          ],
          [
           "Brianna Hunt",
           "Miami"
          ],
          [
           "Cathy Clark",
           "Tampa"
          ],
          [
           "Nicole Warren",
           "Los Angeles"
          ],
          [
           "Richard Lyons",
           "Dallas"
          ],
          [
           "Jesse Bond",
           "Springfield"
          ],
          [
           "Ronald Good",
           "Miami"
          ],
          [
           "Adam Stevens",
           "Buffalo"
          ],
          [
           "Ashley Petty",
           "Peoria"
          ],
          [
           "Crystal Ross",
           "Austin"
          ],
          [
           "Sandra Hicks",
           "San Diego"
          ],
          [
           "Danny Ramirez",
           "New York City"
          ],
          [
           "Danny Ramirez",
           "New York City"
          ],
          [
           "Stephen Baker",
           "Columbus"
          ],
          [
           "Jeffrey Wilcox",
           "Peoria"
          ],
          [
           "James Clarke",
           "Dallas"
          ],
          [
           "Julia Gallagher",
           "Houston"
          ],
          [
           "Ronald Frey Jr.",
           "New York City"
          ],
          [
           "Megan Charles",
           "Tampa"
          ],
          [
           "Amy Duran MD",
           "Orlando"
          ],
          [
           "Kelly Smith",
           "Cleveland"
          ],
          [
           "Sabrina Hartman",
           "Tampa"
          ],
          [
           "Cynthia Smith",
           "Rochester"
          ],
          [
           "Olivia Dickerson",
           "Buffalo"
          ],
          [
           "Tina Blake",
           "Buffalo"
          ],
          [
           "Clarence Cooke",
           "San Francisco"
          ],
          [
           "Tamara Guzman",
           "Buffalo"
          ],
          [
           "Marissa Hartman",
           "Buffalo"
          ],
          [
           "William Morse",
           "Rochester"
          ],
          [
           "Carrie Smith",
           "Peoria"
          ],
          [
           "Vincent Roth",
           "Los Angeles"
          ],
          [
           "Andrew Benson",
           "Orlando"
          ],
          [
           "Seth Rodriguez",
           "Tampa"
          ],
          [
           "Carol Mitchell",
           "Chicago"
          ],
          [
           "Clayton Lara",
           "Miami"
          ],
          [
           "Clayton Lara",
           "Miami"
          ],
          [
           "Miguel Alvarez",
           "Rochester"
          ],
          [
           "Craig Ortega",
           "Cincinnati"
          ],
          [
           "Johnny Simon",
           "Los Angeles"
          ],
          [
           "Steven Herrera",
           "San Diego"
          ],
          [
           "Beverly Lamb",
           "Chicago"
          ],
          [
           "Michael Williams",
           "Springfield"
          ],
          [
           "Zachary Carpenter",
           "Los Angeles"
          ],
          [
           "Timothy Baker",
           "Austin"
          ],
          [
           "Adam James",
           "Chicago"
          ],
          [
           "Katrina Wood",
           "Chicago"
          ],
          [
           "James Murray",
           "Dallas"
          ],
          [
           "Mr. Nathaniel Reeves",
           "Rochester"
          ],
          [
           "Autumn Lee",
           "Columbus"
          ],
          [
           "Victoria Duran",
           "Dallas"
          ],
          [
           "Barry Garcia",
           "Springfield"
          ],
          [
           "Dawn Webb",
           "Peoria"
          ],
          [
           "Patricia Sanford",
           "Austin"
          ],
          [
           "Robert Rojas",
           "San Francisco"
          ],
          [
           "Eric Johnson",
           "Cleveland"
          ],
          [
           "Lydia Donovan",
           "Peoria"
          ],
          [
           "Edward Johnson",
           "Orlando"
          ],
          [
           "Mr. Ralph Garcia Jr.",
           "Rochester"
          ],
          [
           "Jim Johnson",
           "Cincinnati"
          ],
          [
           "David Hamilton",
           "Houston"
          ],
          [
           "Michael Jimenez",
           "Los Angeles"
          ],
          [
           "Angela Norman",
           "Springfield"
          ],
          [
           "Denise Mcdaniel",
           "Los Angeles"
          ],
          [
           "Michael Rodriguez",
           "Rochester"
          ],
          [
           "Matthew Huff",
           "San Diego"
          ],
          [
           "Linda Little",
           "Tampa"
          ],
          [
           "Kerri Andrews",
           "San Francisco"
          ],
          [
           "Jeffrey Johnson III",
           "San Francisco"
          ],
          [
           "Daniel Dixon",
           "San Diego"
          ],
          [
           "Tiffany Robinson",
           "Miami"
          ],
          [
           "Nathan Moss",
           "Springfield"
          ],
          [
           "Tammy Day",
           "New York City"
          ],
          [
           "Matthew Gardner",
           "Tampa"
          ],
          [
           "Joseph Perkins",
           "Orlando"
          ],
          [
           "Ashley Adams MD",
           "Orlando"
          ],
          [
           "James Mendoza",
           "Cleveland"
          ],
          [
           "Kaitlin Garrison",
           "Columbus"
          ],
          [
           "James Mendoza",
           "Cleveland"
          ],
          [
           "Kaitlin Garrison",
           "Columbus"
          ],
          [
           "Alexander Adams",
           "Buffalo"
          ],
          [
           "Ashlee Mills",
           "Orlando"
          ],
          [
           "Emma Bruce",
           "Austin"
          ],
          [
           "Carl Wade DDS",
           "Buffalo"
          ],
          [
           "David Johnson",
           "Austin"
          ],
          [
           "William Hill",
           "Dallas"
          ],
          [
           "Hailey Chandler",
           "Dallas"
          ],
          [
           "Kathryn Gray",
           "Rochester"
          ],
          [
           "Mike Armstrong",
           "New York City"
          ],
          [
           "Christopher Stone",
           "Cincinnati"
          ],
          [
           "Megan Pitts",
           "Columbus"
          ],
          [
           "Richard Gardner",
           "Columbus"
          ],
          [
           "Taylor White",
           "Springfield"
          ],
          [
           "Taylor White",
           "Springfield"
          ],
          [
           "Kimberly King",
           "Columbus"
          ],
          [
           "Darrell Ramos",
           "Rochester"
          ],
          [
           "Brandon Le",
           "San Diego"
          ],
          [
           "Douglas Reynolds",
           "Los Angeles"
          ],
          [
           "Leroy Harris",
           "Houston"
          ],
          [
           "Sylvia Jenkins",
           "New York City"
          ],
          [
           "Kyle Jackson",
           "Buffalo"
          ],
          [
           "Sharon Wilkins",
           "Chicago"
          ],
          [
           "Jessica Barajas",
           "Peoria"
          ],
          [
           "Jamie Jimenez",
           "Buffalo"
          ],
          [
           "James Carter",
           "Columbus"
          ],
          [
           "John Williams",
           "Miami"
          ],
          [
           "Susan Wright",
           "Los Angeles"
          ],
          [
           "Kayla Banks",
           "Cincinnati"
          ],
          [
           "Zachary Pierce",
           "Houston"
          ],
          [
           "Matthew Parker",
           "Springfield"
          ],
          [
           "Paul Bryant",
           "Buffalo"
          ],
          [
           "Kelly Pacheco",
           "Houston"
          ],
          [
           "Jeffrey Weber",
           "Buffalo"
          ],
          [
           "Andrew Krueger",
           "Rochester"
          ],
          [
           "Kathleen Cox",
           "New York City"
          ],
          [
           "Amber Kennedy",
           "Tampa"
          ],
          [
           "Maria Davis",
           "Buffalo"
          ],
          [
           "Terry Gilbert",
           "Miami"
          ],
          [
           "Devon Schmitt",
           "Austin"
          ],
          [
           "Kristin Alvarez",
           "Springfield"
          ],
          [
           "Kevin Jackson",
           "Buffalo"
          ],
          [
           "Mrs. Lauren Potter DDS",
           "Columbus"
          ],
          [
           "Jason Brown",
           "Chicago"
          ],
          [
           "Jamie Santos",
           "Los Angeles"
          ],
          [
           "Kristin Alvarez",
           "Springfield"
          ],
          [
           "Kevin Jackson",
           "Buffalo"
          ],
          [
           "Mrs. Lauren Potter DDS",
           "Columbus"
          ],
          [
           "Jason Brown",
           "Chicago"
          ],
          [
           "Jamie Santos",
           "Los Angeles"
          ],
          [
           "James Taylor",
           "Tampa"
          ],
          [
           "Alicia Vincent",
           "Cincinnati"
          ],
          [
           "Kenneth Adams",
           "Cleveland"
          ],
          [
           "Shelby Browning",
           "Chicago"
          ],
          [
           "Christine Wheeler",
           "Tampa"
          ],
          [
           "Megan Morgan",
           "Cleveland"
          ],
          [
           "Vincent Kramer",
           "Orlando"
          ],
          [
           "Raymond Bean",
           "Springfield"
          ],
          [
           "Nancy Boyd",
           "Cincinnati"
          ],
          [
           "Raymond Reyes",
           "San Diego"
          ],
          [
           "Cassandra Jordan",
           "Peoria"
          ],
          [
           "Evelyn Harris",
           "Buffalo"
          ],
          [
           "Shannon Maynard",
           "Orlando"
          ],
          [
           "Marie James",
           "Buffalo"
          ],
          [
           "Maria Carroll",
           "Cleveland"
          ],
          [
           "Jessica Sloan",
           "Austin"
          ],
          [
           "Kaitlin Brown",
           "Dallas"
          ],
          [
           "Kaitlin Brown",
           "Dallas"
          ],
          [
           "Claire Cole",
           "Houston"
          ],
          [
           "David Bell",
           "Los Angeles"
          ],
          [
           "Jason Norman",
           "Miami"
          ],
          [
           "Laura Poole",
           "Rochester"
          ],
          [
           "Bryan Baird",
           "Peoria"
          ],
          [
           "Amy Thompson",
           "Cincinnati"
          ],
          [
           "Joshua Rojas",
           "Miami"
          ],
          [
           "Michelle Anderson",
           "Cleveland"
          ],
          [
           "Michelle Guerra",
           "New York City"
          ],
          [
           "Jessica Hunt",
           "Springfield"
          ],
          [
           "Tony Chavez",
           "Columbus"
          ],
          [
           "Roger Morrison",
           "Cincinnati"
          ],
          [
           "Bethany Harrison",
           "Los Angeles"
          ],
          [
           "Lisa Mcintyre",
           "Orlando"
          ],
          [
           "Carolyn Gonzalez",
           "Miami"
          ],
          [
           "Christina Oconnell",
           "San Francisco"
          ],
          [
           "Albert Alexander Jr.",
           "Cleveland"
          ],
          [
           "Teresa Perez",
           "Austin"
          ],
          [
           "Scott Gibbs",
           "Los Angeles"
          ],
          [
           "Brandi Garcia",
           "San Francisco"
          ],
          [
           "Matthew Blake",
           "San Francisco"
          ],
          [
           "Brent Thomas",
           "Peoria"
          ],
          [
           "Maria Galvan",
           "Columbus"
          ],
          [
           "David Allen",
           "Tampa"
          ],
          [
           "Kimberly Fuller",
           "Cleveland"
          ],
          [
           "Erica Scott",
           "Chicago"
          ],
          [
           "Melissa Mitchell",
           "Chicago"
          ],
          [
           "Cheryl Johnson",
           "Cincinnati"
          ],
          [
           "Jamie Brewer",
           "Springfield"
          ],
          [
           "Lauren Boyer",
           "Dallas"
          ],
          [
           "Howard Esparza",
           "Houston"
          ],
          [
           "James Hickman",
           "Cleveland"
          ],
          [
           "Jerry Smith",
           "San Diego"
          ],
          [
           "Andre Fernandez",
           "Orlando"
          ],
          [
           "Anthony West",
           "San Diego"
          ],
          [
           "Patricia Davis",
           "Chicago"
          ],
          [
           "Nancy Kennedy",
           "Dallas"
          ],
          [
           "Andrew Barry",
           "Peoria"
          ],
          [
           "Samantha Williams",
           "Orlando"
          ],
          [
           "Andrea Hill",
           "Chicago"
          ]
         ],
         "hovertemplate": "Category=Office Supplies<br>Amount=%{x}<br>Profit=%{y}<br>Quantity=%{marker.size}<br>CustomerName=%{customdata[0]}<br>City=%{customdata[1]}<extra></extra>",
         "legendgroup": "Office Supplies",
         "marker": {
          "color": "#EF553B",
          "size": {
           "bdata": "DAwOAQoSBgEBExQSERQUFBQECwwDCAgIAgIKCgEQEBMTBBALEhQUFAcHBwIHCgoKAQEBFAwPDAESDQ0NCgoICA0NBgcQEBAHBwcIFAkGAxAQDBAQCAMBDQoKAhISAggRBQUJCQ4ODRQCAgUGBgkTCRQUBAcREQMSFAwREQkBBgoUDAwPDwMUFAkCAgYGAQcMDgwOARQRDw8NDQ4ODw8DFBQMDBINEgMLCwQEBAkFBQUFDQwTDw0NDQMDAwMBBQUFBwcBAQkJAQ8QBgIDAwUMEBMTERQFDwQEAhIFEgYNDQ4HEwsLDw8PAQQICAcHExMOBhISCgoJDgQECAkFEA4PDwoQEAYGBQUNDQQLCxAPCAEBFBQPBwcHDBEREQQBExMTCwsGBgQEARMGAQYNCQICEwMLDwYTDhAECQQLCwsDCAgIEgUGBwcJDRMTEwUFBQUFBAQEBAQBCQkJBgUFBQgIEBAQEAICAgYJCgMUBwUPBBMFBQMQBgYGEhISBAQUBwkICAkMExMPDwkDAwMCAgwN",
           "dtype": "i1"
          },
          "sizemode": "area",
          "sizeref": 0.05,
          "symbol": "circle"
         },
         "mode": "markers",
         "name": "Office Supplies",
         "showlegend": true,
         "type": "scattergl",
         "x": {
          "bdata": "9QX1BZ8LwxqwHU0d1QJdBl0GCyN7C24h8A9jFGMUZg5mDp0XeSRoHtcVZSBlIGUguQO5A0MGQwbpB5AafhK/Ib8h4A4cCooT1BwIJwgnCCeTJZMlkyV8ChEFaQ1pDWkNLw8vDy8PCQeOBHwMNxyTDsci2yXbJdsldRl1GXMhrBzLFJIi2yFZIpsmmyabJloUWhRaFA4Dogy1A6caMB1hHWEd6CXtJu0mkgMMBhsM7gVoEGgQLhdpHKEJlw1dEzQRFA0UDZgimCJlA2UDtwsWFIUhhSGPBAwgDCCLA34IQQymJqYmiB1+BCYGAxbrGtsGQSLgArEmsSa9CXkm0wwND4AXCgUKBcINwg2FHBQb7Rh1JlULVQsWGxYbpiZJIfYgYA83GpcYtiUoDMUGagNqA+AE4ARVDlUOAgICAo0EqiSqJHQPdA9vGNEdzwNjBRoHGgdcCFwIXAgwJowdjB2MHYwdFyYGCKATMyBwHnAecB5qEGoQahBqEO4Jph+mH6YflAOUA84Lzgv1EvUSaCYcA7slQwSLF9gM2AyJD3wjQQQiGiIajCUsG9oSzANRDlEOUCZLEAoduCMLFxERERFfHcQGVCJGA0YDnxyfHJ8cRBMYCcQRxBEbHBscJAokCo8RtSXNH80f/w7/DnQRAiItCdEc0gnEGZ4RFRKYDGofah91D0EijQvgFOAUgAuAC3wQfBBOIR0KHQotFFoGFCGCFIIUFBAUEFUE9Q31DfUN9hjHFscWxxZXECohcCECGQIZYhJiErgZuBmPAo8CTBQRGjsEfh4DGFkh6SEqIyojwRtdJTUgYxNxIJ0iUw2+JPIGjxITI0wKTApMCoockwmTCZMJwgP/BwIgXhVeFZwMpBNSAlICUgKjDqMOow6jDqMOegx6DHoMegx6DGQhrQ6tDq0ODghMEEwQTBC0CrQK2hTaFNoU2hQXDBcMKBMIDJ4C8h9SCewI0hsvJmsbkiZ1DModyh3rF8EMqB+oH6gftSa1JlsSxB3EHRkCkSapETUINQjEIVsSOCQ4JL4evh6QImwfbB97DaAToBOpB5ID",
          "dtype": "i2"
         },
         "xaxis": "x",
         "y": {
          "bdata": "uQC5AM4B/ApKBAYBhQAJAQkBmwt+A2wGSACcBJwE+AL4AkYGKgJ5C6AGSApICkgKXQBdAGkBaQEQAqcAmgQgDCAMqATBAgkHiQZwDnAOcA5cDVwNXA2eAlgCkQSRBJEE0gXSBdIFgQIIAoMFgQmHAjER8AvwC/ALLQYtBkAK3whCARcB8gTCC8wSzBLMEqEEoQShBHYBBQQtAQMDDQSBDYEN8xDZC9kLkAGaAt8BmwBXA1cDGwaOCrsCPwSABFoDOAI4AuQH5Ad1AXUBkQB8B4wJjAnPAU4JTgmHAQkBOwJyDnIONQM6AAIBPgHhCe8BxQceAXkCeQLFBMMDRwCxBa8BzADMAIIDggMSDpIMywr2C4MFgwWABIAEPQMYCmMNWgYVBKUJDxApBIUA6wDrAEgCSAKaAJoAbQBtADMA+wn7CY4AjgC1AbgA4AD6AOIC4gLKA8oDygOmDocNhw2HDYcNmwlzAQgGQgV7BXsFewWTBJMEkwSTBL4ACAcIBwgHagFqAYABgAHkBuQG9gSZALIIFQH6BcUFxQUtA7UMsADpA+kDDAo+ATICagAiAyIDRQiqBSMLrAjYCEgCSAKSAf4CaA8PAQ8BJAokCiQKgQQUA1cIVwiBBoEG6wPrA4AFpwmAD4APhwWHBZQHGww/AQEIXwCfBWgHfAb6A6gDqAOXAGoMlQMvCi8K+QD5ALEDsQOoBl0CXQJ1AwIBUg67ALsAmQOZA6IBMgIyAjICEQwmBiYGJgaHBCADdgjSCtIKUgJSAnMBcwEpASkBrQm2A/UBZwTeCQIOmgllEGUQ3gqbBkQB5gQpBjUNqAZxBB0BDQN9EVgAWABYAAsGVgFWAVYBKgGSA0ELJAEkAdwBEQZDAEMAQwCaAZoBmgGaAZoBFgIWAhYCFgIWAgEJWgZaBloGUAPrAOsA6wAuAi4CSgVKBUoFSgWtA60D1QHhAlUAngnnA5UAvgebEXUKNw+cBOUA5QCWBm4FDwQPBA8Etwu3C3ECfQB9AI4A6RHyBh8BHwGwB2cA6wbrBiEEIQQqCDIOMg6SAnsBewE7AKMA",
          "dtype": "i2"
         },
         "yaxis": "y"
        },
        {
         "customdata": [
          [
           "Richard Kelley",
           "Los Angeles"
          ],
          [
           "Jacqueline Hubbard",
           "New York City"
          ],
          [
           "Mary Taylor",
           "Orlando"
          ],
          [
           "Mary Taylor",
           "Orlando"
          ],
          [
           "Lawrence Robinson",
           "Rochester"
          ],
          [
           "Jessica Richardson",
           "San Diego"
          ],
          [
           "Kimberly Warren",
           "Cincinnati"
          ],
          [
           "Casey Garcia",
           "Orlando"
          ],
          [
           "Casey Garcia",
           "Orlando"
          ],
          [
           "Morgan Montes",
           "San Diego"
          ],
          [
           "Christine Mosley",
           "Cincinnati"
          ],
          [
           "Ashley Rodriguez",
           "Austin"
          ],
          [
           "Elizabeth King",
           "Dallas"
          ],
          [
           "Connie Holmes",
           "Cincinnati"
          ],
          [
           "Melissa Peck",
           "Miami"
          ],
          [
           "David Smith",
           "Orlando"
          ],
          [
           "Jacqueline Harris",
           "Houston"
          ],
          [
           "David Smith",
           "Orlando"
          ],
          [
           "Jacqueline Harris",
           "Houston"
          ],
          [
           "David Smith",
           "Orlando"
          ],
          [
           "Jacqueline Harris",
           "Houston"
          ],
          [
           "Heather Jenkins",
           "Buffalo"
          ],
          [
           "Heather Jenkins",
           "Buffalo"
          ],
          [
           "Heather Jenkins",
           "Buffalo"
          ],
          [
           "Kelsey Castaneda",
           "Cleveland"
          ],
          [
           "Katherine Harris",
           "Los Angeles"
          ],
          [
           "Jon Banks",
           "Tampa"
          ],
          [
           "Michelle Williams",
           "Buffalo"
          ],
          [
           "Andrew Allen",
           "San Diego"
          ],
          [
           "Andrew Allen",
           "San Diego"
          ],
          [
           "Douglas Mcfarland",
           "Cleveland"
          ],
          [
           "Kayla Ross",
           "Peoria"
          ],
          [
           "Marc Strickland",
           "Orlando"
          ],
          [
           "Charlene Brown",
           "Miami"
          ],
          [
           "Charles Smith",
           "Columbus"
          ],
          [
           "Karen Townsend",
           "Houston"
          ],
          [
           "Steven Cox",
           "Los Angeles"
          ],
          [
           "Cynthia Rodriguez",
           "Rochester"
          ],
          [
           "Jessica Baker",
           "Austin"
          ],
          [
           "Zachary Perez",
           "Austin"
          ],
          [
           "Brian Green",
           "San Diego"
          ],
          [
           "Becky Leach",
           "Miami"
          ],
          [
           "Jason Randolph",
           "San Francisco"
          ],
          [
           "Laura Andrews",
           "New York City"
          ],
          [
           "Mrs. Stephanie Hooper",
           "San Francisco"
          ],
          [
           "Anthony Evans",
           "Cleveland"
          ],
          [
           "Sean Elliott",
           "San Francisco"
          ],
          [
           "Wanda West",
           "Cleveland"
          ],
          [
           "Renee Solomon",
           "Tampa"
          ],
          [
           "Renee Solomon",
           "Tampa"
          ],
          [
           "Michael Hunt",
           "Dallas"
          ],
          [
           "Michael Hunt",
           "Dallas"
          ],
          [
           "Daniel Mosley",
           "Los Angeles"
          ],
          [
           "Monica Gibson",
           "Springfield"
          ],
          [
           "Christina Davis",
           "Chicago"
          ],
          [
           "Claudia Curry",
           "Austin"
          ],
          [
           "Christina Davis",
           "Chicago"
          ],
          [
           "Claudia Curry",
           "Austin"
          ],
          [
           "Christina Davis",
           "Chicago"
          ],
          [
           "Claudia Curry",
           "Austin"
          ],
          [
           "George Foster",
           "Dallas"
          ],
          [
           "Nicholas Anderson",
           "Orlando"
          ],
          [
           "Emily Ellison",
           "Los Angeles"
          ],
          [
           "George Foster",
           "Dallas"
          ],
          [
           "Nicholas Anderson",
           "Orlando"
          ],
          [
           "Emily Ellison",
           "Los Angeles"
          ],
          [
           "Darren Perez",
           "Austin"
          ],
          [
           "Michelle Hunter",
           "Cincinnati"
          ],
          [
           "Janet Guerrero",
           "Rochester"
          ],
          [
           "Jeffrey Kline",
           "Miami"
          ],
          [
           "Ryan Bullock",
           "Tampa"
          ],
          [
           "Tom Lawson",
           "Buffalo"
          ],
          [
           "Mr. Curtis Bailey",
           "Tampa"
          ],
          [
           "Spencer Spears",
           "Chicago"
          ],
          [
           "Amy Wilson",
           "Los Angeles"
          ],
          [
           "Scott Lewis",
           "Houston"
          ],
          [
           "Eric Griffith",
           "Chicago"
          ],
          [
           "Anna Ferguson",
           "San Francisco"
          ],
          [
           "Scott Lewis",
           "Houston"
          ],
          [
           "Eric Griffith",
           "Chicago"
          ],
          [
           "Anna Ferguson",
           "San Francisco"
          ],
          [
           "Theresa Medina",
           "Springfield"
          ],
          [
           "Theresa Medina",
           "Springfield"
          ],
          [
           "Mary Smith",
           "Miami"
          ],
          [
           "Lance Cain",
           "Tampa"
          ],
          [
           "Alexandra Moran",
           "San Francisco"
          ],
          [
           "Sara Castro",
           "Chicago"
          ],
          [
           "Shawn Leach",
           "Peoria"
          ],
          [
           "Mark Boyle",
           "Buffalo"
          ],
          [
           "John Stevens",
           "San Francisco"
          ],
          [
           "Nancy Jones",
           "Cleveland"
          ],
          [
           "Terri Madden",
           "Rochester"
          ],
          [
           "Caitlin Thomas",
           "New York City"
          ],
          [
           "Tammy Anthony",
           "Cleveland"
          ],
          [
           "Jennifer Chase",
           "Buffalo"
          ],
          [
           "Cassandra Farley",
           "Orlando"
          ],
          [
           "Justin Vasquez",
           "Houston"
          ],
          [
           "Melissa Morales",
           "Houston"
          ],
          [
           "Tyler Thompson",
           "Dallas"
          ],
          [
           "Maria Miller",
           "Buffalo"
          ],
          [
           "Terry Mcdaniel",
           "Cincinnati"
          ],
          [
           "Lisa Jacobs",
           "Buffalo"
          ],
          [
           "Jeff Duncan",
           "Cincinnati"
          ],
          [
           "Pamela Jones",
           "New York City"
          ],
          [
           "Bianca Brown",
           "Columbus"
          ],
          [
           "Timothy Jensen",
           "Orlando"
          ],
          [
           "Melinda Montoya",
           "San Francisco"
          ],
          [
           "Tammy Bell",
           "Cincinnati"
          ],
          [
           "Jonathan Alvarez",
           "Columbus"
          ],
          [
           "Becky Hodges",
           "Houston"
          ],
          [
           "Larry Hill",
           "New York City"
          ],
          [
           "Amber Moon",
           "Cleveland"
          ],
          [
           "Carol Norman",
           "Rochester"
          ],
          [
           "Suzanne Cross",
           "Austin"
          ],
          [
           "Dean Avila",
           "Cincinnati"
          ],
          [
           "Heather Johnson",
           "Los Angeles"
          ],
          [
           "Matthew Harris",
           "Dallas"
          ],
          [
           "Matthew Harris",
           "Dallas"
          ],
          [
           "James Dickerson",
           "Houston"
          ],
          [
           "James Jones",
           "Dallas"
          ],
          [
           "Hannah Hendricks",
           "Cleveland"
          ],
          [
           "Brett Mullins",
           "Orlando"
          ],
          [
           "Marcus Santiago",
           "Buffalo"
          ],
          [
           "Marcus Santiago",
           "Buffalo"
          ],
          [
           "Jill Perez",
           "San Diego"
          ],
          [
           "Melissa Wise",
           "Columbus"
          ],
          [
           "Elizabeth Gonzalez",
           "San Diego"
          ],
          [
           "Benjamin Higgins",
           "Rochester"
          ],
          [
           "Brett Sutton",
           "Austin"
          ],
          [
           "Anna Blackburn",
           "Cincinnati"
          ],
          [
           "Michelle Bailey",
           "Dallas"
          ],
          [
           "Brett Sutton",
           "Austin"
          ],
          [
           "Anna Blackburn",
           "Cincinnati"
          ],
          [
           "Michelle Bailey",
           "Dallas"
          ],
          [
           "Katherine Williams",
           "Orlando"
          ],
          [
           "Cory Evans",
           "Orlando"
          ],
          [
           "Cory Evans",
           "Orlando"
          ],
          [
           "Cory Evans",
           "Orlando"
          ],
          [
           "Michael Rodriguez",
           "Cincinnati"
          ],
          [
           "Lawrence Oliver",
           "Springfield"
          ],
          [
           "Andrew Griffin",
           "Chicago"
          ],
          [
           "William Villarreal",
           "Orlando"
          ],
          [
           "Laura Cole",
           "Tampa"
          ],
          [
           "Lauren Harris",
           "Cleveland"
          ],
          [
           "Cameron Miller",
           "Chicago"
          ],
          [
           "Jacob Carpenter",
           "Buffalo"
          ],
          [
           "Pamela Callahan DVM",
           "Columbus"
          ],
          [
           "Paula Marshall",
           "Dallas"
          ],
          [
           "Anthony Barnett",
           "Peoria"
          ],
          [
           "Kaitlyn Flores",
           "Cleveland"
          ],
          [
           "Rebecca Owen",
           "Springfield"
          ],
          [
           "Michael Bell",
           "San Diego"
          ],
          [
           "Willie Huynh",
           "Buffalo"
          ],
          [
           "Benjamin Meadows",
           "Peoria"
          ],
          [
           "Micheal Graham",
           "Buffalo"
          ],
          [
           "Jean Jackson",
           "San Francisco"
          ],
          [
           "Richard Blair",
           "Miami"
          ],
          [
           "Jeffrey Henderson",
           "Tampa"
          ],
          [
           "Michelle Hardy",
           "Dallas"
          ],
          [
           "William Valdez",
           "San Diego"
          ],
          [
           "William Valdez",
           "San Diego"
          ],
          [
           "Laura Yu",
           "Houston"
          ],
          [
           "Austin Davis",
           "San Diego"
          ],
          [
           "Mark Roy",
           "San Francisco"
          ],
          [
           "Roger Harris",
           "Springfield"
          ],
          [
           "Christopher Brooks",
           "Peoria"
          ],
          [
           "Darren Moore",
           "Peoria"
          ],
          [
           "Stephanie Thomas",
           "Rochester"
          ],
          [
           "Kristy Hernandez",
           "San Diego"
          ],
          [
           "Randy Johnson",
           "Columbus"
          ],
          [
           "Donald York",
           "Buffalo"
          ],
          [
           "Tiffany Parker",
           "Houston"
          ],
          [
           "Donald York",
           "Buffalo"
          ],
          [
           "Tiffany Parker",
           "Houston"
          ],
          [
           "Melissa Mcknight",
           "Los Angeles"
          ],
          [
           "Jill Jones",
           "New York City"
          ],
          [
           "Jill Jones",
           "New York City"
          ],
          [
           "Leonard Gonzalez",
           "San Francisco"
          ],
          [
           "Richard Lee",
           "Buffalo"
          ],
          [
           "Matthew Schroeder",
           "Cleveland"
          ],
          [
           "Marcus Flores",
           "Los Angeles"
          ],
          [
           "Tonya Long",
           "Miami"
          ],
          [
           "Kaylee Glover",
           "Springfield"
          ],
          [
           "Pamela Patterson",
           "San Francisco"
          ],
          [
           "Kaylee Glover",
           "Springfield"
          ],
          [
           "Pamela Patterson",
           "San Francisco"
          ],
          [
           "Brenda Murphy",
           "San Francisco"
          ],
          [
           "Brenda Murphy",
           "San Francisco"
          ],
          [
           "Mark Dixon",
           "Cincinnati"
          ],
          [
           "Alicia Allen",
           "Dallas"
          ],
          [
           "Cynthia Meyer",
           "Tampa"
          ],
          [
           "Brandon Norton",
           "Springfield"
          ],
          [
           "Christina Scott",
           "Tampa"
          ],
          [
           "Nancy Sanchez",
           "Springfield"
          ],
          [
           "Sydney Walls",
           "Chicago"
          ],
          [
           "Deborah Hoffman",
           "Miami"
          ],
          [
           "Shane Clark",
           "San Diego"
          ],
          [
           "Kimberly Fuller",
           "Buffalo"
          ],
          [
           "Angela Lyons",
           "New York City"
          ],
          [
           "Richard Castaneda",
           "Cleveland"
          ],
          [
           "Sarah Torres",
           "San Diego"
          ],
          [
           "Richard Castaneda",
           "Cleveland"
          ],
          [
           "Sarah Torres",
           "San Diego"
          ],
          [
           "Kayla Becker",
           "Los Angeles"
          ],
          [
           "Ashley Freeman",
           "Tampa"
          ],
          [
           "Scott Harris",
           "Los Angeles"
          ],
          [
           "John James",
           "Columbus"
          ],
          [
           "Brandon Hughes",
           "Dallas"
          ],
          [
           "Lynn Reynolds",
           "Cincinnati"
          ],
          [
           "Kyle Baker",
           "Houston"
          ],
          [
           "Kyle Baker",
           "Houston"
          ],
          [
           "Michael Rivera",
           "Los Angeles"
          ],
          [
           "Michael Rivera",
           "Los Angeles"
          ],
          [
           "Lori Adkins",
           "San Diego"
          ],
          [
           "Luis Warner",
           "New York City"
          ],
          [
           "Donald Perry",
           "Orlando"
          ],
          [
           "Donald Perry",
           "Orlando"
          ],
          [
           "Kimberly Johnson",
           "Buffalo"
          ],
          [
           "Kelly Jones",
           "Rochester"
          ],
          [
           "Alexis Duffy",
           "Los Angeles"
          ],
          [
           "Stephanie Sanchez",
           "Miami"
          ],
          [
           "Reginald Espinoza",
           "Cleveland"
          ],
          [
           "Daniel Flowers",
           "Springfield"
          ],
          [
           "Deborah Williams",
           "Chicago"
          ],
          [
           "Robert Michael",
           "Austin"
          ],
          [
           "Stephen Baker",
           "Columbus"
          ],
          [
           "Jeffrey Wilcox",
           "Peoria"
          ],
          [
           "Christopher Thomas",
           "New York City"
          ],
          [
           "Peter Castro",
           "Dallas"
          ],
          [
           "Kelly Smith",
           "Cleveland"
          ],
          [
           "Sabrina Hartman",
           "Tampa"
          ],
          [
           "Whitney Stout",
           "Austin"
          ],
          [
           "Stephanie Flores",
           "San Diego"
          ],
          [
           "Gregory English",
           "Los Angeles"
          ],
          [
           "Natalie Maxwell",
           "New York City"
          ],
          [
           "Tina Blake",
           "Buffalo"
          ],
          [
           "Clarence Cooke",
           "San Francisco"
          ],
          [
           "Tamara Guzman",
           "Buffalo"
          ],
          [
           "Sara Garcia",
           "Peoria"
          ],
          [
           "Kathryn Rogers",
           "Columbus"
          ],
          [
           "Kyle Dickson",
           "Dallas"
          ],
          [
           "Jacob Decker",
           "Tampa"
          ],
          [
           "Aaron Johnson",
           "Rochester"
          ],
          [
           "William Morse",
           "Rochester"
          ],
          [
           "Carrie Smith",
           "Peoria"
          ],
          [
           "Colin Patterson",
           "New York City"
          ],
          [
           "Colin Patterson",
           "New York City"
          ],
          [
           "Eric Bates",
           "Columbus"
          ],
          [
           "Steven Keith",
           "San Francisco"
          ],
          [
           "Lauren Jones",
           "Cincinnati"
          ],
          [
           "Thomas Wallace",
           "Dallas"
          ],
          [
           "Mr. Daniel Wilson",
           "Cincinnati"
          ],
          [
           "Julie Smith MD",
           "Rochester"
          ],
          [
           "Carol Mitchell",
           "Chicago"
          ],
          [
           "Clayton Lara",
           "Miami"
          ],
          [
           "Clayton Lara",
           "Miami"
          ],
          [
           "Tony Ray",
           "Cleveland"
          ],
          [
           "Steven Frey",
           "Miami"
          ],
          [
           "Stephanie Leonard",
           "Buffalo"
          ],
          [
           "Crystal Chambers",
           "New York City"
          ],
          [
           "Robert White",
           "Orlando"
          ],
          [
           "Sylvia Barron",
           "Rochester"
          ],
          [
           "Tony Ray",
           "Cleveland"
          ],
          [
           "Steven Frey",
           "Miami"
          ],
          [
           "Stephanie Leonard",
           "Buffalo"
          ],
          [
           "Crystal Chambers",
           "New York City"
          ],
          [
           "Robert White",
           "Orlando"
          ],
          [
           "Sylvia Barron",
           "Rochester"
          ],
          [
           "Marcus Brown",
           "Chicago"
          ],
          [
           "Annette Pierce",
           "Rochester"
          ],
          [
           "Donald Hernandez",
           "San Francisco"
          ],
          [
           "Megan Davis",
           "Cleveland"
          ],
          [
           "Jennifer Arnold",
           "New York City"
          ],
          [
           "Jessica Blankenship",
           "Cincinnati"
          ],
          [
           "Mario Hall",
           "New York City"
          ],
          [
           "William Walters",
           "San Francisco"
          ],
          [
           "Emma Scott",
           "Buffalo"
          ],
          [
           "Sabrina Buckley",
           "Rochester"
          ],
          [
           "Kimberly Beard",
           "Cleveland"
          ],
          [
           "Lydia Donovan",
           "Peoria"
          ],
          [
           "Ricky Smith",
           "Miami"
          ],
          [
           "Mr. Ralph Garcia Jr.",
           "Rochester"
          ],
          [
           "Mr. Ralph Garcia Jr.",
           "Rochester"
          ],
          [
           "Malik Walker",
           "New York City"
          ],
          [
           "Tanya Walker",
           "San Diego"
          ],
          [
           "Sherri Ferguson DVM",
           "Austin"
          ],
          [
           "Kristin Hart",
           "San Francisco"
          ],
          [
           "Mr. Gregg Sawyer",
           "Peoria"
          ],
          [
           "John Silva",
           "Los Angeles"
          ],
          [
           "Brenda Davis",
           "San Francisco"
          ],
          [
           "Leah Calderon",
           "Chicago"
          ],
          [
           "Sheila Clay",
           "Buffalo"
          ],
          [
           "Cheryl Stevens",
           "San Francisco"
          ],
          [
           "Jorge George",
           "New York City"
          ],
          [
           "Jeremy Jackson",
           "Dallas"
          ],
          [
           "Edward Valencia",
           "Miami"
          ],
          [
           "Emma Bruce",
           "Austin"
          ],
          [
           "Brandon Alvarado",
           "Columbus"
          ],
          [
           "Jennifer Clark",
           "Austin"
          ],
          [
           "April Marquez",
           "Cleveland"
          ],
          [
           "Joseph Guerrero",
           "Los Angeles"
          ],
          [
           "Michael Hanson",
           "Rochester"
          ],
          [
           "Kelsey Huber",
           "Miami"
          ],
          [
           "Cheyenne Rose",
           "Orlando"
          ],
          [
           "Richard Petersen",
           "Chicago"
          ],
          [
           "Victor Collins",
           "San Diego"
          ],
          [
           "Erin Hernandez",
           "Los Angeles"
          ],
          [
           "Jacob Guzman",
           "Peoria"
          ],
          [
           "Cindy Rowland",
           "Springfield"
          ],
          [
           "Kenneth Matthews",
           "Rochester"
          ],
          [
           "Susan Valdez",
           "New York City"
          ],
          [
           "Samuel Moore",
           "Columbus"
          ],
          [
           "Robert Stokes",
           "Orlando"
          ],
          [
           "Danielle Ramirez",
           "San Francisco"
          ],
          [
           "Samuel Moore",
           "Columbus"
          ],
          [
           "Robert Stokes",
           "Orlando"
          ],
          [
           "Danielle Ramirez",
           "San Francisco"
          ],
          [
           "Kevin Cooper",
           "Tampa"
          ],
          [
           "Ricardo Dixon",
           "Springfield"
          ],
          [
           "Felicia Morton",
           "Columbus"
          ],
          [
           "Elizabeth White",
           "Rochester"
          ],
          [
           "Steven Steele",
           "Springfield"
          ],
          [
           "Amanda Ramirez",
           "Dallas"
          ],
          [
           "Alicia Oneill",
           "Springfield"
          ],
          [
           "Rebecca Huff",
           "Springfield"
          ],
          [
           "Diana Scott",
           "San Diego"
          ],
          [
           "Brian Young",
           "Austin"
          ],
          [
           "Nicolas Owen",
           "San Francisco"
          ],
          [
           "Martha Carney",
           "New York City"
          ],
          [
           "Francisco Hicks",
           "Springfield"
          ],
          [
           "Paul Bryant",
           "Buffalo"
          ],
          [
           "Jeffrey Weber",
           "Buffalo"
          ],
          [
           "Andrew Krueger",
           "Rochester"
          ],
          [
           "Jeffrey Weber",
           "Buffalo"
          ],
          [
           "Andrew Krueger",
           "Rochester"
          ],
          [
           "Christopher Rogers",
           "Chicago"
          ],
          [
           "Roberto Parrish",
           "Springfield"
          ],
          [
           "Robert Mosley",
           "Cincinnati"
          ],
          [
           "Paul Scott",
           "San Francisco"
          ],
          [
           "Alicia Vincent",
           "Cincinnati"
          ],
          [
           "Kenneth Adams",
           "Cleveland"
          ],
          [
           "Shelby Browning",
           "Chicago"
          ],
          [
           "Alicia Vincent",
           "Cincinnati"
          ],
          [
           "Kenneth Adams",
           "Cleveland"
          ],
          [
           "Shelby Browning",
           "Chicago"
          ],
          [
           "Johnny Hill",
           "San Diego"
          ],
          [
           "Nicholas Tucker",
           "Miami"
          ],
          [
           "Kendra Mckinney",
           "Miami"
          ],
          [
           "Reginald Hebert",
           "Cincinnati"
          ],
          [
           "Jeremy Vazquez",
           "Cleveland"
          ],
          [
           "Tara Hughes",
           "Tampa"
          ],
          [
           "Nancy Boyd",
           "Cincinnati"
          ],
          [
           "Raymond Reyes",
           "San Diego"
          ],
          [
           "Eric Mason",
           "Orlando"
          ],
          [
           "Lisa Lowe",
           "Miami"
          ],
          [
           "Roy Miller",
           "San Francisco"
          ],
          [
           "Christopher Espinoza",
           "Columbus"
          ],
          [
           "Patrick Hensley MD",
           "Cincinnati"
          ],
          [
           "John Cox",
           "Peoria"
          ],
          [
           "Michelle Sullivan",
           "Chicago"
          ],
          [
           "Danielle Mitchell",
           "Peoria"
          ],
          [
           "Jesus Hernandez",
           "Los Angeles"
          ],
          [
           "Sarah Wagner",
           "Houston"
          ],
          [
           "Ashley Wright",
           "Cleveland"
          ],
          [
           "Vanessa Smith",
           "Houston"
          ],
          [
           "John Thomas",
           "San Francisco"
          ],
          [
           "Bryan Anderson",
           "Los Angeles"
          ],
          [
           "Sarah Miller",
           "New York City"
          ],
          [
           "Mary Johnson",
           "Rochester"
          ],
          [
           "Joseph Knight",
           "Peoria"
          ],
          [
           "Dennis Rivera",
           "San Francisco"
          ],
          [
           "Nancy Keller",
           "Dallas"
          ],
          [
           "James Garcia",
           "Buffalo"
          ],
          [
           "Emily Frederick",
           "Austin"
          ],
          [
           "Shawn Wise",
           "San Francisco"
          ],
          [
           "Carrie Alvarez",
           "Peoria"
          ],
          [
           "Paul Zimmerman",
           "Rochester"
          ],
          [
           "Carl Ryan",
           "Dallas"
          ],
          [
           "Kelly Roberts",
           "Buffalo"
          ],
          [
           "Jack Woods",
           "Peoria"
          ],
          [
           "Amanda Williams",
           "Columbus"
          ],
          [
           "Daniel Brooks",
           "Peoria"
          ],
          [
           "Jacob Martinez",
           "Los Angeles"
          ],
          [
           "Raymond Burgess",
           "San Diego"
          ],
          [
           "Jennifer Cooke",
           "San Francisco"
          ],
          [
           "Tyrone White",
           "San Diego"
          ],
          [
           "Lauren Howell",
           "Buffalo"
          ],
          [
           "George Ashley",
           "Houston"
          ],
          [
           "Sara Bailey",
           "Cincinnati"
          ],
          [
           "Aaron Kim",
           "Buffalo"
          ],
          [
           "Monica Lee",
           "San Diego"
          ],
          [
           "Joshua Murray",
           "Dallas"
          ],
          [
           "John Jones",
           "San Diego"
          ],
          [
           "Lisa Farmer",
           "Houston"
          ],
          [
           "Christopher Walker",
           "Cincinnati"
          ],
          [
           "Elizabeth Coffey",
           "Buffalo"
          ],
          [
           "Joseph Clark",
           "Cincinnati"
          ],
          [
           "Amber Flowers",
           "Tampa"
          ],
          [
           "Nicole Dudley",
           "New York City"
          ],
          [
           "Lori Colon",
           "Buffalo"
          ],
          [
           "Robert Sexton",
           "Los Angeles"
          ],
          [
           "Brooke Gonzalez",
           "Miami"
          ],
          [
           "Victoria Bryant MD",
           "San Francisco"
          ],
          [
           "Samuel Little MD",
           "Chicago"
          ],
          [
           "Paul Taylor",
           "San Francisco"
          ],
          [
           "Susan Baker",
           "San Diego"
          ],
          [
           "Megan Mclean",
           "New York City"
          ]
         ],
         "hovertemplate": "Category=Furniture<br>Amount=%{x}<br>Profit=%{y}<br>Quantity=%{marker.size}<br>CustomerName=%{customdata[0]}<br>City=%{customdata[1]}<extra></extra>",
         "legendgroup": "Furniture",
         "marker": {
          "color": "#00cc96",
          "size": {
           "bdata": "EBMPCQILCw8BBgYGBhIMCgoDAxMTFA4DAwMBAQwDCgoPEBAQBAQHCAgRDAwMDA4OBQIIBQoBAwMHBxISEBAQDg4OCwsUCwsQDgENBQUFBQUFDA8HBw0NDQ0BAgMGDg4OCgoKFAICAgIPBxMNEBAHBwUTAwEHCRISDgQQAQsOEwIDAwMRERELDw4PEgkPEAMMDAwMFAINDQQUDw8EAgsLBwwHDg4GEg4ODgoGBgEBBA0PCgoKEhIUFAwMBwgRAgICBgoKCgERERERExMICAEBCQkTBwsSBQUBDAkJFBQUBgwMAgIFBA4OEhISCw4OEwoNDRISDg4MDA8PExMTExEOBxAQEBAQEBERERERERMTExMDCAcTCgoMBAcJDggRCAgIBQ8CCg8PAQUTDg4KCgoTAQEGBwcSEBASEhIODg4OCggEDQQICAgNEAUFDhAQEREPAQsDExMTEBAQBQUFCAgJAQEREQgICQkJDw8NDQcJCQkFBRMTERERCQcTAQMSBAUFEAgFAwMMCgQEDg4ODhAPDwMDDgQJCQ8=",
           "dtype": "i1"
          },
          "sizemode": "area",
          "sizeref": 0.05,
          "symbol": "circle"
         },
         "mode": "markers",
         "name": "Furniture",
         "showlegend": true,
         "type": "scattergl",
         "x": {
          "bdata": "vx/UCcod/wMhHJMTkxN2DzwMEgwSDBIMEgyfCYMe+xf7F7whvCFXEVcR+AOIFsEEuxy7HGYEZgRtHR4J3QbdBhwbyhXKFWgUqx2rHaIHXSJdIpUjrgmuCa4JrglLI0sjNgMCJigmaBO1FGQNKgsqC+8f7x/WFtYWayZrJmsmkh6SHpIeAgMCA6cmjgSOBFwmZwf3GkACShhKGEoY7wrvCu8KOBN2I4ohiiG3E7cTtxO3E0kODBHzBccKBScFJwUn/Rz9HP0cPQTiAuIC4gLiAkgisQhmJWQk4AbgBs4FzgUJBDAWiwdHCBMJWAXKFMoUagq/ICIFJhFzGXcQbgKQA08YTxhPGO8i7yLvItAaNR5MISsYDBE8D4UNCwy7D1cPBB4EHgQesByoJfoe+h62ERMCchRyFKcTqxMxGTEZjBEVHyoTFxcXFxcCSR0qCSoJKgmyHE8LTwu5ArkCARhjJo0fogyiDKIMOBg4GI0EjQSmHqYecwO7ETcb9BL0EvQS2hB5E3kTPRvfFLoUFiNtBG0EaBhoGCIVIhXQC9ALaAxoDDIQ0Q4BHM4PDRVIFRMQmRLdF90XABYAFgAWEQkRHREd+Q35DWwFQCO8JrwmGgwkFSQVdQU/JD8kTBrxIqcPpw8qAz0mKwQrBFkIDwtJD0kPsA6wDrAOsA6ZHxwgSwnNAs0CzQLNAs0CzQL8AfwB/AH8AfwB/AFIE0gTZwpnCisRERUAFRogpwqnChoV/xKTItAlWRHeGbwMBSIFIhAfSw7FD5YTJxuvD68P9RisDroZygLKAmEJYQlhCY8UFB4UHpoi0QzRDDMYJQ8lD8UUxRTFFKAYoBigGKwj6hR/GhUfZgb6BnwhfCF8IU0Omxs+Fj4Wswu6Jrom2AXYBcEm3iVCF74NyRfJF8kXGgoaChoKSRRJFGYHeRh5GHoE1x7XHuIU4hTZF9kXMCIwIjAihwqHCvwi7QyOFWoXahdqFxgmGCZEGkQaTwNPA08DOQxVFQwMxxdjAlUZah7EBcQFdQ0iBdoQiSWJJeIisxsQGhAaIRMhE1QVVBX5HPYZ9hmBCoEKLwMOAs0XzRd5Ig==",
          "dtype": "i2"
         },
         "xaxis": "x",
         "y": {
          "bdata": "3w3eAhYETgB9CmIDYgN2AsMDPQI9Aj0CPQKIAgIGwwHDAXgMeAywBrAGrAALCJcACgQKBDcANwC0DeQBbgJuAv0AFQEVAaYHOQs5CyYB8gPyA0oCXABcAFwAXADLBMsEkwAlCaYRpgMxA14B5gDmAA0CDQJKAkoCCwoLCgsKxQTFBMUE8QDxAD4GXQFdARkDhwFpAEwAZQRlBGUE1wTXBNcEBwOlCPIO8g6jCKMIowijCKMAPwPqAH0EWg9aD1oPvgO+A74DLQFWAVYBVgFWAeEJTQLND7sLawJrAnIAcgD+AG8IJwLEANcClgGPBY8FLwKpA+oBswDBA7AB2gD2AMYFxgXGBTEMMQwxDMsM4AqaACgJlABzAAEGfwRqBW0EhQSFBIUEJgouCr0HvQe7CL0A5QflB8oC2AdECkQKqgUSC88DHQkdCUgAPwGEAYQBhAETBGgAaAB0AHQAhgVwEPAA+gT6BPoEEQkRCS4BLgGlAqUCfwCDBLkM2gDaANoArQWAB4AH3guPAmUJwAFJAEkAkASQBJgJmAlJBUkFSgJKAmEDawNRCaEBlAicCAUFtwjgC+ALNgk2CTYJ+QFjA2MDuwK7AlkB2gL6EfoRvQOoBKgErgIoAigCjwPABskAyQDnABcI+wD7AH4CCQXBA8EDOQc5BzkHOQc8DCoPFwGeAJ4AngCeAJ4AngCxALEAsQCxALEAsQBAAkACQABAAH8GUgqIB5YFHwIfAoIGWgl6D98MOgFxCs8AEgkSCRkPewHWBRwJpADXBtcG3gImBQIH6ADoAIsEiwSLBM8GmAqYCkIN1wHXARQG4QHhAUEFQQVBBf4C/gL+AhgM5wLqDMUDlQLgAPkH+Qf5B7QBlwduBG4E3AASDxIPlgKWAqsFCRE6ChsEiwCLAIsAIAMgAyAD4gniCRMBmwCbALwA7QPtA94E3gSnBacFlgaWBpYGkgOSAx8NsQBjAwoLCgsKCyIOIg4DBgMGYwFjAWMBNwC+BGMC4wssAWoMsgT3APcAfQXJATcG8xDzEC4NDQn3DPcM6QPpAygIKAg2BVADUAMyBTIFNgBTAOIL4gsKDg==",
          "dtype": "i2"
         },
         "yaxis": "y"
        }
       ],
       "layout": {
        "legend": {
         "itemsizing": "constant",
         "title": {
          "text": "Category"
         },
         "tracegroupgap": 0
        },
        "margin": {
         "t": 60
        },
        "template": {
         "data": {
          "bar": [
           {
            "error_x": {
             "color": "#2a3f5f"
            },
            "error_y": {
             "color": "#2a3f5f"
            },
            "marker": {
             "line": {
              "color": "#E5ECF6",
              "width": 0.5
             },
             "pattern": {
              "fillmode": "overlay",
              "size": 10,
              "solidity": 0.2
             }
            },
            "type": "bar"
           }
          ],
          "barpolar": [
           {
            "marker": {
             "line": {
              "color": "#E5ECF6",
              "width": 0.5
             },
             "pattern": {
              "fillmode": "overlay",
              "size": 10,
              "solidity": 0.2
             }
            },
            "type": "barpolar"
           }
          ],
          "carpet": [
           {
            "aaxis": {
             "endlinecolor": "#2a3f5f",
             "gridcolor": "white",
             "linecolor": "white",
             "minorgridcolor": "white",
             "startlinecolor": "#2a3f5f"
            },
            "baxis": {
             "endlinecolor": "#2a3f5f",
             "gridcolor": "white",
             "linecolor": "white",
             "minorgridcolor": "white",
             "startlinecolor": "#2a3f5f"
            },
            "type": "carpet"
           }
          ],
          "choropleth": [
           {
            "colorbar": {
             "outlinewidth": 0,
             "ticks": ""
            },
            "type": "choropleth"
           }
          ],
          "contour": [
           {
            "colorbar": {
             "outlinewidth": 0,
             "ticks": ""
            },
            "colorscale": [
             [
              0,
              "#0d0887"
             ],
             [
              0.1111111111111111,
              "#46039f"
             ],
             [
              0.2222222222222222,
              "#7201a8"
             ],
             [
              0.3333333333333333,
              "#9c179e"
             ],
             [
              0.4444444444444444,
              "#bd3786"
             ],
             [
              0.5555555555555556,
              "#d8576b"
             ],
             [
              0.6666666666666666,
              "#ed7953"
             ],
             [
              0.7777777777777778,
              "#fb9f3a"
             ],
             [
              0.8888888888888888,
              "#fdca26"
             ],
             [
              1,
              "#f0f921"
             ]
            ],
            "type": "contour"
           }
          ],
          "contourcarpet": [
           {
            "colorbar": {
             "outlinewidth": 0,
             "ticks": ""
            },
            "type": "contourcarpet"
           }
          ],
          "heatmap": [
           {
            "colorbar": {
             "outlinewidth": 0,
             "ticks": ""
            },
            "colorscale": [
             [
              0,
              "#0d0887"
             ],
             [
              0.1111111111111111,
              "#46039f"
             ],
             [
              0.2222222222222222,
              "#7201a8"
             ],
             [
              0.3333333333333333,
              "#9c179e"
             ],
             [
              0.4444444444444444,
              "#bd3786"
             ],
             [
              0.5555555555555556,
              "#d8576b"
             ],
             [
              0.6666666666666666,
              "#ed7953"
             ],
             [
              0.7777777777777778,
              "#fb9f3a"
             ],
             [
              0.8888888888888888,
              "#fdca26"
             ],
             [
              1,
              "#f0f921"
             ]
            ],
            "type": "heatmap"
           }
          ],
          "histogram": [
           {
            "marker": {
             "pattern": {
              "fillmode": "overlay",
              "size": 10,
              "solidity": 0.2
             }
            },
            "type": "histogram"
           }
          ],
          "histogram2d": [
           {
            "colorbar": {
             "outlinewidth": 0,
             "ticks": ""
            },
            "colorscale": [
             [
              0,
              "#0d0887"
             ],
             [
              0.1111111111111111,
              "#46039f"
             ],
             [
              0.2222222222222222,
              "#7201a8"
             ],
             [
              0.3333333333333333,
              "#9c179e"
             ],
             [
              0.4444444444444444,
              "#bd3786"
             ],
             [
              0.5555555555555556,
              "#d8576b"
             ],
             [
              0.6666666666666666,
              "#ed7953"
             ],
             [
              0.7777777777777778,
              "#fb9f3a"
             ],
             [
              0.8888888888888888,
              "#fdca26"
             ],
             [
              1,
              "#f0f921"
             ]
            ],
            "type": "histogram2d"
           }
          ],
          "histogram2dcontour": [
           {
            "colorbar": {
             "outlinewidth": 0,
             "ticks": ""
            },
            "colorscale": [
             [
              0,
              "#0d0887"
             ],
             [
              0.1111111111111111,
              "#46039f"
             ],
             [
              0.2222222222222222,
              "#7201a8"
             ],
             [
              0.3333333333333333,
              "#9c179e"
             ],
             [
              0.4444444444444444,
              "#bd3786"
             ],
             [
              0.5555555555555556,
              "#d8576b"
             ],
             [
              0.6666666666666666,
              "#ed7953"
             ],
             [
              0.7777777777777778,
              "#fb9f3a"
             ],
             [
              0.8888888888888888,
              "#fdca26"
             ],
             [
              1,
              "#f0f921"
             ]
            ],
            "type": "histogram2dcontour"
           }
          ],
          "mesh3d": [
           {
            "colorbar": {
             "outlinewidth": 0,
             "ticks": ""
            },
            "type": "mesh3d"
           }
          ],
          "parcoords": [
           {
            "line": {
             "colorbar": {
              "outlinewidth": 0,
              "ticks": ""
             }
            },
            "type": "parcoords"
           }
          ],
          "pie": [
           {
            "automargin": true,
            "type": "pie"
           }
          ],
          "scatter": [
           {
            "fillpattern": {
             "fillmode": "overlay",
             "size": 10,
             "solidity": 0.2
            },
            "type": "scatter"
           }
          ],
          "scatter3d": [
           {
            "line": {
             "colorbar": {
              "outlinewidth": 0,
              "ticks": ""
             }
            },
            "marker": {
             "colorbar": {
              "outlinewidth": 0,
              "ticks": ""
             }
            },
            "type": "scatter3d"
           }
          ],
          "scattercarpet": [
           {
            "marker": {
             "colorbar": {
              "outlinewidth": 0,
              "ticks": ""
             }
            },
            "type": "scattercarpet"
           }
          ],
          "scattergeo": [
           {
            "marker": {
             "colorbar": {
              "outlinewidth": 0,
              "ticks": ""
             }
            },
            "type": "scattergeo"
           }
          ],
          "scattergl": [
           {
            "marker": {
             "colorbar": {
              "outlinewidth": 0,
              "ticks": ""
             }
            },
            "type": "scattergl"
           }
          ],
          "scattermap": [
           {
            "marker": {
             "colorbar": {
              "outlinewidth": 0,
              "ticks": ""
             }
            },
            "type": "scattermap"
           }
          ],
          "scattermapbox": [
           {
            "marker": {
             "colorbar": {
              "outlinewidth": 0,
              "ticks": ""
             }
            },
            "type": "scattermapbox"
           }
          ],
          "scatterpolar": [
           {
            "marker": {
             "colorbar": {
              "outlinewidth": 0,
              "ticks": ""
             }
            },
            "type": "scatterpolar"
           }
          ],
          "scatterpolargl": [
           {
            "marker": {
             "colorbar": {
              "outlinewidth": 0,
              "ticks": ""
             }
            },
            "type": "scatterpolargl"
           }
          ],
          "scatterternary": [
           {
            "marker": {
             "colorbar": {
              "outlinewidth": 0,
              "ticks": ""
             }
            },
            "type": "scatterternary"
           }
          ],
          "surface": [
           {
            "colorbar": {
             "outlinewidth": 0,
             "ticks": ""
            },
            "colorscale": [
             [
              0,
              "#0d0887"
             ],
             [
              0.1111111111111111,
              "#46039f"
             ],
             [
              0.2222222222222222,
              "#7201a8"
             ],
             [
              0.3333333333333333,
              "#9c179e"
             ],
             [
              0.4444444444444444,
              "#bd3786"
             ],
             [
              0.5555555555555556,
              "#d8576b"
             ],
             [
              0.6666666666666666,
              "#ed7953"
             ],
             [
              0.7777777777777778,
              "#fb9f3a"
             ],
             [
              0.8888888888888888,
              "#fdca26"
             ],
             [
              1,
              "#f0f921"
             ]
            ],
            "type": "surface"
           }
          ],
          "table": [
           {
            "cells": {
             "fill": {
              "color": "#EBF0F8"
             },
             "line": {
              "color": "white"
             }
            },
            "header": {
             "fill": {
              "color": "#C8D4E3"
             },
             "line": {
              "color": "white"
             }
            },
            "type": "table"
           }
          ]
         },
         "layout": {
          "annotationdefaults": {
           "arrowcolor": "#2a3f5f",
           "arrowhead": 0,
           "arrowwidth": 1
          },
          "autotypenumbers": "strict",
          "coloraxis": {
           "colorbar": {
            "outlinewidth": 0,
            "ticks": ""
           }
          },
          "colorscale": {
           "diverging": [
            [
             0,
             "#8e0152"
            ],
            [
             0.1,
             "#c51b7d"
            ],
            [
             0.2,
             "#de77ae"
            ],
            [
             0.3,
             "#f1b6da"
            ],
            [
             0.4,
             "#fde0ef"
            ],
            [
             0.5,
             "#f7f7f7"
            ],
            [
             0.6,
             "#e6f5d0"
            ],
            [
             0.7,
             "#b8e186"
            ],
            [
             0.8,
             "#7fbc41"
            ],
            [
             0.9,
             "#4d9221"
            ],
            [
             1,
             "#276419"
            ]
           ],
           "sequential": [
            [
             0,
             "#0d0887"
            ],
            [
             0.1111111111111111,
             "#46039f"
            ],
            [
             0.2222222222222222,
             "#7201a8"
            ],
            [
             0.3333333333333333,
             "#9c179e"
            ],
            [
             0.4444444444444444,
             "#bd3786"
            ],
            [
             0.5555555555555556,
             "#d8576b"
            ],
            [
             0.6666666666666666,
             "#ed7953"
            ],
            [
             0.7777777777777778,
             "#fb9f3a"
            ],
            [
             0.8888888888888888,
             "#fdca26"
            ],
            [
             1,
             "#f0f921"
            ]
           ],
           "sequentialminus": [
            [
             0,
             "#0d0887"
            ],
            [
             0.1111111111111111,
             "#46039f"
            ],
            [
             0.2222222222222222,
             "#7201a8"
            ],
            [
             0.3333333333333333,
             "#9c179e"
            ],
            [
             0.4444444444444444,
             "#bd3786"
            ],
            [
             0.5555555555555556,
             "#d8576b"
            ],
            [
             0.6666666666666666,
             "#ed7953"
            ],
            [
             0.7777777777777778,
             "#fb9f3a"
            ],
            [
             0.8888888888888888,
             "#fdca26"
            ],
            [
             1,
             "#f0f921"
            ]
           ]
          },
          "colorway": [
           "#636efa",
           "#EF553B",
           "#00cc96",
           "#ab63fa",
           "#FFA15A",
           "#19d3f3",
           "#FF6692",
           "#B6E880",
           "#FF97FF",
           "#FECB52"
          ],
          "font": {
           "color": "#2a3f5f"
          },
          "geo": {
           "bgcolor": "white",
           "lakecolor": "white",
           "landcolor": "#E5ECF6",
           "showlakes": true,
           "showland": true,
           "subunitcolor": "white"
          },
          "hoverlabel": {
           "align": "left"
          },
          "hovermode": "closest",
          "mapbox": {
           "style": "light"
          },
          "paper_bgcolor": "white",
          "plot_bgcolor": "#E5ECF6",
          "polar": {
           "angularaxis": {
            "gridcolor": "white",
            "linecolor": "white",
            "ticks": ""
           },
           "bgcolor": "#E5ECF6",
           "radialaxis": {
            "gridcolor": "white",
            "linecolor": "white",
            "ticks": ""
           }
          },
          "scene": {
           "xaxis": {
            "backgroundcolor": "#E5ECF6",
            "gridcolor": "white",
            "gridwidth": 2,
            "linecolor": "white",
            "showbackground": true,
            "ticks": "",
            "zerolinecolor": "white"
           },
           "yaxis": {
            "backgroundcolor": "#E5ECF6",
            "gridcolor": "white",
            "gridwidth": 2,
            "linecolor": "white",
            "showbackground": true,
            "ticks": "",
            "zerolinecolor": "white"
           },
           "zaxis": {
            "backgroundcolor": "#E5ECF6",
            "gridcolor": "white",
            "gridwidth": 2,
            "linecolor": "white",
            "showbackground": true,
            "ticks": "",
            "zerolinecolor": "white"
           }
          },
          "shapedefaults": {
           "line": {
            "color": "#2a3f5f"
           }
          },
          "ternary": {
           "aaxis": {
            "gridcolor": "white",
            "linecolor": "white",
            "ticks": ""
           },
           "baxis": {
            "gridcolor": "white",
            "linecolor": "white",
            "ticks": ""
           },
           "bgcolor": "#E5ECF6",
           "caxis": {
            "gridcolor": "white",
            "linecolor": "white",
            "ticks": ""
           }
          },
          "title": {
           "x": 0.05
          },
          "xaxis": {
           "automargin": true,
           "gridcolor": "white",
           "linecolor": "white",
           "ticks": "",
           "title": {
            "standoff": 15
           },
           "zerolinecolor": "white",
           "zerolinewidth": 2
          },
          "yaxis": {
           "automargin": true,
           "gridcolor": "white",
           "linecolor": "white",
           "ticks": "",
           "title": {
            "standoff": 15
           },
           "zerolinecolor": "white",
           "zerolinewidth": 2
          }
         }
        },
        "xaxis": {
         "anchor": "y",
         "domain": [
          0,
          1
         ],
         "title": {
          "text": "Amount"
         }
        },
        "yaxis": {
         "anchor": "x",
         "domain": [
          0,
          1
         ],
         "title": {
          "text": "Profit"
         }
        }
       }
      }
     },
     "metadata": {},
     "output_type": "display_data"
    }
   ],
   "source": [
    "fig = px.scatter(\n",
    "    df,\n",
    "    x='Amount',\n",
    "    y='Profit',\n",
    "    color='Category',\n",
    "    size='Quantity',\n",
    "    hover_data=['CustomerName', 'City']\n",
    ")\n",
    "fig.show()\n"
   ]
  },
  {
   "cell_type": "code",
   "execution_count": null,
   "id": "87c5dbfa",
   "metadata": {},
   "outputs": [
    {
     "data": {
      "image/png": "[encoded data removed]",
      "text/plain": [
       "<Figure size 750x750 with 12 Axes>"
      ]
     },
     "metadata": {},
     "output_type": "display_data"
    }
   ],
   "source": [
    "sns.pairplot(df[['Amount','Profit','Quantity']], diag_kind='kde')\n",
    "plt.show()"
   ]
  },
  {
   "cell_type": "code",
   "execution_count": null,
   "id": "cd709d40",
   "metadata": {},
   "outputs": [],
   "source": [
    "numeric_df = df.select_dtypes(include=['number'])\n",
    "corr_matrix = numeric_df.corr()"
   ]
  },
  {
   "cell_type": "code",
   "execution_count": null,
   "id": "01ac0df4",
   "metadata": {},
   "outputs": [
    {
     "data": {
      "image/png": "[encoded data removed]",
      "text/plain": [
       "<Figure size 1000x600 with 2 Axes>"
      ]
     },
     "metadata": {},
     "output_type": "display_data"
    }
   ],
   "source": [
    "plt.figure(figsize=(10,6))\n",
    "sns.heatmap(corr_matrix, annot=True, cmap='coolwarm', linewidths=0.5)\n",
    "plt.show()"
   ]
  },
  {
   "cell_type": "code",
   "execution_count": null,
   "id": "c5fac1b9",
   "metadata": {},
   "outputs": [
    {
     "data": {
      "image/png": "[encoded data removed]",
      "text/plain": [
       "<Figure size 1000x600 with 1 Axes>"
      ]
     },
     "metadata": {},
     "output_type": "display_data"
    }
   ],
   "source": [
    "plt.figure(figsize=(10,6))\n",
    "sns.boxplot(data=df, x='Category', y='Profit')\n",
    "plt.title('Profit Distribution by Category')\n",
    "plt.show()"
   ]
  }
 ],
 "metadata": {
  "kernelspec": {
   "display_name": "Python 3",
   "language": "python",
   "name": "python3"
  },
  "language_info": {
   "codemirror_mode": {
    "name": "ipython",
    "version": 3
   },
   "file_extension": ".py",
   "mimetype": "text/x-python",
   "name": "python",
   "nbconvert_exporter": "python",
   "pygments_lexer": "ipython3",
   "version": "3.12.10"
  }
 },
 "nbformat": 4,
 "nbformat_minor": 5
}
